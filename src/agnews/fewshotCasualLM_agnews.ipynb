{
 "cells": [
  {
   "cell_type": "markdown",
   "metadata": {},
   "source": [
    "# Few-Shot Prompting on agnews\n",
    "\n",
    "- total number of train samples: 1 or 2 per label\n",
    "- total number of test&nbsp; samples: 500\n",
    "- model: Casual LM\n",
    "- dataset: agnews\n",
    "\n",
    "TESTS:\n",
    "1. DeepSeek-R1-Distill-Qwen-1.5B - 1ex per label\n",
    "2. DeepSeek-R1-Distill-Qwen-1.5B - 2ex per label\n",
    "3. Llama-2-7b-hf - 1ex per label\n",
    "4. Llama-2-7b-hf - 2ex per label"
   ]
  },
  {
   "cell_type": "code",
   "execution_count": 1,
   "metadata": {},
   "outputs": [],
   "source": [
    "import os\n",
    "import pandas as pd\n",
    "import matplotlib.pyplot as plt\n",
    "import json\n",
    "import torch\n",
    "from sklearn.model_selection import train_test_split\n",
    "from transformers import AutoModelForCausalLM, AutoTokenizer, LlamaTokenizer, LlamaForCausalLM, BitsAndBytesConfig\n",
    "\n",
    "# CHANGE WORKING DIRECTORY TO ROOT\n",
    "current_dir = os.path.basename(os.getcwd())\n",
    "if current_dir == \"src\":\n",
    "    os.chdir(\"..\") # Move up by 1\n",
    "elif os.path.basename(os.getcwd()) == \"bai-thesis-nlp\":  \n",
    "    pass # If already at root, stay there\n",
    "else:\n",
    "    os.chdir(\"../..\") # Move up by 2 otherwise\n",
    "     \n",
    "from src._utils._run_fewshotCasualLM import main_fewshot_classification\n",
    "from src._utils._helpers import log_synthetic_data, response2json, get_response, set_seed, clear_cuda_cache, get_generated_examples_df"
   ]
  },
  {
   "cell_type": "code",
   "execution_count": 2,
   "metadata": {},
   "outputs": [],
   "source": [
    "FOLDER_DIR = \"src/agnews/experiments/fewshotCasualLM_500samples\"\n",
    "os.makedirs(FOLDER_DIR, exist_ok=True)\n",
    "LOG_FILE = os.path.join(FOLDER_DIR, \"fewshotCasualLM.json\")\n",
    "\n",
    "### LOAD DATA ###\n",
    "# real data\n",
    "real_train_df = pd.read_csv(\"real_data/train/agnewstrainAll.csv\").rename(columns={\"2\": \"text\", \"3\": \"label\"})\n",
    "real_train_df.drop(columns=[\"0\", \"1\"], inplace=True)\n",
    "\n",
    "# # Take 500 samples for dev set\n",
    "# real_train_df, dev_df = train_test_split(real_train_df, test_size=500, random_state=42, stratify=real_train_df[\"label\"])\n",
    "# # Store the dev set into a CSV file\n",
    "# dev_df.to_csv(os.path.join(FOLDER_DIR, \"dev_set.csv\"), index=False)\n",
    "\n",
    "dev_df = pd.read_csv(\"src/agnews/experiments/RoBERTA_500samples/dev_set.csv\")\n",
    "model = None"
   ]
  },
  {
   "cell_type": "code",
   "execution_count": 3,
   "metadata": {},
   "outputs": [
    {
     "name": "stdout",
     "output_type": "stream",
     "text": [
      "1 example per label\n"
     ]
    },
    {
     "data": {
      "text/html": [
       "<div>\n",
       "<style scoped>\n",
       "    .dataframe tbody tr th:only-of-type {\n",
       "        vertical-align: middle;\n",
       "    }\n",
       "\n",
       "    .dataframe tbody tr th {\n",
       "        vertical-align: top;\n",
       "    }\n",
       "\n",
       "    .dataframe thead th {\n",
       "        text-align: right;\n",
       "    }\n",
       "</style>\n",
       "<table border=\"1\" class=\"dataframe\">\n",
       "  <thead>\n",
       "    <tr style=\"text-align: right;\">\n",
       "      <th></th>\n",
       "      <th>text</th>\n",
       "      <th>label</th>\n",
       "    </tr>\n",
       "  </thead>\n",
       "  <tbody>\n",
       "    <tr>\n",
       "      <th>0</th>\n",
       "      <td>Wal-Mart amasses more data about the products ...</td>\n",
       "      <td>Business</td>\n",
       "    </tr>\n",
       "    <tr>\n",
       "      <th>1</th>\n",
       "      <td>AP - Three-dimensional movies at home, without...</td>\n",
       "      <td>Sci/Tech</td>\n",
       "    </tr>\n",
       "    <tr>\n",
       "      <th>2</th>\n",
       "      <td>World number one Roger Federer was stretched t...</td>\n",
       "      <td>Sports</td>\n",
       "    </tr>\n",
       "    <tr>\n",
       "      <th>3</th>\n",
       "      <td>Rebels blew up a pipeline inside an oilfield i...</td>\n",
       "      <td>World</td>\n",
       "    </tr>\n",
       "  </tbody>\n",
       "</table>\n",
       "</div>"
      ],
      "text/plain": [
       "                                                text     label\n",
       "0  Wal-Mart amasses more data about the products ...  Business\n",
       "1  AP - Three-dimensional movies at home, without...  Sci/Tech\n",
       "2  World number one Roger Federer was stretched t...    Sports\n",
       "3  Rebels blew up a pipeline inside an oilfield i...     World"
      ]
     },
     "metadata": {},
     "output_type": "display_data"
    },
    {
     "name": "stdout",
     "output_type": "stream",
     "text": [
      "2 examples per label\n"
     ]
    },
    {
     "data": {
      "text/html": [
       "<div>\n",
       "<style scoped>\n",
       "    .dataframe tbody tr th:only-of-type {\n",
       "        vertical-align: middle;\n",
       "    }\n",
       "\n",
       "    .dataframe tbody tr th {\n",
       "        vertical-align: top;\n",
       "    }\n",
       "\n",
       "    .dataframe thead th {\n",
       "        text-align: right;\n",
       "    }\n",
       "</style>\n",
       "<table border=\"1\" class=\"dataframe\">\n",
       "  <thead>\n",
       "    <tr style=\"text-align: right;\">\n",
       "      <th></th>\n",
       "      <th>text</th>\n",
       "      <th>label</th>\n",
       "    </tr>\n",
       "  </thead>\n",
       "  <tbody>\n",
       "    <tr>\n",
       "      <th>0</th>\n",
       "      <td>Wal-Mart amasses more data about the products ...</td>\n",
       "      <td>Business</td>\n",
       "    </tr>\n",
       "    <tr>\n",
       "      <th>1</th>\n",
       "      <td>Business Week has reached outside its own rank...</td>\n",
       "      <td>Business</td>\n",
       "    </tr>\n",
       "    <tr>\n",
       "      <th>2</th>\n",
       "      <td>AP - Three-dimensional movies at home, without...</td>\n",
       "      <td>Sci/Tech</td>\n",
       "    </tr>\n",
       "    <tr>\n",
       "      <th>3</th>\n",
       "      <td>Low initial shipment figures for Sony #39;s fo...</td>\n",
       "      <td>Sci/Tech</td>\n",
       "    </tr>\n",
       "    <tr>\n",
       "      <th>4</th>\n",
       "      <td>World number one Roger Federer was stretched t...</td>\n",
       "      <td>Sports</td>\n",
       "    </tr>\n",
       "    <tr>\n",
       "      <th>5</th>\n",
       "      <td>MILTON -- If you could build a prototype Mansf...</td>\n",
       "      <td>Sports</td>\n",
       "    </tr>\n",
       "    <tr>\n",
       "      <th>6</th>\n",
       "      <td>Rebels blew up a pipeline inside an oilfield i...</td>\n",
       "      <td>World</td>\n",
       "    </tr>\n",
       "    <tr>\n",
       "      <th>7</th>\n",
       "      <td>SEOUL, South Korea - A huge mushroom cloud tha...</td>\n",
       "      <td>World</td>\n",
       "    </tr>\n",
       "  </tbody>\n",
       "</table>\n",
       "</div>"
      ],
      "text/plain": [
       "                                                text     label\n",
       "0  Wal-Mart amasses more data about the products ...  Business\n",
       "1  Business Week has reached outside its own rank...  Business\n",
       "2  AP - Three-dimensional movies at home, without...  Sci/Tech\n",
       "3  Low initial shipment figures for Sony #39;s fo...  Sci/Tech\n",
       "4  World number one Roger Federer was stretched t...    Sports\n",
       "5  MILTON -- If you could build a prototype Mansf...    Sports\n",
       "6  Rebels blew up a pipeline inside an oilfield i...     World\n",
       "7  SEOUL, South Korea - A huge mushroom cloud tha...     World"
      ]
     },
     "metadata": {},
     "output_type": "display_data"
    }
   ],
   "source": [
    "def get_results(details):\n",
    "    \"\"\"Just get useful results from the details\"\"\"\n",
    "    res = details[\"metrics_test\"]\n",
    "    res[\"method\"] = details[\"output_file\"].split(\"/\")[-1].replace(\"fewshot_\", \"\").replace(\".csv\", \"\")\n",
    "    res[\"eval_time\"] = details[\"eval_time\"]\n",
    "    \n",
    "    df = pd.DataFrame([res])\n",
    "    new_order = [\"method\"] + [col for col in df.columns if col != \"method\"]\n",
    "    df = df[new_order]\n",
    "    display(df.round(3))\n",
    "    return df\n",
    "\n",
    "def get_n_examples_per_label(df, n):\n",
    "    return df.groupby('label')[['text', 'label']].apply(\n",
    "                lambda x: x.sample(n, random_state=42)\n",
    "            ).reset_index(drop=True)\n",
    "\n",
    "# take n examples per label\n",
    "_1ex_perlabel = get_n_examples_per_label(real_train_df, 1)\n",
    "\n",
    "_2ex_perlabel = get_n_examples_per_label(real_train_df, 2)\n",
    "\n",
    "print(\"1 example per label\")\n",
    "display(_1ex_perlabel)\n",
    "print(\"2 examples per label\")\n",
    "display(_2ex_perlabel)"
   ]
  },
  {
   "cell_type": "markdown",
   "metadata": {},
   "source": [
    "# 1. DeepSeek-R1-Distill-Qwen-1.5B - 1ex per label"
   ]
  },
  {
   "cell_type": "code",
   "execution_count": 4,
   "metadata": {},
   "outputs": [],
   "source": [
    "if model:\n",
    "    clear_cuda_cache(model)\n",
    "\n",
    "model_name = \"deepseek-ai/DeepSeek-R1-Distill-Qwen-1.5B\"\n",
    "quantization_config = BitsAndBytesConfig(load_in_4bit=True, bnb_4bit_compute_dtype=torch.float16)\n",
    "\n",
    "model = AutoModelForCausalLM.from_pretrained(\n",
    "    model_name,\n",
    "    torch_dtype=torch.float16,\n",
    "    attn_implementation='flash_attention_2',\n",
    "    quantization_config=quantization_config,\n",
    "    low_cpu_mem_usage=True\n",
    ").to(\"cuda\")\n",
    "tokenizer = AutoTokenizer.from_pretrained(model_name)\n",
    "model.generation_config.pad_token_id = tokenizer.pad_token_id"
   ]
  },
  {
   "cell_type": "code",
   "execution_count": 5,
   "metadata": {},
   "outputs": [
    {
     "name": "stdout",
     "output_type": "stream",
     "text": [
      "\n",
      "🚀 Starting Few-Shot Classification\n",
      "📊 Dataset         : agnews\n",
      "📚 Experiment      : fewshot_classification\n",
      "🤖 Model           : deepseek-ai/DeepSeek-R1-Distill-Qwen-1.5B\n",
      "💾 Output File     : src/agnews/experiments/fewshotCasualLM_500samples/fewshot_deepseek_1ex4label.csv\n",
      "🎯 Seed            : 42\n",
      "\n"
     ]
    },
    {
     "name": "stderr",
     "output_type": "stream",
     "text": [
      "Processing examples: 100%|██████████| 500/500 [01:33<00:00,  5.36it/s]\n"
     ]
    },
    {
     "name": "stdout",
     "output_type": "stream",
     "text": [
      "📝 Log saved successfully to: src/agnews/experiments/fewshotCasualLM_500samples/fewshotCasualLM.json\n",
      "💾 Predictions saved to: src/agnews/experiments/fewshotCasualLM_500samples/fewshot_deepseek_1ex4label.csv\n"
     ]
    },
    {
     "data": {
      "text/html": [
       "<div>\n",
       "<style scoped>\n",
       "    .dataframe tbody tr th:only-of-type {\n",
       "        vertical-align: middle;\n",
       "    }\n",
       "\n",
       "    .dataframe tbody tr th {\n",
       "        vertical-align: top;\n",
       "    }\n",
       "\n",
       "    .dataframe thead th {\n",
       "        text-align: right;\n",
       "    }\n",
       "</style>\n",
       "<table border=\"1\" class=\"dataframe\">\n",
       "  <thead>\n",
       "    <tr style=\"text-align: right;\">\n",
       "      <th></th>\n",
       "      <th>method</th>\n",
       "      <th>f1_micro</th>\n",
       "      <th>f1_macro</th>\n",
       "      <th>accuracy</th>\n",
       "      <th>eval_time</th>\n",
       "    </tr>\n",
       "  </thead>\n",
       "  <tbody>\n",
       "    <tr>\n",
       "      <th>0</th>\n",
       "      <td>deepseek_1ex4label</td>\n",
       "      <td>0.472</td>\n",
       "      <td>0.437</td>\n",
       "      <td>0.472</td>\n",
       "      <td>93.243</td>\n",
       "    </tr>\n",
       "  </tbody>\n",
       "</table>\n",
       "</div>"
      ],
      "text/plain": [
       "               method  f1_micro  f1_macro  accuracy  eval_time\n",
       "0  deepseek_1ex4label     0.472     0.437     0.472     93.243"
      ]
     },
     "metadata": {},
     "output_type": "display_data"
    }
   ],
   "source": [
    "results = []\n",
    "instruction = \"Classify the following texts into one of the given categories\"\n",
    "name = \"fewshot_deepseek_1ex4label.csv\"\n",
    "\n",
    "config = {\n",
    "    \"dataset_name\": \"agnews\",\n",
    "    \"experiment_name\": \"fewshot_classification\",\n",
    "    \"fewshot_df\": _1ex_perlabel,\n",
    "    \"test_df\": dev_df,\n",
    "    \"instruction\": instruction,\n",
    "    \"model\": model,\n",
    "    \"tokenizer\": tokenizer,\n",
    "    \"output_file\": os.path.join(FOLDER_DIR, name),\n",
    "    \"log_file\": LOG_FILE,\n",
    "    \"seed\": 42,\n",
    "}\n",
    "\n",
    "details = main_fewshot_classification(config)\n",
    "results.append(get_results(details))"
   ]
  },
  {
   "cell_type": "code",
   "execution_count": 6,
   "metadata": {},
   "outputs": [
    {
     "data": {
      "text/html": [
       "<div>\n",
       "<style scoped>\n",
       "    .dataframe tbody tr th:only-of-type {\n",
       "        vertical-align: middle;\n",
       "    }\n",
       "\n",
       "    .dataframe tbody tr th {\n",
       "        vertical-align: top;\n",
       "    }\n",
       "\n",
       "    .dataframe thead th {\n",
       "        text-align: right;\n",
       "    }\n",
       "</style>\n",
       "<table border=\"1\" class=\"dataframe\">\n",
       "  <thead>\n",
       "    <tr style=\"text-align: right;\">\n",
       "      <th></th>\n",
       "      <th>text</th>\n",
       "      <th>label</th>\n",
       "      <th>predicted_label</th>\n",
       "    </tr>\n",
       "  </thead>\n",
       "  <tbody>\n",
       "    <tr>\n",
       "      <th>0</th>\n",
       "      <td>NEW DELHI, SEPTEMBER 17: The Cabinet today app...</td>\n",
       "      <td>World</td>\n",
       "      <td>Business</td>\n",
       "    </tr>\n",
       "    <tr>\n",
       "      <th>1</th>\n",
       "      <td>In LONDON story headlined  quot;Van Nistelrooy...</td>\n",
       "      <td>Sports</td>\n",
       "      <td>World</td>\n",
       "    </tr>\n",
       "    <tr>\n",
       "      <th>2</th>\n",
       "      <td>A new report from Congress #39; research arm a...</td>\n",
       "      <td>Business</td>\n",
       "      <td>Sci/Tech</td>\n",
       "    </tr>\n",
       "    <tr>\n",
       "      <th>3</th>\n",
       "      <td>The head of the U.N. nuclear watchdog agency s...</td>\n",
       "      <td>World</td>\n",
       "      <td>Business</td>\n",
       "    </tr>\n",
       "    <tr>\n",
       "      <th>4</th>\n",
       "      <td>A years-long phenomenon continues as crowds ga...</td>\n",
       "      <td>Sci/Tech</td>\n",
       "      <td>Business</td>\n",
       "    </tr>\n",
       "  </tbody>\n",
       "</table>\n",
       "</div>"
      ],
      "text/plain": [
       "                                                text     label predicted_label\n",
       "0  NEW DELHI, SEPTEMBER 17: The Cabinet today app...     World        Business\n",
       "1  In LONDON story headlined  quot;Van Nistelrooy...    Sports           World\n",
       "2  A new report from Congress #39; research arm a...  Business        Sci/Tech\n",
       "3  The head of the U.N. nuclear watchdog agency s...     World        Business\n",
       "4  A years-long phenomenon continues as crowds ga...  Sci/Tech        Business"
      ]
     },
     "metadata": {},
     "output_type": "display_data"
    }
   ],
   "source": [
    "df_res = pd.read_csv(config[\"output_file\"])\n",
    "display(df_res.head())"
   ]
  },
  {
   "cell_type": "markdown",
   "metadata": {},
   "source": [
    "# 2. DeepSeek-R1-Distill-Qwen-1.5B - 2ex per label"
   ]
  },
  {
   "cell_type": "code",
   "execution_count": 7,
   "metadata": {},
   "outputs": [
    {
     "name": "stdout",
     "output_type": "stream",
     "text": [
      "\n",
      "🚀 Starting Few-Shot Classification\n",
      "📊 Dataset         : agnews\n",
      "📚 Experiment      : fewshot_classification\n",
      "🤖 Model           : deepseek-ai/DeepSeek-R1-Distill-Qwen-1.5B\n",
      "💾 Output File     : src/agnews/experiments/fewshotCasualLM_500samples/fewshot_deepseek_2ex4label.csv\n",
      "🎯 Seed            : 42\n",
      "\n"
     ]
    },
    {
     "name": "stderr",
     "output_type": "stream",
     "text": [
      "Processing examples: 100%|██████████| 500/500 [01:44<00:00,  4.79it/s]"
     ]
    },
    {
     "name": "stdout",
     "output_type": "stream",
     "text": [
      "📝 Log saved successfully to: src/agnews/experiments/fewshotCasualLM_500samples/fewshotCasualLM.json\n",
      "💾 Predictions saved to: src/agnews/experiments/fewshotCasualLM_500samples/fewshot_deepseek_2ex4label.csv\n"
     ]
    },
    {
     "name": "stderr",
     "output_type": "stream",
     "text": [
      "\n"
     ]
    },
    {
     "data": {
      "text/html": [
       "<div>\n",
       "<style scoped>\n",
       "    .dataframe tbody tr th:only-of-type {\n",
       "        vertical-align: middle;\n",
       "    }\n",
       "\n",
       "    .dataframe tbody tr th {\n",
       "        vertical-align: top;\n",
       "    }\n",
       "\n",
       "    .dataframe thead th {\n",
       "        text-align: right;\n",
       "    }\n",
       "</style>\n",
       "<table border=\"1\" class=\"dataframe\">\n",
       "  <thead>\n",
       "    <tr style=\"text-align: right;\">\n",
       "      <th></th>\n",
       "      <th>method</th>\n",
       "      <th>f1_micro</th>\n",
       "      <th>f1_macro</th>\n",
       "      <th>accuracy</th>\n",
       "      <th>eval_time</th>\n",
       "    </tr>\n",
       "  </thead>\n",
       "  <tbody>\n",
       "    <tr>\n",
       "      <th>0</th>\n",
       "      <td>deepseek_2ex4label</td>\n",
       "      <td>0.282</td>\n",
       "      <td>0.254</td>\n",
       "      <td>0.282</td>\n",
       "      <td>104.438</td>\n",
       "    </tr>\n",
       "  </tbody>\n",
       "</table>\n",
       "</div>"
      ],
      "text/plain": [
       "               method  f1_micro  f1_macro  accuracy  eval_time\n",
       "0  deepseek_2ex4label     0.282     0.254     0.282    104.438"
      ]
     },
     "metadata": {},
     "output_type": "display_data"
    }
   ],
   "source": [
    "name = \"fewshot_deepseek_2ex4label.csv\"\n",
    "\n",
    "config = {\n",
    "    \"dataset_name\": \"agnews\",\n",
    "    \"experiment_name\": \"fewshot_classification\",\n",
    "    \"fewshot_df\": _2ex_perlabel,\n",
    "    \"test_df\": dev_df,\n",
    "    \"instruction\": instruction,\n",
    "    \"model\": model,\n",
    "    \"tokenizer\": tokenizer,\n",
    "    \"output_file\": os.path.join(FOLDER_DIR, name),\n",
    "    \"log_file\": LOG_FILE,\n",
    "    \"seed\": 42,\n",
    "}\n",
    "\n",
    "details = main_fewshot_classification(config)\n",
    "results.append(get_results(details))"
   ]
  },
  {
   "cell_type": "markdown",
   "metadata": {},
   "source": [
    "# 3. Llama-2-7b-hf - 1ex per label"
   ]
  },
  {
   "cell_type": "code",
   "execution_count": 8,
   "metadata": {},
   "outputs": [
    {
     "data": {
      "application/vnd.jupyter.widget-view+json": {
       "model_id": "24dd2f8b151843fd94b676ca0582708d",
       "version_major": 2,
       "version_minor": 0
      },
      "text/plain": [
       "Loading checkpoint shards:   0%|          | 0/2 [00:00<?, ?it/s]"
      ]
     },
     "metadata": {},
     "output_type": "display_data"
    }
   ],
   "source": [
    "if model:\n",
    "    clear_cuda_cache(model)\n",
    "\n",
    "quantization_config = BitsAndBytesConfig(load_in_4bit=True, bnb_4bit_compute_dtype=torch.float16)\n",
    "model_name = \"meta-llama/Llama-2-7b-hf\"\n",
    "token = ''\n",
    "model = LlamaForCausalLM.from_pretrained(\n",
    "            model_name, \n",
    "            token=token,\n",
    "            torch_dtype=torch.float16,\n",
    "            attn_implementation='flash_attention_2',\n",
    "            quantization_config=quantization_config,\n",
    "            low_cpu_mem_usage=True\n",
    "        ).to(\"cuda\")\n",
    "\n",
    "tokenizer = LlamaTokenizer.from_pretrained(model_name, token=token)"
   ]
  },
  {
   "cell_type": "code",
   "execution_count": 9,
   "metadata": {},
   "outputs": [
    {
     "name": "stdout",
     "output_type": "stream",
     "text": [
      "\n",
      "🚀 Starting Few-Shot Classification\n",
      "📊 Dataset         : agnews\n",
      "📚 Experiment      : fewshot_classification\n",
      "🤖 Model           : meta-llama/Llama-2-7b-hf\n",
      "💾 Output File     : src/agnews/experiments/fewshotCasualLM_500samples/fewshot_llama2_1ex4label.csv\n",
      "🎯 Seed            : 42\n",
      "\n"
     ]
    },
    {
     "name": "stderr",
     "output_type": "stream",
     "text": [
      "Processing examples: 100%|██████████| 500/500 [04:02<00:00,  2.06it/s]"
     ]
    },
    {
     "name": "stdout",
     "output_type": "stream",
     "text": [
      "📝 Log saved successfully to: src/agnews/experiments/fewshotCasualLM_500samples/fewshotCasualLM.json\n",
      "💾 Predictions saved to: src/agnews/experiments/fewshotCasualLM_500samples/fewshot_llama2_1ex4label.csv\n"
     ]
    },
    {
     "name": "stderr",
     "output_type": "stream",
     "text": [
      "\n"
     ]
    },
    {
     "data": {
      "text/html": [
       "<div>\n",
       "<style scoped>\n",
       "    .dataframe tbody tr th:only-of-type {\n",
       "        vertical-align: middle;\n",
       "    }\n",
       "\n",
       "    .dataframe tbody tr th {\n",
       "        vertical-align: top;\n",
       "    }\n",
       "\n",
       "    .dataframe thead th {\n",
       "        text-align: right;\n",
       "    }\n",
       "</style>\n",
       "<table border=\"1\" class=\"dataframe\">\n",
       "  <thead>\n",
       "    <tr style=\"text-align: right;\">\n",
       "      <th></th>\n",
       "      <th>method</th>\n",
       "      <th>f1_micro</th>\n",
       "      <th>f1_macro</th>\n",
       "      <th>accuracy</th>\n",
       "      <th>eval_time</th>\n",
       "    </tr>\n",
       "  </thead>\n",
       "  <tbody>\n",
       "    <tr>\n",
       "      <th>0</th>\n",
       "      <td>llama2_1ex4label</td>\n",
       "      <td>0.668</td>\n",
       "      <td>0.433</td>\n",
       "      <td>0.668</td>\n",
       "      <td>242.899</td>\n",
       "    </tr>\n",
       "  </tbody>\n",
       "</table>\n",
       "</div>"
      ],
      "text/plain": [
       "             method  f1_micro  f1_macro  accuracy  eval_time\n",
       "0  llama2_1ex4label     0.668     0.433     0.668    242.899"
      ]
     },
     "metadata": {},
     "output_type": "display_data"
    }
   ],
   "source": [
    "name = \"fewshot_llama2_1ex4label.csv\"\n",
    "\n",
    "config = {\n",
    "    \"dataset_name\": \"agnews\",\n",
    "    \"experiment_name\": \"fewshot_classification\",\n",
    "    \"fewshot_df\": _1ex_perlabel,\n",
    "    \"test_df\": dev_df,\n",
    "    \"instruction\": instruction,\n",
    "    \"model\": model,\n",
    "    \"tokenizer\": tokenizer,\n",
    "    \"output_file\": os.path.join(FOLDER_DIR, name),\n",
    "    \"log_file\": LOG_FILE,\n",
    "    \"seed\": 42,\n",
    "}\n",
    "\n",
    "details = main_fewshot_classification(config)\n",
    "results.append(get_results(details))"
   ]
  },
  {
   "cell_type": "markdown",
   "metadata": {},
   "source": [
    "# 4. Llama-2-7b-hf - 2ex per label"
   ]
  },
  {
   "cell_type": "code",
   "execution_count": 10,
   "metadata": {},
   "outputs": [
    {
     "name": "stdout",
     "output_type": "stream",
     "text": [
      "\n",
      "🚀 Starting Few-Shot Classification\n",
      "📊 Dataset         : agnews\n",
      "📚 Experiment      : fewshot_classification\n",
      "🤖 Model           : meta-llama/Llama-2-7b-hf\n",
      "💾 Output File     : src/agnews/experiments/fewshotCasualLM_500samples/fewshot_llama2_2ex4label.csv\n",
      "🎯 Seed            : 42\n",
      "\n"
     ]
    },
    {
     "name": "stderr",
     "output_type": "stream",
     "text": [
      "Processing examples: 100%|██████████| 500/500 [04:29<00:00,  1.85it/s]"
     ]
    },
    {
     "name": "stdout",
     "output_type": "stream",
     "text": [
      "📝 Log saved successfully to: src/agnews/experiments/fewshotCasualLM_500samples/fewshotCasualLM.json\n",
      "💾 Predictions saved to: src/agnews/experiments/fewshotCasualLM_500samples/fewshot_llama2_2ex4label.csv\n"
     ]
    },
    {
     "name": "stderr",
     "output_type": "stream",
     "text": [
      "\n"
     ]
    },
    {
     "data": {
      "text/html": [
       "<div>\n",
       "<style scoped>\n",
       "    .dataframe tbody tr th:only-of-type {\n",
       "        vertical-align: middle;\n",
       "    }\n",
       "\n",
       "    .dataframe tbody tr th {\n",
       "        vertical-align: top;\n",
       "    }\n",
       "\n",
       "    .dataframe thead th {\n",
       "        text-align: right;\n",
       "    }\n",
       "</style>\n",
       "<table border=\"1\" class=\"dataframe\">\n",
       "  <thead>\n",
       "    <tr style=\"text-align: right;\">\n",
       "      <th></th>\n",
       "      <th>method</th>\n",
       "      <th>f1_micro</th>\n",
       "      <th>f1_macro</th>\n",
       "      <th>accuracy</th>\n",
       "      <th>eval_time</th>\n",
       "    </tr>\n",
       "  </thead>\n",
       "  <tbody>\n",
       "    <tr>\n",
       "      <th>0</th>\n",
       "      <td>llama2_2ex4label</td>\n",
       "      <td>0.834</td>\n",
       "      <td>0.53</td>\n",
       "      <td>0.834</td>\n",
       "      <td>269.591</td>\n",
       "    </tr>\n",
       "  </tbody>\n",
       "</table>\n",
       "</div>"
      ],
      "text/plain": [
       "             method  f1_micro  f1_macro  accuracy  eval_time\n",
       "0  llama2_2ex4label     0.834      0.53     0.834    269.591"
      ]
     },
     "metadata": {},
     "output_type": "display_data"
    }
   ],
   "source": [
    "name = \"fewshot_llama2_2ex4label.csv\"\n",
    "\n",
    "config = {\n",
    "    \"dataset_name\": \"agnews\",\n",
    "    \"experiment_name\": \"fewshot_classification\",\n",
    "    \"fewshot_df\": _2ex_perlabel,\n",
    "    \"test_df\": dev_df,\n",
    "    \"instruction\": instruction,\n",
    "    \"model\": model,\n",
    "    \"tokenizer\": tokenizer,\n",
    "    \"output_file\": os.path.join(FOLDER_DIR, name),\n",
    "    \"log_file\": LOG_FILE,\n",
    "    \"seed\": 42,\n",
    "}\n",
    "\n",
    "details = main_fewshot_classification(config)\n",
    "results.append(get_results(details))"
   ]
  },
  {
   "cell_type": "markdown",
   "metadata": {},
   "source": [
    "# Results"
   ]
  },
  {
   "cell_type": "code",
   "execution_count": 11,
   "metadata": {},
   "outputs": [
    {
     "data": {
      "text/html": [
       "<div>\n",
       "<style scoped>\n",
       "    .dataframe tbody tr th:only-of-type {\n",
       "        vertical-align: middle;\n",
       "    }\n",
       "\n",
       "    .dataframe tbody tr th {\n",
       "        vertical-align: top;\n",
       "    }\n",
       "\n",
       "    .dataframe thead th {\n",
       "        text-align: right;\n",
       "    }\n",
       "</style>\n",
       "<table border=\"1\" class=\"dataframe\">\n",
       "  <thead>\n",
       "    <tr style=\"text-align: right;\">\n",
       "      <th></th>\n",
       "      <th>method</th>\n",
       "      <th>f1_micro</th>\n",
       "      <th>f1_macro</th>\n",
       "      <th>accuracy</th>\n",
       "      <th>eval_time</th>\n",
       "    </tr>\n",
       "  </thead>\n",
       "  <tbody>\n",
       "    <tr>\n",
       "      <th>0</th>\n",
       "      <td>deepseek_1ex4label</td>\n",
       "      <td>0.472</td>\n",
       "      <td>0.437</td>\n",
       "      <td>0.472</td>\n",
       "      <td>93.243</td>\n",
       "    </tr>\n",
       "    <tr>\n",
       "      <th>1</th>\n",
       "      <td>deepseek_2ex4label</td>\n",
       "      <td>0.282</td>\n",
       "      <td>0.254</td>\n",
       "      <td>0.282</td>\n",
       "      <td>104.438</td>\n",
       "    </tr>\n",
       "    <tr>\n",
       "      <th>2</th>\n",
       "      <td>llama2_1ex4label</td>\n",
       "      <td>0.668</td>\n",
       "      <td>0.433</td>\n",
       "      <td>0.668</td>\n",
       "      <td>242.899</td>\n",
       "    </tr>\n",
       "    <tr>\n",
       "      <th>3</th>\n",
       "      <td>llama2_2ex4label</td>\n",
       "      <td>0.834</td>\n",
       "      <td>0.530</td>\n",
       "      <td>0.834</td>\n",
       "      <td>269.591</td>\n",
       "    </tr>\n",
       "  </tbody>\n",
       "</table>\n",
       "</div>"
      ],
      "text/plain": [
       "               method  f1_micro  f1_macro  accuracy  eval_time\n",
       "0  deepseek_1ex4label     0.472     0.437     0.472     93.243\n",
       "1  deepseek_2ex4label     0.282     0.254     0.282    104.438\n",
       "2    llama2_1ex4label     0.668     0.433     0.668    242.899\n",
       "3    llama2_2ex4label     0.834     0.530     0.834    269.591"
      ]
     },
     "metadata": {},
     "output_type": "display_data"
    }
   ],
   "source": [
    "df_results = pd.concat(results).reset_index(drop=True)\n",
    "df_results.to_csv(os.path.join(FOLDER_DIR, \"fewshotCasualLM_results_dev.csv\"), index=False)\n",
    "display(df_results.round(3))"
   ]
  },
  {
   "cell_type": "code",
   "execution_count": 12,
   "metadata": {},
   "outputs": [
    {
     "data": {
      "image/png": "[encoded data removed]",
      "text/plain": [
       "<Figure size 1300x500 with 1 Axes>"
      ]
     },
     "metadata": {},
     "output_type": "display_data"
    }
   ],
   "source": [
    "# df_results = pd.read_csv(os.path.join(FOLDER_DIR, \"fewshotCasualLM_results_dev.csv\"))\n",
    "\n",
    "plot_df = df_results.set_index('method')\n",
    "plot_df[\"eval_time_norm\"] = plot_df[\"eval_time\"] / max(plot_df[\"eval_time\"])\n",
    "plot_df.drop(columns=[\"eval_time\"], inplace=True)\n",
    "# colors = ['#ef476f', '#f78c6b', '#ffd166', '#06d6a0', '#118ab2', '#073b4c', '#aaaaaa']\n",
    "colors = ['#06d6a0', '#ffd166', '#ef476f', '#26547c']\n",
    "ax = plot_df.T.plot(kind='bar', figsize=(13, 5), color=colors)\n",
    "\n",
    "plt.title('Results on dev', fontsize=16)\n",
    "plt.xlabel('Metrics')\n",
    "plt.ylabel('Score')\n",
    "plt.xticks(rotation=0)\n",
    "plt.legend(title='Configurations', bbox_to_anchor=(1, 1), loc='upper left')\n",
    "plt.grid(True)\n",
    "\n",
    "plt.tight_layout()\n",
    "plt.show()"
   ]
  },
  {
   "cell_type": "code",
   "execution_count": null,
   "metadata": {},
   "outputs": [],
   "source": []
  }
 ],
 "metadata": {
  "kernelspec": {
   "display_name": "nlp-env",
   "language": "python",
   "name": "python3"
  },
  "language_info": {
   "codemirror_mode": {
    "name": "ipython",
    "version": 3
   },
   "file_extension": ".py",
   "mimetype": "text/x-python",
   "name": "python",
   "nbconvert_exporter": "python",
   "pygments_lexer": "ipython3",
   "version": "3.10.16"
  }
 },
 "nbformat": 4,
 "nbformat_minor": 2
}
