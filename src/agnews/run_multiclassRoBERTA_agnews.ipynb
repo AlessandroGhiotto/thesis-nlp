{
 "cells": [
  {
   "cell_type": "markdown",
   "metadata": {},
   "source": [
    "# RoBERTA on agnews\n",
    "\n",
    "- total number of train samples: 500\n",
    "- total number of test&nbsp; samples: 500\n",
    "- model: \"roberta-large\"\n",
    "- dataset: agnews\n",
    "- LLM for synthetic data generation: \"deepseek-ai/DeepSeek-R1-Distill-Qwen-1.5B\"\n",
    "\n",
    "TESTS:\n",
    "- 1&nbsp; 500 Real  \n",
    "- 2A 250 Real + 250 Generic&nbsp; Augmentation  \n",
    "- 2B 250 Real + 250 Targeted Augmentation  \n",
    "- 3A &nbsp;50 Real + 450 Generic&nbsp; Augmentation  \n",
    "- 3B &nbsp;50 Real + 450 Targeted Augmentation  \n",
    "- 4&nbsp; 500 Generic&nbsp; Augmentation  \n",
    "- 5&nbsp; 500 Targeted Augmentation  "
   ]
  },
  {
   "cell_type": "code",
   "execution_count": 2,
   "metadata": {},
   "outputs": [],
   "source": [
    "import os\n",
    "import pandas as pd\n",
    "import matplotlib.pyplot as plt\n",
    "import json\n",
    "from sklearn.model_selection import train_test_split\n",
    "\n",
    "# CHANGE WORKING DIRECTORY TO ROOT\n",
    "current_dir = os.path.basename(os.getcwd())\n",
    "if current_dir == \"src\":\n",
    "    os.chdir(\"..\") # Move up by 1\n",
    "elif os.path.basename(os.getcwd()) == \"bai-thesis-nlp\":  \n",
    "    pass # If already at root, stay there\n",
    "else:\n",
    "    os.chdir(\"../..\") # Move up by 2 otherwise\n",
    "     \n",
    "from src._utils._helpers import get_generated_examples_df\n",
    "from src._utils._run_multiclassRoBERTA import main_multiclassRoBERTA"
   ]
  },
  {
   "cell_type": "code",
   "execution_count": 3,
   "metadata": {},
   "outputs": [],
   "source": [
    "FOLDER_DIR = \"src/agnews/experiments/RoBERTA_500samples\"\n",
    "os.makedirs(FOLDER_DIR, exist_ok=True)\n",
    "LOG_DIR = os.path.join(FOLDER_DIR, \"RoBERTA_log.json\")\n",
    "\n",
    "### LOAD DATA ###\n",
    "# real data\n",
    "real_train_df = pd.read_csv(\"real_data/train/agnewstrainAll.csv\").rename(columns={\"2\": \"text\", \"3\": \"label\"})\n",
    "real_train_df.drop(columns=[\"0\", \"1\"], inplace=True)\n",
    "\n",
    "# Take 500 samples for dev set\n",
    "real_train_df, dev_df = train_test_split(real_train_df, test_size=500, random_state=42, stratify=real_train_df[\"label\"])\n",
    "# Store the dev set into a CSV file\n",
    "dev_df.to_csv(os.path.join(FOLDER_DIR, \"dev_set.csv\"), index=False)\n",
    "\n",
    "# synthetic data (generic and targeted)\n",
    "syn_generic_df, _ = get_generated_examples_df(\"synthetic_data/datasets/syn_agnews_baseline_500.json\")\n",
    "syn_targeted_df, _ = get_generated_examples_df(\"synthetic_data/datasets/syn_agnews_targeted+tags_500.json\")\n",
    "syn_targeted_df = syn_targeted_df.drop(columns=[\"phenomena\"])"
   ]
  },
  {
   "cell_type": "code",
   "execution_count": 4,
   "metadata": {},
   "outputs": [],
   "source": [
    "def get_results(details):\n",
    "    \"\"\"Just get useful results from the details\"\"\"\n",
    "    res = details[\"metrics_dev\"]\n",
    "    res[\"method\"] = details[\"experiment_dir\"].split(\"/\")[-1].replace(\"exp_\", \"\")\n",
    "    res[\"train_time\"] = details[\"train_time\"]\n",
    "    res[\"eval_time\"] = details[\"eval_time\"]\n",
    "    \n",
    "    df = pd.DataFrame([res])\n",
    "    new_order = [\"method\"] + [col for col in df.columns if col != \"method\"]\n",
    "    df = df[new_order]\n",
    "    display(df.round(3))\n",
    "    return df"
   ]
  },
  {
   "cell_type": "markdown",
   "metadata": {},
   "source": [
    "## 1. 500 Real"
   ]
  },
  {
   "cell_type": "code",
   "execution_count": 5,
   "metadata": {},
   "outputs": [
    {
     "data": {
      "application/vnd.jupyter.widget-view+json": {
       "model_id": "13eee881e7c348a89d3f77f56a5760f1",
       "version_major": 2,
       "version_minor": 0
      },
      "text/plain": [
       "Map:   0%|          | 0/500 [00:00<?, ? examples/s]"
      ]
     },
     "metadata": {},
     "output_type": "display_data"
    },
    {
     "data": {
      "application/vnd.jupyter.widget-view+json": {
       "model_id": "a521abf843f64dc6b98bd9f201979881",
       "version_major": 2,
       "version_minor": 0
      },
      "text/plain": [
       "Map:   0%|          | 0/500 [00:00<?, ? examples/s]"
      ]
     },
     "metadata": {},
     "output_type": "display_data"
    },
    {
     "name": "stderr",
     "output_type": "stream",
     "text": [
      "Some weights of RobertaForSequenceClassification were not initialized from the model checkpoint at roberta-large and are newly initialized: ['classifier.dense.bias', 'classifier.dense.weight', 'classifier.out_proj.bias', 'classifier.out_proj.weight']\n",
      "You should probably TRAIN this model on a down-stream task to be able to use it for predictions and inference.\n"
     ]
    },
    {
     "data": {
      "text/html": [
       "\n",
       "    <div>\n",
       "      \n",
       "      <progress value='256' max='256' style='width:300px; height:20px; vertical-align: middle;'></progress>\n",
       "      [256/256 05:13, Epoch 8/8]\n",
       "    </div>\n",
       "    <table border=\"1\" class=\"dataframe\">\n",
       "  <thead>\n",
       " <tr style=\"text-align: left;\">\n",
       "      <th>Epoch</th>\n",
       "      <th>Training Loss</th>\n",
       "      <th>Validation Loss</th>\n",
       "      <th>F1 Micro</th>\n",
       "      <th>F1 Macro</th>\n",
       "      <th>Accuracy</th>\n",
       "    </tr>\n",
       "  </thead>\n",
       "  <tbody>\n",
       "    <tr>\n",
       "      <td>1</td>\n",
       "      <td>0.920800</td>\n",
       "      <td>0.307168</td>\n",
       "      <td>0.906000</td>\n",
       "      <td>0.862509</td>\n",
       "      <td>0.906000</td>\n",
       "    </tr>\n",
       "    <tr>\n",
       "      <td>2</td>\n",
       "      <td>0.223900</td>\n",
       "      <td>0.452858</td>\n",
       "      <td>0.896000</td>\n",
       "      <td>0.827142</td>\n",
       "      <td>0.896000</td>\n",
       "    </tr>\n",
       "    <tr>\n",
       "      <td>3</td>\n",
       "      <td>0.137500</td>\n",
       "      <td>0.354228</td>\n",
       "      <td>0.916000</td>\n",
       "      <td>0.868692</td>\n",
       "      <td>0.916000</td>\n",
       "    </tr>\n",
       "    <tr>\n",
       "      <td>4</td>\n",
       "      <td>0.058500</td>\n",
       "      <td>0.436584</td>\n",
       "      <td>0.924000</td>\n",
       "      <td>0.884980</td>\n",
       "      <td>0.924000</td>\n",
       "    </tr>\n",
       "    <tr>\n",
       "      <td>5</td>\n",
       "      <td>0.019700</td>\n",
       "      <td>0.527034</td>\n",
       "      <td>0.916000</td>\n",
       "      <td>0.879187</td>\n",
       "      <td>0.916000</td>\n",
       "    </tr>\n",
       "    <tr>\n",
       "      <td>6</td>\n",
       "      <td>0.005800</td>\n",
       "      <td>0.530325</td>\n",
       "      <td>0.914000</td>\n",
       "      <td>0.871346</td>\n",
       "      <td>0.914000</td>\n",
       "    </tr>\n",
       "    <tr>\n",
       "      <td>7</td>\n",
       "      <td>0.001000</td>\n",
       "      <td>0.532861</td>\n",
       "      <td>0.920000</td>\n",
       "      <td>0.882385</td>\n",
       "      <td>0.920000</td>\n",
       "    </tr>\n",
       "    <tr>\n",
       "      <td>8</td>\n",
       "      <td>0.000700</td>\n",
       "      <td>0.538202</td>\n",
       "      <td>0.922000</td>\n",
       "      <td>0.884604</td>\n",
       "      <td>0.922000</td>\n",
       "    </tr>\n",
       "  </tbody>\n",
       "</table><p>"
      ],
      "text/plain": [
       "<IPython.core.display.HTML object>"
      ]
     },
     "metadata": {},
     "output_type": "display_data"
    },
    {
     "name": "stdout",
     "output_type": "stream",
     "text": [
      "💾 experiment saved to: src/agnews/experiments/RoBERTA_500samples/exp_500real\n",
      "\n",
      "🗑️ save_model=False: Checkpoints deleted after training.\n",
      "\n"
     ]
    },
    {
     "data": {
      "text/html": [
       "<div>\n",
       "<style scoped>\n",
       "    .dataframe tbody tr th:only-of-type {\n",
       "        vertical-align: middle;\n",
       "    }\n",
       "\n",
       "    .dataframe tbody tr th {\n",
       "        vertical-align: top;\n",
       "    }\n",
       "\n",
       "    .dataframe thead th {\n",
       "        text-align: right;\n",
       "    }\n",
       "</style>\n",
       "<table border=\"1\" class=\"dataframe\">\n",
       "  <thead>\n",
       "    <tr style=\"text-align: right;\">\n",
       "      <th></th>\n",
       "      <th>method</th>\n",
       "      <th>f1_micro</th>\n",
       "      <th>f1_macro</th>\n",
       "      <th>accuracy</th>\n",
       "      <th>train_time</th>\n",
       "      <th>eval_time</th>\n",
       "    </tr>\n",
       "  </thead>\n",
       "  <tbody>\n",
       "    <tr>\n",
       "      <th>0</th>\n",
       "      <td>500real</td>\n",
       "      <td>0.924</td>\n",
       "      <td>0.885</td>\n",
       "      <td>0.924</td>\n",
       "      <td>317.847</td>\n",
       "      <td>8.62</td>\n",
       "    </tr>\n",
       "  </tbody>\n",
       "</table>\n",
       "</div>"
      ],
      "text/plain": [
       "    method  f1_micro  f1_macro  accuracy  train_time  eval_time\n",
       "0  500real     0.924     0.885     0.924     317.847       8.62"
      ]
     },
     "metadata": {},
     "output_type": "display_data"
    }
   ],
   "source": [
    "results = []\n",
    "name = \"exp_500real\"\n",
    "train_details = main_multiclassRoBERTA(\n",
    "    real_df=real_train_df,\n",
    "    synth_df=None,\n",
    "    dev_df=dev_df,\n",
    "    synth_ratio=0.0,\n",
    "    max_samples=500,\n",
    "    epochs=8,\n",
    "    batch_size=16,\n",
    "    output_dir=os.path.join(FOLDER_DIR, name),\n",
    "    log_dir=LOG_DIR,\n",
    "    generation_method=None,\n",
    "    save_model=False,\n",
    "    save_dataset=False,\n",
    ")\n",
    "results.append(get_results(train_details))"
   ]
  },
  {
   "cell_type": "markdown",
   "metadata": {},
   "source": [
    "## 2A. 250 Real + 250 Generic Augmentation"
   ]
  },
  {
   "cell_type": "code",
   "execution_count": 6,
   "metadata": {},
   "outputs": [
    {
     "data": {
      "application/vnd.jupyter.widget-view+json": {
       "model_id": "7806365a87b84cf18977af0a1b2302b9",
       "version_major": 2,
       "version_minor": 0
      },
      "text/plain": [
       "Map:   0%|          | 0/500 [00:00<?, ? examples/s]"
      ]
     },
     "metadata": {},
     "output_type": "display_data"
    },
    {
     "data": {
      "application/vnd.jupyter.widget-view+json": {
       "model_id": "c6cb2869d5594d11b551ac18dacd778e",
       "version_major": 2,
       "version_minor": 0
      },
      "text/plain": [
       "Map:   0%|          | 0/500 [00:00<?, ? examples/s]"
      ]
     },
     "metadata": {},
     "output_type": "display_data"
    },
    {
     "name": "stderr",
     "output_type": "stream",
     "text": [
      "Some weights of RobertaForSequenceClassification were not initialized from the model checkpoint at roberta-large and are newly initialized: ['classifier.dense.bias', 'classifier.dense.weight', 'classifier.out_proj.bias', 'classifier.out_proj.weight']\n",
      "You should probably TRAIN this model on a down-stream task to be able to use it for predictions and inference.\n"
     ]
    },
    {
     "data": {
      "text/html": [
       "\n",
       "    <div>\n",
       "      \n",
       "      <progress value='256' max='256' style='width:300px; height:20px; vertical-align: middle;'></progress>\n",
       "      [256/256 05:10, Epoch 8/8]\n",
       "    </div>\n",
       "    <table border=\"1\" class=\"dataframe\">\n",
       "  <thead>\n",
       " <tr style=\"text-align: left;\">\n",
       "      <th>Epoch</th>\n",
       "      <th>Training Loss</th>\n",
       "      <th>Validation Loss</th>\n",
       "      <th>F1 Micro</th>\n",
       "      <th>F1 Macro</th>\n",
       "      <th>Accuracy</th>\n",
       "    </tr>\n",
       "  </thead>\n",
       "  <tbody>\n",
       "    <tr>\n",
       "      <td>1</td>\n",
       "      <td>1.130500</td>\n",
       "      <td>0.412698</td>\n",
       "      <td>0.882000</td>\n",
       "      <td>0.800361</td>\n",
       "      <td>0.882000</td>\n",
       "    </tr>\n",
       "    <tr>\n",
       "      <td>2</td>\n",
       "      <td>0.497900</td>\n",
       "      <td>0.297253</td>\n",
       "      <td>0.910000</td>\n",
       "      <td>0.868144</td>\n",
       "      <td>0.910000</td>\n",
       "    </tr>\n",
       "    <tr>\n",
       "      <td>3</td>\n",
       "      <td>0.293600</td>\n",
       "      <td>0.333257</td>\n",
       "      <td>0.904000</td>\n",
       "      <td>0.854676</td>\n",
       "      <td>0.904000</td>\n",
       "    </tr>\n",
       "    <tr>\n",
       "      <td>4</td>\n",
       "      <td>0.157600</td>\n",
       "      <td>0.351670</td>\n",
       "      <td>0.912000</td>\n",
       "      <td>0.864202</td>\n",
       "      <td>0.912000</td>\n",
       "    </tr>\n",
       "    <tr>\n",
       "      <td>5</td>\n",
       "      <td>0.108800</td>\n",
       "      <td>0.460132</td>\n",
       "      <td>0.900000</td>\n",
       "      <td>0.855615</td>\n",
       "      <td>0.900000</td>\n",
       "    </tr>\n",
       "    <tr>\n",
       "      <td>6</td>\n",
       "      <td>0.075300</td>\n",
       "      <td>0.477620</td>\n",
       "      <td>0.902000</td>\n",
       "      <td>0.855902</td>\n",
       "      <td>0.902000</td>\n",
       "    </tr>\n",
       "    <tr>\n",
       "      <td>7</td>\n",
       "      <td>0.037200</td>\n",
       "      <td>0.498700</td>\n",
       "      <td>0.896000</td>\n",
       "      <td>0.850865</td>\n",
       "      <td>0.896000</td>\n",
       "    </tr>\n",
       "    <tr>\n",
       "      <td>8</td>\n",
       "      <td>0.024400</td>\n",
       "      <td>0.518306</td>\n",
       "      <td>0.896000</td>\n",
       "      <td>0.851775</td>\n",
       "      <td>0.896000</td>\n",
       "    </tr>\n",
       "  </tbody>\n",
       "</table><p>"
      ],
      "text/plain": [
       "<IPython.core.display.HTML object>"
      ]
     },
     "metadata": {},
     "output_type": "display_data"
    },
    {
     "name": "stdout",
     "output_type": "stream",
     "text": [
      "💾 experiment saved to: src/agnews/experiments/RoBERTA_500samples/exp_250real_250generic\n",
      "\n",
      "🗑️ save_model=False: Checkpoints deleted after training.\n",
      "\n"
     ]
    },
    {
     "data": {
      "text/html": [
       "<div>\n",
       "<style scoped>\n",
       "    .dataframe tbody tr th:only-of-type {\n",
       "        vertical-align: middle;\n",
       "    }\n",
       "\n",
       "    .dataframe tbody tr th {\n",
       "        vertical-align: top;\n",
       "    }\n",
       "\n",
       "    .dataframe thead th {\n",
       "        text-align: right;\n",
       "    }\n",
       "</style>\n",
       "<table border=\"1\" class=\"dataframe\">\n",
       "  <thead>\n",
       "    <tr style=\"text-align: right;\">\n",
       "      <th></th>\n",
       "      <th>method</th>\n",
       "      <th>f1_micro</th>\n",
       "      <th>f1_macro</th>\n",
       "      <th>accuracy</th>\n",
       "      <th>train_time</th>\n",
       "      <th>eval_time</th>\n",
       "    </tr>\n",
       "  </thead>\n",
       "  <tbody>\n",
       "    <tr>\n",
       "      <th>0</th>\n",
       "      <td>250real_250generic</td>\n",
       "      <td>0.912</td>\n",
       "      <td>0.864</td>\n",
       "      <td>0.912</td>\n",
       "      <td>312.389</td>\n",
       "      <td>8.478</td>\n",
       "    </tr>\n",
       "  </tbody>\n",
       "</table>\n",
       "</div>"
      ],
      "text/plain": [
       "               method  f1_micro  f1_macro  accuracy  train_time  eval_time\n",
       "0  250real_250generic     0.912     0.864     0.912     312.389      8.478"
      ]
     },
     "metadata": {},
     "output_type": "display_data"
    }
   ],
   "source": [
    "name = \"exp_250real_250generic\"\n",
    "train_details = main_multiclassRoBERTA(\n",
    "    real_df=real_train_df,\n",
    "    synth_df=syn_generic_df, # Generic Augmentation\n",
    "    dev_df=dev_df,\n",
    "    synth_ratio=0.5, # 50% of the data is synthetic\n",
    "    max_samples=500,\n",
    "    epochs=8,\n",
    "    batch_size=16,\n",
    "    output_dir=os.path.join(FOLDER_DIR, name),\n",
    "    log_dir=LOG_DIR,\n",
    "    generation_method=\"generic augmentation\",\n",
    "    save_model=False,\n",
    "    save_dataset=False,\n",
    ")\n",
    "results.append(get_results(train_details))"
   ]
  },
  {
   "cell_type": "markdown",
   "metadata": {},
   "source": [
    "## 2B. 250 Real + 250 Targeted Augmentation"
   ]
  },
  {
   "cell_type": "code",
   "execution_count": 7,
   "metadata": {},
   "outputs": [
    {
     "data": {
      "application/vnd.jupyter.widget-view+json": {
       "model_id": "bd6b84890e7f49dd920c0f81b5711771",
       "version_major": 2,
       "version_minor": 0
      },
      "text/plain": [
       "Map:   0%|          | 0/500 [00:00<?, ? examples/s]"
      ]
     },
     "metadata": {},
     "output_type": "display_data"
    },
    {
     "data": {
      "application/vnd.jupyter.widget-view+json": {
       "model_id": "63eb96ae9d1147bfa4d6f82d821f6d3d",
       "version_major": 2,
       "version_minor": 0
      },
      "text/plain": [
       "Map:   0%|          | 0/500 [00:00<?, ? examples/s]"
      ]
     },
     "metadata": {},
     "output_type": "display_data"
    },
    {
     "name": "stderr",
     "output_type": "stream",
     "text": [
      "Some weights of RobertaForSequenceClassification were not initialized from the model checkpoint at roberta-large and are newly initialized: ['classifier.dense.bias', 'classifier.dense.weight', 'classifier.out_proj.bias', 'classifier.out_proj.weight']\n",
      "You should probably TRAIN this model on a down-stream task to be able to use it for predictions and inference.\n"
     ]
    },
    {
     "data": {
      "text/html": [
       "\n",
       "    <div>\n",
       "      \n",
       "      <progress value='256' max='256' style='width:300px; height:20px; vertical-align: middle;'></progress>\n",
       "      [256/256 05:08, Epoch 8/8]\n",
       "    </div>\n",
       "    <table border=\"1\" class=\"dataframe\">\n",
       "  <thead>\n",
       " <tr style=\"text-align: left;\">\n",
       "      <th>Epoch</th>\n",
       "      <th>Training Loss</th>\n",
       "      <th>Validation Loss</th>\n",
       "      <th>F1 Micro</th>\n",
       "      <th>F1 Macro</th>\n",
       "      <th>Accuracy</th>\n",
       "    </tr>\n",
       "  </thead>\n",
       "  <tbody>\n",
       "    <tr>\n",
       "      <td>1</td>\n",
       "      <td>1.099300</td>\n",
       "      <td>0.443672</td>\n",
       "      <td>0.870000</td>\n",
       "      <td>0.777154</td>\n",
       "      <td>0.870000</td>\n",
       "    </tr>\n",
       "    <tr>\n",
       "      <td>2</td>\n",
       "      <td>0.433800</td>\n",
       "      <td>0.340546</td>\n",
       "      <td>0.894000</td>\n",
       "      <td>0.836344</td>\n",
       "      <td>0.894000</td>\n",
       "    </tr>\n",
       "    <tr>\n",
       "      <td>3</td>\n",
       "      <td>0.240500</td>\n",
       "      <td>0.361814</td>\n",
       "      <td>0.910000</td>\n",
       "      <td>0.861642</td>\n",
       "      <td>0.910000</td>\n",
       "    </tr>\n",
       "    <tr>\n",
       "      <td>4</td>\n",
       "      <td>0.167100</td>\n",
       "      <td>0.554440</td>\n",
       "      <td>0.880000</td>\n",
       "      <td>0.826225</td>\n",
       "      <td>0.880000</td>\n",
       "    </tr>\n",
       "    <tr>\n",
       "      <td>5</td>\n",
       "      <td>0.100800</td>\n",
       "      <td>0.464890</td>\n",
       "      <td>0.908000</td>\n",
       "      <td>0.865575</td>\n",
       "      <td>0.908000</td>\n",
       "    </tr>\n",
       "    <tr>\n",
       "      <td>6</td>\n",
       "      <td>0.056100</td>\n",
       "      <td>0.497637</td>\n",
       "      <td>0.912000</td>\n",
       "      <td>0.861275</td>\n",
       "      <td>0.912000</td>\n",
       "    </tr>\n",
       "    <tr>\n",
       "      <td>7</td>\n",
       "      <td>0.035700</td>\n",
       "      <td>0.485546</td>\n",
       "      <td>0.920000</td>\n",
       "      <td>0.881810</td>\n",
       "      <td>0.920000</td>\n",
       "    </tr>\n",
       "    <tr>\n",
       "      <td>8</td>\n",
       "      <td>0.017300</td>\n",
       "      <td>0.488898</td>\n",
       "      <td>0.924000</td>\n",
       "      <td>0.886858</td>\n",
       "      <td>0.924000</td>\n",
       "    </tr>\n",
       "  </tbody>\n",
       "</table><p>"
      ],
      "text/plain": [
       "<IPython.core.display.HTML object>"
      ]
     },
     "metadata": {},
     "output_type": "display_data"
    },
    {
     "name": "stdout",
     "output_type": "stream",
     "text": [
      "💾 experiment saved to: src/agnews/experiments/RoBERTA_500samples/exp_250real_250targeted\n",
      "\n",
      "🗑️ save_model=False: Checkpoints deleted after training.\n",
      "\n"
     ]
    },
    {
     "data": {
      "text/html": [
       "<div>\n",
       "<style scoped>\n",
       "    .dataframe tbody tr th:only-of-type {\n",
       "        vertical-align: middle;\n",
       "    }\n",
       "\n",
       "    .dataframe tbody tr th {\n",
       "        vertical-align: top;\n",
       "    }\n",
       "\n",
       "    .dataframe thead th {\n",
       "        text-align: right;\n",
       "    }\n",
       "</style>\n",
       "<table border=\"1\" class=\"dataframe\">\n",
       "  <thead>\n",
       "    <tr style=\"text-align: right;\">\n",
       "      <th></th>\n",
       "      <th>method</th>\n",
       "      <th>f1_micro</th>\n",
       "      <th>f1_macro</th>\n",
       "      <th>accuracy</th>\n",
       "      <th>train_time</th>\n",
       "      <th>eval_time</th>\n",
       "    </tr>\n",
       "  </thead>\n",
       "  <tbody>\n",
       "    <tr>\n",
       "      <th>0</th>\n",
       "      <td>250real_250targeted</td>\n",
       "      <td>0.924</td>\n",
       "      <td>0.887</td>\n",
       "      <td>0.924</td>\n",
       "      <td>311.709</td>\n",
       "      <td>8.629</td>\n",
       "    </tr>\n",
       "  </tbody>\n",
       "</table>\n",
       "</div>"
      ],
      "text/plain": [
       "                method  f1_micro  f1_macro  accuracy  train_time  eval_time\n",
       "0  250real_250targeted     0.924     0.887     0.924     311.709      8.629"
      ]
     },
     "metadata": {},
     "output_type": "display_data"
    }
   ],
   "source": [
    "name = \"exp_250real_250targeted\"\n",
    "train_details = main_multiclassRoBERTA(\n",
    "    real_df=real_train_df,\n",
    "    synth_df=syn_targeted_df, # Targeted Augmentation\n",
    "    dev_df=dev_df,\n",
    "    synth_ratio=0.5, # 50% of the data is synthetic\n",
    "    max_samples=500,\n",
    "    epochs=8,\n",
    "    batch_size=16,\n",
    "    output_dir=os.path.join(FOLDER_DIR, name),\n",
    "    log_dir=LOG_DIR,\n",
    "    generation_method=\"targeted augmentation\",\n",
    "    save_model=False,\n",
    "    save_dataset=False,\n",
    ")\n",
    "results.append(get_results(train_details))"
   ]
  },
  {
   "cell_type": "markdown",
   "metadata": {},
   "source": [
    "## 3A. 50 Real + 450 Generic Augmentation"
   ]
  },
  {
   "cell_type": "code",
   "execution_count": 8,
   "metadata": {},
   "outputs": [
    {
     "data": {
      "application/vnd.jupyter.widget-view+json": {
       "model_id": "55449f6530274cb091d424394c56ac5d",
       "version_major": 2,
       "version_minor": 0
      },
      "text/plain": [
       "Map:   0%|          | 0/500 [00:00<?, ? examples/s]"
      ]
     },
     "metadata": {},
     "output_type": "display_data"
    },
    {
     "data": {
      "application/vnd.jupyter.widget-view+json": {
       "model_id": "6f3b890465dd411499f0d33e2182deac",
       "version_major": 2,
       "version_minor": 0
      },
      "text/plain": [
       "Map:   0%|          | 0/500 [00:00<?, ? examples/s]"
      ]
     },
     "metadata": {},
     "output_type": "display_data"
    },
    {
     "name": "stderr",
     "output_type": "stream",
     "text": [
      "Some weights of RobertaForSequenceClassification were not initialized from the model checkpoint at roberta-large and are newly initialized: ['classifier.dense.bias', 'classifier.dense.weight', 'classifier.out_proj.bias', 'classifier.out_proj.weight']\n",
      "You should probably TRAIN this model on a down-stream task to be able to use it for predictions and inference.\n"
     ]
    },
    {
     "data": {
      "text/html": [
       "\n",
       "    <div>\n",
       "      \n",
       "      <progress value='256' max='256' style='width:300px; height:20px; vertical-align: middle;'></progress>\n",
       "      [256/256 05:16, Epoch 8/8]\n",
       "    </div>\n",
       "    <table border=\"1\" class=\"dataframe\">\n",
       "  <thead>\n",
       " <tr style=\"text-align: left;\">\n",
       "      <th>Epoch</th>\n",
       "      <th>Training Loss</th>\n",
       "      <th>Validation Loss</th>\n",
       "      <th>F1 Micro</th>\n",
       "      <th>F1 Macro</th>\n",
       "      <th>Accuracy</th>\n",
       "    </tr>\n",
       "  </thead>\n",
       "  <tbody>\n",
       "    <tr>\n",
       "      <td>1</td>\n",
       "      <td>1.156900</td>\n",
       "      <td>0.713503</td>\n",
       "      <td>0.782000</td>\n",
       "      <td>0.696182</td>\n",
       "      <td>0.782000</td>\n",
       "    </tr>\n",
       "    <tr>\n",
       "      <td>2</td>\n",
       "      <td>0.486500</td>\n",
       "      <td>0.647019</td>\n",
       "      <td>0.798000</td>\n",
       "      <td>0.757891</td>\n",
       "      <td>0.798000</td>\n",
       "    </tr>\n",
       "    <tr>\n",
       "      <td>3</td>\n",
       "      <td>0.345000</td>\n",
       "      <td>0.395454</td>\n",
       "      <td>0.880000</td>\n",
       "      <td>0.827663</td>\n",
       "      <td>0.880000</td>\n",
       "    </tr>\n",
       "    <tr>\n",
       "      <td>4</td>\n",
       "      <td>0.241400</td>\n",
       "      <td>0.393646</td>\n",
       "      <td>0.886000</td>\n",
       "      <td>0.839462</td>\n",
       "      <td>0.886000</td>\n",
       "    </tr>\n",
       "    <tr>\n",
       "      <td>5</td>\n",
       "      <td>0.144700</td>\n",
       "      <td>0.421591</td>\n",
       "      <td>0.880000</td>\n",
       "      <td>0.836039</td>\n",
       "      <td>0.880000</td>\n",
       "    </tr>\n",
       "    <tr>\n",
       "      <td>6</td>\n",
       "      <td>0.069600</td>\n",
       "      <td>0.521672</td>\n",
       "      <td>0.876000</td>\n",
       "      <td>0.832370</td>\n",
       "      <td>0.876000</td>\n",
       "    </tr>\n",
       "    <tr>\n",
       "      <td>7</td>\n",
       "      <td>0.066800</td>\n",
       "      <td>0.510305</td>\n",
       "      <td>0.876000</td>\n",
       "      <td>0.834170</td>\n",
       "      <td>0.876000</td>\n",
       "    </tr>\n",
       "    <tr>\n",
       "      <td>8</td>\n",
       "      <td>0.048400</td>\n",
       "      <td>0.504466</td>\n",
       "      <td>0.884000</td>\n",
       "      <td>0.845011</td>\n",
       "      <td>0.884000</td>\n",
       "    </tr>\n",
       "  </tbody>\n",
       "</table><p>"
      ],
      "text/plain": [
       "<IPython.core.display.HTML object>"
      ]
     },
     "metadata": {},
     "output_type": "display_data"
    },
    {
     "name": "stdout",
     "output_type": "stream",
     "text": [
      "💾 experiment saved to: src/agnews/experiments/RoBERTA_500samples/exp_50real_450generic\n",
      "\n",
      "🗑️ save_model=False: Checkpoints deleted after training.\n",
      "\n"
     ]
    },
    {
     "data": {
      "text/html": [
       "<div>\n",
       "<style scoped>\n",
       "    .dataframe tbody tr th:only-of-type {\n",
       "        vertical-align: middle;\n",
       "    }\n",
       "\n",
       "    .dataframe tbody tr th {\n",
       "        vertical-align: top;\n",
       "    }\n",
       "\n",
       "    .dataframe thead th {\n",
       "        text-align: right;\n",
       "    }\n",
       "</style>\n",
       "<table border=\"1\" class=\"dataframe\">\n",
       "  <thead>\n",
       "    <tr style=\"text-align: right;\">\n",
       "      <th></th>\n",
       "      <th>method</th>\n",
       "      <th>f1_micro</th>\n",
       "      <th>f1_macro</th>\n",
       "      <th>accuracy</th>\n",
       "      <th>train_time</th>\n",
       "      <th>eval_time</th>\n",
       "    </tr>\n",
       "  </thead>\n",
       "  <tbody>\n",
       "    <tr>\n",
       "      <th>0</th>\n",
       "      <td>50real_450generic</td>\n",
       "      <td>0.886</td>\n",
       "      <td>0.839</td>\n",
       "      <td>0.886</td>\n",
       "      <td>318.249</td>\n",
       "      <td>8.582</td>\n",
       "    </tr>\n",
       "  </tbody>\n",
       "</table>\n",
       "</div>"
      ],
      "text/plain": [
       "              method  f1_micro  f1_macro  accuracy  train_time  eval_time\n",
       "0  50real_450generic     0.886     0.839     0.886     318.249      8.582"
      ]
     },
     "metadata": {},
     "output_type": "display_data"
    }
   ],
   "source": [
    "name = \"exp_50real_450generic\"\n",
    "train_details = main_multiclassRoBERTA(\n",
    "    real_df=real_train_df,\n",
    "    synth_df=syn_generic_df, # Generic Augmentation\n",
    "    dev_df=dev_df,\n",
    "    synth_ratio=0.9, # 90% of the data is synthetic\n",
    "    max_samples=500,\n",
    "    epochs=8,\n",
    "    batch_size=16,\n",
    "    output_dir=os.path.join(FOLDER_DIR, name),\n",
    "    log_dir=LOG_DIR,\n",
    "    generation_method=\"generic augmentation\",\n",
    "    save_model=False,\n",
    "    save_dataset=False,\n",
    ")\n",
    "results.append(get_results(train_details))"
   ]
  },
  {
   "cell_type": "markdown",
   "metadata": {},
   "source": [
    "## 3B. 50 Real + 450 Targeted Augmentation"
   ]
  },
  {
   "cell_type": "code",
   "execution_count": 9,
   "metadata": {},
   "outputs": [
    {
     "data": {
      "application/vnd.jupyter.widget-view+json": {
       "model_id": "ea3491fa82d74430bd5123e5b020948d",
       "version_major": 2,
       "version_minor": 0
      },
      "text/plain": [
       "Map:   0%|          | 0/500 [00:00<?, ? examples/s]"
      ]
     },
     "metadata": {},
     "output_type": "display_data"
    },
    {
     "data": {
      "application/vnd.jupyter.widget-view+json": {
       "model_id": "32d6b4e789004611bdf18e87a152dbde",
       "version_major": 2,
       "version_minor": 0
      },
      "text/plain": [
       "Map:   0%|          | 0/500 [00:00<?, ? examples/s]"
      ]
     },
     "metadata": {},
     "output_type": "display_data"
    },
    {
     "name": "stderr",
     "output_type": "stream",
     "text": [
      "Some weights of RobertaForSequenceClassification were not initialized from the model checkpoint at roberta-large and are newly initialized: ['classifier.dense.bias', 'classifier.dense.weight', 'classifier.out_proj.bias', 'classifier.out_proj.weight']\n",
      "You should probably TRAIN this model on a down-stream task to be able to use it for predictions and inference.\n"
     ]
    },
    {
     "data": {
      "text/html": [
       "\n",
       "    <div>\n",
       "      \n",
       "      <progress value='256' max='256' style='width:300px; height:20px; vertical-align: middle;'></progress>\n",
       "      [256/256 05:11, Epoch 8/8]\n",
       "    </div>\n",
       "    <table border=\"1\" class=\"dataframe\">\n",
       "  <thead>\n",
       " <tr style=\"text-align: left;\">\n",
       "      <th>Epoch</th>\n",
       "      <th>Training Loss</th>\n",
       "      <th>Validation Loss</th>\n",
       "      <th>F1 Micro</th>\n",
       "      <th>F1 Macro</th>\n",
       "      <th>Accuracy</th>\n",
       "    </tr>\n",
       "  </thead>\n",
       "  <tbody>\n",
       "    <tr>\n",
       "      <td>1</td>\n",
       "      <td>1.214400</td>\n",
       "      <td>0.780591</td>\n",
       "      <td>0.764000</td>\n",
       "      <td>0.723399</td>\n",
       "      <td>0.764000</td>\n",
       "    </tr>\n",
       "    <tr>\n",
       "      <td>2</td>\n",
       "      <td>0.520400</td>\n",
       "      <td>0.514564</td>\n",
       "      <td>0.890000</td>\n",
       "      <td>0.826149</td>\n",
       "      <td>0.890000</td>\n",
       "    </tr>\n",
       "    <tr>\n",
       "      <td>3</td>\n",
       "      <td>0.339000</td>\n",
       "      <td>0.483576</td>\n",
       "      <td>0.872000</td>\n",
       "      <td>0.799126</td>\n",
       "      <td>0.872000</td>\n",
       "    </tr>\n",
       "    <tr>\n",
       "      <td>4</td>\n",
       "      <td>0.233100</td>\n",
       "      <td>0.522707</td>\n",
       "      <td>0.848000</td>\n",
       "      <td>0.805485</td>\n",
       "      <td>0.848000</td>\n",
       "    </tr>\n",
       "    <tr>\n",
       "      <td>5</td>\n",
       "      <td>0.179400</td>\n",
       "      <td>0.468456</td>\n",
       "      <td>0.882000</td>\n",
       "      <td>0.836901</td>\n",
       "      <td>0.882000</td>\n",
       "    </tr>\n",
       "    <tr>\n",
       "      <td>6</td>\n",
       "      <td>0.094200</td>\n",
       "      <td>0.584046</td>\n",
       "      <td>0.854000</td>\n",
       "      <td>0.801075</td>\n",
       "      <td>0.854000</td>\n",
       "    </tr>\n",
       "    <tr>\n",
       "      <td>7</td>\n",
       "      <td>0.068800</td>\n",
       "      <td>0.576907</td>\n",
       "      <td>0.866000</td>\n",
       "      <td>0.817439</td>\n",
       "      <td>0.866000</td>\n",
       "    </tr>\n",
       "    <tr>\n",
       "      <td>8</td>\n",
       "      <td>0.034700</td>\n",
       "      <td>0.580843</td>\n",
       "      <td>0.866000</td>\n",
       "      <td>0.812809</td>\n",
       "      <td>0.866000</td>\n",
       "    </tr>\n",
       "  </tbody>\n",
       "</table><p>"
      ],
      "text/plain": [
       "<IPython.core.display.HTML object>"
      ]
     },
     "metadata": {},
     "output_type": "display_data"
    },
    {
     "name": "stdout",
     "output_type": "stream",
     "text": [
      "💾 experiment saved to: src/agnews/experiments/RoBERTA_500samples/exp_50real_450targeted\n",
      "\n",
      "🗑️ save_model=False: Checkpoints deleted after training.\n",
      "\n"
     ]
    },
    {
     "data": {
      "text/html": [
       "<div>\n",
       "<style scoped>\n",
       "    .dataframe tbody tr th:only-of-type {\n",
       "        vertical-align: middle;\n",
       "    }\n",
       "\n",
       "    .dataframe tbody tr th {\n",
       "        vertical-align: top;\n",
       "    }\n",
       "\n",
       "    .dataframe thead th {\n",
       "        text-align: right;\n",
       "    }\n",
       "</style>\n",
       "<table border=\"1\" class=\"dataframe\">\n",
       "  <thead>\n",
       "    <tr style=\"text-align: right;\">\n",
       "      <th></th>\n",
       "      <th>method</th>\n",
       "      <th>f1_micro</th>\n",
       "      <th>f1_macro</th>\n",
       "      <th>accuracy</th>\n",
       "      <th>train_time</th>\n",
       "      <th>eval_time</th>\n",
       "    </tr>\n",
       "  </thead>\n",
       "  <tbody>\n",
       "    <tr>\n",
       "      <th>0</th>\n",
       "      <td>50real_450targeted</td>\n",
       "      <td>0.89</td>\n",
       "      <td>0.826</td>\n",
       "      <td>0.89</td>\n",
       "      <td>315.456</td>\n",
       "      <td>8.559</td>\n",
       "    </tr>\n",
       "  </tbody>\n",
       "</table>\n",
       "</div>"
      ],
      "text/plain": [
       "               method  f1_micro  f1_macro  accuracy  train_time  eval_time\n",
       "0  50real_450targeted      0.89     0.826      0.89     315.456      8.559"
      ]
     },
     "metadata": {},
     "output_type": "display_data"
    }
   ],
   "source": [
    "name = \"exp_50real_450targeted\"\n",
    "train_details = main_multiclassRoBERTA(\n",
    "    real_df=real_train_df,\n",
    "    synth_df=syn_targeted_df, # Targeted Augmentation\n",
    "    dev_df=dev_df,\n",
    "    synth_ratio=0.9, # 50% of the data is synthetic\n",
    "    max_samples=500,\n",
    "    epochs=8,\n",
    "    batch_size=16,\n",
    "    output_dir=os.path.join(FOLDER_DIR, name),\n",
    "    log_dir=LOG_DIR,\n",
    "    generation_method=\"targeted augmentation\",\n",
    "    save_model=False,\n",
    "    save_dataset=False,\n",
    ")\n",
    "results.append(get_results(train_details))"
   ]
  },
  {
   "cell_type": "markdown",
   "metadata": {},
   "source": [
    "## 4. 500 Generic Augmentation"
   ]
  },
  {
   "cell_type": "code",
   "execution_count": 10,
   "metadata": {},
   "outputs": [
    {
     "data": {
      "application/vnd.jupyter.widget-view+json": {
       "model_id": "b105b8bcc5db405f8ca3968447f1dbe5",
       "version_major": 2,
       "version_minor": 0
      },
      "text/plain": [
       "Map:   0%|          | 0/500 [00:00<?, ? examples/s]"
      ]
     },
     "metadata": {},
     "output_type": "display_data"
    },
    {
     "data": {
      "application/vnd.jupyter.widget-view+json": {
       "model_id": "23746a1c91c04218819f8204bce5a52d",
       "version_major": 2,
       "version_minor": 0
      },
      "text/plain": [
       "Map:   0%|          | 0/500 [00:00<?, ? examples/s]"
      ]
     },
     "metadata": {},
     "output_type": "display_data"
    },
    {
     "name": "stderr",
     "output_type": "stream",
     "text": [
      "Some weights of RobertaForSequenceClassification were not initialized from the model checkpoint at roberta-large and are newly initialized: ['classifier.dense.bias', 'classifier.dense.weight', 'classifier.out_proj.bias', 'classifier.out_proj.weight']\n",
      "You should probably TRAIN this model on a down-stream task to be able to use it for predictions and inference.\n"
     ]
    },
    {
     "data": {
      "text/html": [
       "\n",
       "    <div>\n",
       "      \n",
       "      <progress value='256' max='256' style='width:300px; height:20px; vertical-align: middle;'></progress>\n",
       "      [256/256 05:17, Epoch 8/8]\n",
       "    </div>\n",
       "    <table border=\"1\" class=\"dataframe\">\n",
       "  <thead>\n",
       " <tr style=\"text-align: left;\">\n",
       "      <th>Epoch</th>\n",
       "      <th>Training Loss</th>\n",
       "      <th>Validation Loss</th>\n",
       "      <th>F1 Micro</th>\n",
       "      <th>F1 Macro</th>\n",
       "      <th>Accuracy</th>\n",
       "    </tr>\n",
       "  </thead>\n",
       "  <tbody>\n",
       "    <tr>\n",
       "      <td>1</td>\n",
       "      <td>0.958600</td>\n",
       "      <td>0.687914</td>\n",
       "      <td>0.762000</td>\n",
       "      <td>0.724130</td>\n",
       "      <td>0.762000</td>\n",
       "    </tr>\n",
       "    <tr>\n",
       "      <td>2</td>\n",
       "      <td>0.480900</td>\n",
       "      <td>0.811682</td>\n",
       "      <td>0.694000</td>\n",
       "      <td>0.671680</td>\n",
       "      <td>0.694000</td>\n",
       "    </tr>\n",
       "    <tr>\n",
       "      <td>3</td>\n",
       "      <td>0.402600</td>\n",
       "      <td>0.827876</td>\n",
       "      <td>0.664000</td>\n",
       "      <td>0.602715</td>\n",
       "      <td>0.664000</td>\n",
       "    </tr>\n",
       "    <tr>\n",
       "      <td>4</td>\n",
       "      <td>0.267400</td>\n",
       "      <td>0.739060</td>\n",
       "      <td>0.716000</td>\n",
       "      <td>0.666758</td>\n",
       "      <td>0.716000</td>\n",
       "    </tr>\n",
       "    <tr>\n",
       "      <td>5</td>\n",
       "      <td>0.205400</td>\n",
       "      <td>1.005670</td>\n",
       "      <td>0.642000</td>\n",
       "      <td>0.599128</td>\n",
       "      <td>0.642000</td>\n",
       "    </tr>\n",
       "    <tr>\n",
       "      <td>6</td>\n",
       "      <td>0.145400</td>\n",
       "      <td>0.826668</td>\n",
       "      <td>0.712000</td>\n",
       "      <td>0.665837</td>\n",
       "      <td>0.712000</td>\n",
       "    </tr>\n",
       "    <tr>\n",
       "      <td>7</td>\n",
       "      <td>0.102200</td>\n",
       "      <td>0.958910</td>\n",
       "      <td>0.696000</td>\n",
       "      <td>0.654141</td>\n",
       "      <td>0.696000</td>\n",
       "    </tr>\n",
       "    <tr>\n",
       "      <td>8</td>\n",
       "      <td>0.084300</td>\n",
       "      <td>0.868857</td>\n",
       "      <td>0.718000</td>\n",
       "      <td>0.673581</td>\n",
       "      <td>0.718000</td>\n",
       "    </tr>\n",
       "  </tbody>\n",
       "</table><p>"
      ],
      "text/plain": [
       "<IPython.core.display.HTML object>"
      ]
     },
     "metadata": {},
     "output_type": "display_data"
    },
    {
     "name": "stdout",
     "output_type": "stream",
     "text": [
      "💾 experiment saved to: src/agnews/experiments/RoBERTA_500samples/exp_500generic\n",
      "\n",
      "🗑️ save_model=False: Checkpoints deleted after training.\n",
      "\n"
     ]
    },
    {
     "data": {
      "text/html": [
       "<div>\n",
       "<style scoped>\n",
       "    .dataframe tbody tr th:only-of-type {\n",
       "        vertical-align: middle;\n",
       "    }\n",
       "\n",
       "    .dataframe tbody tr th {\n",
       "        vertical-align: top;\n",
       "    }\n",
       "\n",
       "    .dataframe thead th {\n",
       "        text-align: right;\n",
       "    }\n",
       "</style>\n",
       "<table border=\"1\" class=\"dataframe\">\n",
       "  <thead>\n",
       "    <tr style=\"text-align: right;\">\n",
       "      <th></th>\n",
       "      <th>method</th>\n",
       "      <th>f1_micro</th>\n",
       "      <th>f1_macro</th>\n",
       "      <th>accuracy</th>\n",
       "      <th>train_time</th>\n",
       "      <th>eval_time</th>\n",
       "    </tr>\n",
       "  </thead>\n",
       "  <tbody>\n",
       "    <tr>\n",
       "      <th>0</th>\n",
       "      <td>500generic</td>\n",
       "      <td>0.762</td>\n",
       "      <td>0.724</td>\n",
       "      <td>0.762</td>\n",
       "      <td>319.607</td>\n",
       "      <td>8.546</td>\n",
       "    </tr>\n",
       "  </tbody>\n",
       "</table>\n",
       "</div>"
      ],
      "text/plain": [
       "       method  f1_micro  f1_macro  accuracy  train_time  eval_time\n",
       "0  500generic     0.762     0.724     0.762     319.607      8.546"
      ]
     },
     "metadata": {},
     "output_type": "display_data"
    }
   ],
   "source": [
    "name = \"exp_500generic\"\n",
    "train_details = main_multiclassRoBERTA(\n",
    "    real_df=None,\n",
    "    synth_df=syn_generic_df, # Generic Augmentation\n",
    "    dev_df=dev_df,\n",
    "    synth_ratio=1.0, # 100% of the data is synthetic\n",
    "    max_samples=500,\n",
    "    epochs=8,\n",
    "    batch_size=16,\n",
    "    output_dir=os.path.join(FOLDER_DIR, name),\n",
    "    log_dir=LOG_DIR,\n",
    "    generation_method=\"generic augmentation\",\n",
    "    save_model=False,\n",
    "    save_dataset=False,\n",
    ")\n",
    "results.append(get_results(train_details))"
   ]
  },
  {
   "cell_type": "markdown",
   "metadata": {},
   "source": [
    "## 5. 500 Targeted Augmentation"
   ]
  },
  {
   "cell_type": "code",
   "execution_count": 11,
   "metadata": {},
   "outputs": [
    {
     "data": {
      "application/vnd.jupyter.widget-view+json": {
       "model_id": "3805730550fb43dc975d179a906d7491",
       "version_major": 2,
       "version_minor": 0
      },
      "text/plain": [
       "Map:   0%|          | 0/500 [00:00<?, ? examples/s]"
      ]
     },
     "metadata": {},
     "output_type": "display_data"
    },
    {
     "data": {
      "application/vnd.jupyter.widget-view+json": {
       "model_id": "94ad28302297479a926b0098e49f58d6",
       "version_major": 2,
       "version_minor": 0
      },
      "text/plain": [
       "Map:   0%|          | 0/500 [00:00<?, ? examples/s]"
      ]
     },
     "metadata": {},
     "output_type": "display_data"
    },
    {
     "name": "stderr",
     "output_type": "stream",
     "text": [
      "Some weights of RobertaForSequenceClassification were not initialized from the model checkpoint at roberta-large and are newly initialized: ['classifier.dense.bias', 'classifier.dense.weight', 'classifier.out_proj.bias', 'classifier.out_proj.weight']\n",
      "You should probably TRAIN this model on a down-stream task to be able to use it for predictions and inference.\n"
     ]
    },
    {
     "data": {
      "text/html": [
       "\n",
       "    <div>\n",
       "      \n",
       "      <progress value='256' max='256' style='width:300px; height:20px; vertical-align: middle;'></progress>\n",
       "      [256/256 05:08, Epoch 8/8]\n",
       "    </div>\n",
       "    <table border=\"1\" class=\"dataframe\">\n",
       "  <thead>\n",
       " <tr style=\"text-align: left;\">\n",
       "      <th>Epoch</th>\n",
       "      <th>Training Loss</th>\n",
       "      <th>Validation Loss</th>\n",
       "      <th>F1 Micro</th>\n",
       "      <th>F1 Macro</th>\n",
       "      <th>Accuracy</th>\n",
       "    </tr>\n",
       "  </thead>\n",
       "  <tbody>\n",
       "    <tr>\n",
       "      <td>1</td>\n",
       "      <td>0.990800</td>\n",
       "      <td>0.576532</td>\n",
       "      <td>0.852000</td>\n",
       "      <td>0.805969</td>\n",
       "      <td>0.852000</td>\n",
       "    </tr>\n",
       "    <tr>\n",
       "      <td>2</td>\n",
       "      <td>0.483700</td>\n",
       "      <td>0.885444</td>\n",
       "      <td>0.708000</td>\n",
       "      <td>0.672196</td>\n",
       "      <td>0.708000</td>\n",
       "    </tr>\n",
       "    <tr>\n",
       "      <td>3</td>\n",
       "      <td>0.328400</td>\n",
       "      <td>0.652601</td>\n",
       "      <td>0.804000</td>\n",
       "      <td>0.771344</td>\n",
       "      <td>0.804000</td>\n",
       "    </tr>\n",
       "    <tr>\n",
       "      <td>4</td>\n",
       "      <td>0.261600</td>\n",
       "      <td>0.658721</td>\n",
       "      <td>0.762000</td>\n",
       "      <td>0.731043</td>\n",
       "      <td>0.762000</td>\n",
       "    </tr>\n",
       "    <tr>\n",
       "      <td>5</td>\n",
       "      <td>0.167700</td>\n",
       "      <td>0.941585</td>\n",
       "      <td>0.684000</td>\n",
       "      <td>0.664427</td>\n",
       "      <td>0.684000</td>\n",
       "    </tr>\n",
       "    <tr>\n",
       "      <td>6</td>\n",
       "      <td>0.126200</td>\n",
       "      <td>1.170224</td>\n",
       "      <td>0.642000</td>\n",
       "      <td>0.631658</td>\n",
       "      <td>0.642000</td>\n",
       "    </tr>\n",
       "    <tr>\n",
       "      <td>7</td>\n",
       "      <td>0.076700</td>\n",
       "      <td>0.934078</td>\n",
       "      <td>0.706000</td>\n",
       "      <td>0.684594</td>\n",
       "      <td>0.706000</td>\n",
       "    </tr>\n",
       "    <tr>\n",
       "      <td>8</td>\n",
       "      <td>0.036000</td>\n",
       "      <td>1.031700</td>\n",
       "      <td>0.690000</td>\n",
       "      <td>0.672748</td>\n",
       "      <td>0.690000</td>\n",
       "    </tr>\n",
       "  </tbody>\n",
       "</table><p>"
      ],
      "text/plain": [
       "<IPython.core.display.HTML object>"
      ]
     },
     "metadata": {},
     "output_type": "display_data"
    },
    {
     "name": "stdout",
     "output_type": "stream",
     "text": [
      "💾 experiment saved to: src/agnews/experiments/RoBERTA_500samples/exp_500targeted\n",
      "\n",
      "🗑️ save_model=False: Checkpoints deleted after training.\n",
      "\n"
     ]
    },
    {
     "data": {
      "text/html": [
       "<div>\n",
       "<style scoped>\n",
       "    .dataframe tbody tr th:only-of-type {\n",
       "        vertical-align: middle;\n",
       "    }\n",
       "\n",
       "    .dataframe tbody tr th {\n",
       "        vertical-align: top;\n",
       "    }\n",
       "\n",
       "    .dataframe thead th {\n",
       "        text-align: right;\n",
       "    }\n",
       "</style>\n",
       "<table border=\"1\" class=\"dataframe\">\n",
       "  <thead>\n",
       "    <tr style=\"text-align: right;\">\n",
       "      <th></th>\n",
       "      <th>method</th>\n",
       "      <th>f1_micro</th>\n",
       "      <th>f1_macro</th>\n",
       "      <th>accuracy</th>\n",
       "      <th>train_time</th>\n",
       "      <th>eval_time</th>\n",
       "    </tr>\n",
       "  </thead>\n",
       "  <tbody>\n",
       "    <tr>\n",
       "      <th>0</th>\n",
       "      <td>500targeted</td>\n",
       "      <td>0.852</td>\n",
       "      <td>0.806</td>\n",
       "      <td>0.852</td>\n",
       "      <td>310.374</td>\n",
       "      <td>8.504</td>\n",
       "    </tr>\n",
       "  </tbody>\n",
       "</table>\n",
       "</div>"
      ],
      "text/plain": [
       "        method  f1_micro  f1_macro  accuracy  train_time  eval_time\n",
       "0  500targeted     0.852     0.806     0.852     310.374      8.504"
      ]
     },
     "metadata": {},
     "output_type": "display_data"
    }
   ],
   "source": [
    "name = \"exp_500targeted\"\n",
    "train_details = main_multiclassRoBERTA(\n",
    "    real_df=None,\n",
    "    synth_df=syn_targeted_df, # Targeted Augmentation\n",
    "    dev_df=dev_df,\n",
    "    synth_ratio=1.0, # 100% of the data is synthetic\n",
    "    max_samples=500,\n",
    "    epochs=8,\n",
    "    batch_size=16,\n",
    "    output_dir=os.path.join(FOLDER_DIR, name),\n",
    "    log_dir=LOG_DIR,\n",
    "    generation_method=\"targeted augmentation\",\n",
    "    save_model=False,\n",
    "    save_dataset=False,\n",
    ")\n",
    "results.append(get_results(train_details))"
   ]
  },
  {
   "cell_type": "markdown",
   "metadata": {},
   "source": [
    "## Results"
   ]
  },
  {
   "cell_type": "code",
   "execution_count": 12,
   "metadata": {},
   "outputs": [
    {
     "data": {
      "text/html": [
       "<div>\n",
       "<style scoped>\n",
       "    .dataframe tbody tr th:only-of-type {\n",
       "        vertical-align: middle;\n",
       "    }\n",
       "\n",
       "    .dataframe tbody tr th {\n",
       "        vertical-align: top;\n",
       "    }\n",
       "\n",
       "    .dataframe thead th {\n",
       "        text-align: right;\n",
       "    }\n",
       "</style>\n",
       "<table border=\"1\" class=\"dataframe\">\n",
       "  <thead>\n",
       "    <tr style=\"text-align: right;\">\n",
       "      <th></th>\n",
       "      <th>method</th>\n",
       "      <th>f1_micro</th>\n",
       "      <th>f1_macro</th>\n",
       "      <th>accuracy</th>\n",
       "      <th>train_time</th>\n",
       "      <th>eval_time</th>\n",
       "    </tr>\n",
       "  </thead>\n",
       "  <tbody>\n",
       "    <tr>\n",
       "      <th>0</th>\n",
       "      <td>500real</td>\n",
       "      <td>0.924</td>\n",
       "      <td>0.885</td>\n",
       "      <td>0.924</td>\n",
       "      <td>317.847</td>\n",
       "      <td>8.620</td>\n",
       "    </tr>\n",
       "    <tr>\n",
       "      <th>1</th>\n",
       "      <td>250real_250generic</td>\n",
       "      <td>0.912</td>\n",
       "      <td>0.864</td>\n",
       "      <td>0.912</td>\n",
       "      <td>312.389</td>\n",
       "      <td>8.478</td>\n",
       "    </tr>\n",
       "    <tr>\n",
       "      <th>2</th>\n",
       "      <td>250real_250targeted</td>\n",
       "      <td>0.924</td>\n",
       "      <td>0.887</td>\n",
       "      <td>0.924</td>\n",
       "      <td>311.709</td>\n",
       "      <td>8.629</td>\n",
       "    </tr>\n",
       "    <tr>\n",
       "      <th>3</th>\n",
       "      <td>50real_450generic</td>\n",
       "      <td>0.886</td>\n",
       "      <td>0.839</td>\n",
       "      <td>0.886</td>\n",
       "      <td>318.249</td>\n",
       "      <td>8.582</td>\n",
       "    </tr>\n",
       "    <tr>\n",
       "      <th>4</th>\n",
       "      <td>50real_450targeted</td>\n",
       "      <td>0.890</td>\n",
       "      <td>0.826</td>\n",
       "      <td>0.890</td>\n",
       "      <td>315.456</td>\n",
       "      <td>8.559</td>\n",
       "    </tr>\n",
       "    <tr>\n",
       "      <th>5</th>\n",
       "      <td>500generic</td>\n",
       "      <td>0.762</td>\n",
       "      <td>0.724</td>\n",
       "      <td>0.762</td>\n",
       "      <td>319.607</td>\n",
       "      <td>8.546</td>\n",
       "    </tr>\n",
       "    <tr>\n",
       "      <th>6</th>\n",
       "      <td>500targeted</td>\n",
       "      <td>0.852</td>\n",
       "      <td>0.806</td>\n",
       "      <td>0.852</td>\n",
       "      <td>310.374</td>\n",
       "      <td>8.504</td>\n",
       "    </tr>\n",
       "  </tbody>\n",
       "</table>\n",
       "</div>"
      ],
      "text/plain": [
       "                method  f1_micro  f1_macro  accuracy  train_time  eval_time\n",
       "0              500real     0.924     0.885     0.924     317.847      8.620\n",
       "1   250real_250generic     0.912     0.864     0.912     312.389      8.478\n",
       "2  250real_250targeted     0.924     0.887     0.924     311.709      8.629\n",
       "3    50real_450generic     0.886     0.839     0.886     318.249      8.582\n",
       "4   50real_450targeted     0.890     0.826     0.890     315.456      8.559\n",
       "5           500generic     0.762     0.724     0.762     319.607      8.546\n",
       "6          500targeted     0.852     0.806     0.852     310.374      8.504"
      ]
     },
     "metadata": {},
     "output_type": "display_data"
    }
   ],
   "source": [
    "df_results = pd.concat(results).reset_index(drop=True)\n",
    "df_results.to_csv(os.path.join(FOLDER_DIR, \"RoBERTA_results_dev.csv\"), index=False)\n",
    "display(df_results.round(3))"
   ]
  },
  {
   "cell_type": "code",
   "execution_count": 13,
   "metadata": {},
   "outputs": [
    {
     "data": {
      "image/png": "[encoded data removed]",
      "text/plain": [
       "<Figure size 1300x500 with 1 Axes>"
      ]
     },
     "metadata": {},
     "output_type": "display_data"
    }
   ],
   "source": [
    "# df_results = pd.read_csv(os.path.join(FOLDER_DIR, \"results_RoBERTA.csv\"))\n",
    "\n",
    "plot_df = df_results.set_index('method')\n",
    "plot_df[\"train_time_norm\"] = plot_df[\"train_time\"] / max(plot_df[\"train_time\"])\n",
    "plot_df.drop(columns=[\"train_time\", \"eval_time\"], inplace=True)\n",
    "colors = ['#ef476f', '#f78c6b', '#ffd166', '#06d6a0', '#118ab2', '#073b4c', '#aaaaaa']\n",
    "ax = plot_df.T.plot(kind='bar', figsize=(13, 5), color=colors)\n",
    "\n",
    "plt.title('Results on dev', fontsize=16)\n",
    "plt.xlabel('Metrics')\n",
    "plt.ylabel('Score')\n",
    "plt.xticks(rotation=0)\n",
    "plt.legend(title='Configurations', bbox_to_anchor=(1, 1), loc='upper left')\n",
    "plt.grid(True)\n",
    "\n",
    "plt.tight_layout()\n",
    "plt.show()"
   ]
  },
  {
   "cell_type": "code",
   "execution_count": null,
   "metadata": {},
   "outputs": [],
   "source": []
  }
 ],
 "metadata": {
  "kernelspec": {
   "display_name": "nlp-env",
   "language": "python",
   "name": "python3"
  },
  "language_info": {
   "codemirror_mode": {
    "name": "ipython",
    "version": 3
   },
   "file_extension": ".py",
   "mimetype": "text/x-python",
   "name": "python",
   "nbconvert_exporter": "python",
   "pygments_lexer": "ipython3",
   "version": "3.10.16"
  }
 },
 "nbformat": 4,
 "nbformat_minor": 2
}
