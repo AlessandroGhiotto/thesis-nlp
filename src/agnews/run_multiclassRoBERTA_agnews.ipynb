{
 "cells": [
  {
   "cell_type": "markdown",
   "metadata": {},
   "source": [
    "# First tests with RoBERTA on agnews\n",
    "\n",
    "- total number of samples: 500\n",
    "- model: \"roberta-large\"\n",
    "- dataset: agnews\n",
    "- LLM for synthetic data generation: \"deepseek-ai/DeepSeek-R1-Distill-Qwen-1.5B\""
   ]
  },
  {
   "cell_type": "code",
   "execution_count": 1,
   "metadata": {},
   "outputs": [],
   "source": [
    "import os\n",
    "import pandas as pd\n",
    "import matplotlib.pyplot as plt\n",
    "import json\n",
    "from sklearn.model_selection import train_test_split\n",
    "\n",
    "# CHANGE WORKING DIRECTORY TO ROOT\n",
    "current_dir = os.path.basename(os.getcwd())\n",
    "if current_dir == \"src\":\n",
    "    os.chdir(\"..\") # Move up by 1\n",
    "elif os.path.basename(os.getcwd()) == \"bai-thesis-nlp\":  \n",
    "    pass # If already at root, stay there\n",
    "else:\n",
    "    os.chdir(\"../..\") # Move up by 2 otherwise\n",
    "     \n",
    "from src._utils._helpers import get_generated_examples_df\n",
    "from src._utils._run_multiclassRoBERTA import main_multiclassRoBERTA"
   ]
  },
  {
   "cell_type": "code",
   "execution_count": 2,
   "metadata": {},
   "outputs": [],
   "source": [
    "FOLDER_DIR = \"src/agnews/experiments/RoBERTA_500samples\"\n",
    "LOG_DIR = os.path.join(FOLDER_DIR, \"RoBERTA_log.json\")\n",
    "\n",
    "### LOAD DATA ###\n",
    "# real data\n",
    "real_train_df = pd.read_csv(\"real_data/train/agnewstrainAll.csv\").rename(columns={\"2\": \"text\", \"3\": \"label\"})\n",
    "real_train_df.drop(columns=[\"0\", \"1\"], inplace=True)\n",
    "\n",
    "# Take 500 samples for dev set\n",
    "real_train_df, dev_df = train_test_split(real_train_df, test_size=500, random_state=42, stratify=real_train_df[\"label\"])\n",
    "\n",
    "# synthetic data (generic and targeted)\n",
    "syn_generic_df, _ = get_generated_examples_df(\"synthetic_data/datasets/syn_agnews_baseline_500.json\")\n",
    "syn_targeted_df, _ = get_generated_examples_df(\"synthetic_data/datasets/syn_agnews_targeted+tags_500.json\")\n",
    "syn_targeted_df = syn_targeted_df.drop(columns=[\"phenomena\"])"
   ]
  },
  {
   "cell_type": "code",
   "execution_count": 10,
   "metadata": {},
   "outputs": [
    {
     "data": {
      "application/vnd.jupyter.widget-view+json": {
       "model_id": "78e530a302c0418aa307b42a96c9db91",
       "version_major": 2,
       "version_minor": 0
      },
      "text/plain": [
       "Map:   0%|          | 0/500 [00:00<?, ? examples/s]"
      ]
     },
     "metadata": {},
     "output_type": "display_data"
    },
    {
     "data": {
      "application/vnd.jupyter.widget-view+json": {
       "model_id": "42e537321f3047cda0bb04b35026389a",
       "version_major": 2,
       "version_minor": 0
      },
      "text/plain": [
       "Map:   0%|          | 0/500 [00:00<?, ? examples/s]"
      ]
     },
     "metadata": {},
     "output_type": "display_data"
    },
    {
     "name": "stderr",
     "output_type": "stream",
     "text": [
      "Some weights of RobertaForSequenceClassification were not initialized from the model checkpoint at roberta-large and are newly initialized: ['classifier.dense.bias', 'classifier.dense.weight', 'classifier.out_proj.bias', 'classifier.out_proj.weight']\n",
      "You should probably TRAIN this model on a down-stream task to be able to use it for predictions and inference.\n"
     ]
    },
    {
     "data": {
      "text/html": [
       "\n",
       "    <div>\n",
       "      \n",
       "      <progress value='256' max='256' style='width:300px; height:20px; vertical-align: middle;'></progress>\n",
       "      [256/256 05:16, Epoch 8/8]\n",
       "    </div>\n",
       "    <table border=\"1\" class=\"dataframe\">\n",
       "  <thead>\n",
       " <tr style=\"text-align: left;\">\n",
       "      <th>Epoch</th>\n",
       "      <th>Training Loss</th>\n",
       "      <th>Validation Loss</th>\n",
       "      <th>F1 Micro</th>\n",
       "      <th>F1 Macro</th>\n",
       "      <th>Accuracy</th>\n",
       "    </tr>\n",
       "  </thead>\n",
       "  <tbody>\n",
       "    <tr>\n",
       "      <td>1</td>\n",
       "      <td>0.920800</td>\n",
       "      <td>0.307168</td>\n",
       "      <td>0.906000</td>\n",
       "      <td>0.862509</td>\n",
       "      <td>0.906000</td>\n",
       "    </tr>\n",
       "    <tr>\n",
       "      <td>2</td>\n",
       "      <td>0.223900</td>\n",
       "      <td>0.452858</td>\n",
       "      <td>0.896000</td>\n",
       "      <td>0.827142</td>\n",
       "      <td>0.896000</td>\n",
       "    </tr>\n",
       "    <tr>\n",
       "      <td>3</td>\n",
       "      <td>0.137500</td>\n",
       "      <td>0.354228</td>\n",
       "      <td>0.916000</td>\n",
       "      <td>0.868692</td>\n",
       "      <td>0.916000</td>\n",
       "    </tr>\n",
       "    <tr>\n",
       "      <td>4</td>\n",
       "      <td>0.058500</td>\n",
       "      <td>0.436584</td>\n",
       "      <td>0.924000</td>\n",
       "      <td>0.884980</td>\n",
       "      <td>0.924000</td>\n",
       "    </tr>\n",
       "    <tr>\n",
       "      <td>5</td>\n",
       "      <td>0.019700</td>\n",
       "      <td>0.527034</td>\n",
       "      <td>0.916000</td>\n",
       "      <td>0.879187</td>\n",
       "      <td>0.916000</td>\n",
       "    </tr>\n",
       "    <tr>\n",
       "      <td>6</td>\n",
       "      <td>0.005800</td>\n",
       "      <td>0.530325</td>\n",
       "      <td>0.914000</td>\n",
       "      <td>0.871346</td>\n",
       "      <td>0.914000</td>\n",
       "    </tr>\n",
       "    <tr>\n",
       "      <td>7</td>\n",
       "      <td>0.001000</td>\n",
       "      <td>0.532861</td>\n",
       "      <td>0.920000</td>\n",
       "      <td>0.882385</td>\n",
       "      <td>0.920000</td>\n",
       "    </tr>\n",
       "    <tr>\n",
       "      <td>8</td>\n",
       "      <td>0.000700</td>\n",
       "      <td>0.538202</td>\n",
       "      <td>0.922000</td>\n",
       "      <td>0.884604</td>\n",
       "      <td>0.922000</td>\n",
       "    </tr>\n",
       "  </tbody>\n",
       "</table><p>"
      ],
      "text/plain": [
       "<IPython.core.display.HTML object>"
      ]
     },
     "metadata": {},
     "output_type": "display_data"
    },
    {
     "name": "stdout",
     "output_type": "stream",
     "text": [
      "💾 experiment saved to: src/agnews/experiments/RoBERTA_500samples/TEMP\n",
      "\n",
      "🗑️ save_model=False: Checkpoints deleted after training.\n",
      "\n",
      "🚀 Metrics on dev set: {'f1_micro': '0.9240', 'f1_macro': '0.8850', 'accuracy': '0.9240'}\n",
      "\n",
      "📝 Experiments details:\n",
      "{\n",
      "    \"experiment_name\": \"TEMP\",\n",
      "    \"experiment_dir\": \"src/agnews/experiments/RoBERTA_500samples/TEMP\",\n",
      "    \"generation_method\": null,\n",
      "    \"timestamp\": \"2025-03-16T18:24:16.849245\",\n",
      "    \"model\": \"roberta-large\",\n",
      "    \"train_size\": 500,\n",
      "    \"dev_size\": 500,\n",
      "    \"synthetic_ratio\": 0.0,\n",
      "    \"train_time_seconds\": 319.46189975738525,\n",
      "    \"metrics_dev\": {\n",
      "        \"f1_micro\": 0.924,\n",
      "        \"f1_macro\": 0.8849795949659437,\n",
      "        \"accuracy\": 0.924\n",
      "    }\n",
      "}\n"
     ]
    }
   ],
   "source": [
    "results = []\n",
    "name = \"TEMP\"\n",
    "train_details = main_multiclassRoBERTA(\n",
    "    real_df=real_train_df,\n",
    "    synth_df=None,\n",
    "    dev_df=dev_df,\n",
    "    synth_ratio=0.0,\n",
    "    max_samples=500,\n",
    "    output_dir=os.path.join(FOLDER_DIR, name),\n",
    "    log_dir=LOG_DIR,\n",
    "    generation_method=None,\n",
    "    save_model=False,\n",
    "    save_dataset=False,\n",
    ")\n",
    "print(\"\\n📝 Experiments details:\")\n",
    "print(json.dumps(train_details, indent=4))\n",
    "\n",
    "res = train_details[\"metrics_dev\"]\n",
    "res[\"method\"] = name.replace(\"exp_\", \"\")\n",
    "results.append(res)"
   ]
  },
  {
   "cell_type": "markdown",
   "metadata": {},
   "source": [
    "## 1. 500 Real"
   ]
  },
  {
   "cell_type": "code",
   "execution_count": null,
   "metadata": {},
   "outputs": [
    {
     "data": {
      "application/vnd.jupyter.widget-view+json": {
       "model_id": "1897c7ff80624e68be1751de21133880",
       "version_major": 2,
       "version_minor": 0
      },
      "text/plain": [
       "Map:   0%|          | 0/500 [00:00<?, ? examples/s]"
      ]
     },
     "metadata": {},
     "output_type": "display_data"
    },
    {
     "data": {
      "application/vnd.jupyter.widget-view+json": {
       "model_id": "b3b642dca2f449228328ec7e1ab392aa",
       "version_major": 2,
       "version_minor": 0
      },
      "text/plain": [
       "Map:   0%|          | 0/500 [00:00<?, ? examples/s]"
      ]
     },
     "metadata": {},
     "output_type": "display_data"
    },
    {
     "name": "stderr",
     "output_type": "stream",
     "text": [
      "Some weights of RobertaForSequenceClassification were not initialized from the model checkpoint at roberta-large and are newly initialized: ['classifier.dense.bias', 'classifier.dense.weight', 'classifier.out_proj.bias', 'classifier.out_proj.weight']\n",
      "You should probably TRAIN this model on a down-stream task to be able to use it for predictions and inference.\n"
     ]
    },
    {
     "data": {
      "text/html": [
       "\n",
       "    <div>\n",
       "      \n",
       "      <progress value='256' max='256' style='width:300px; height:20px; vertical-align: middle;'></progress>\n",
       "      [256/256 05:07, Epoch 8/8]\n",
       "    </div>\n",
       "    <table border=\"1\" class=\"dataframe\">\n",
       "  <thead>\n",
       " <tr style=\"text-align: left;\">\n",
       "      <th>Epoch</th>\n",
       "      <th>Training Loss</th>\n",
       "      <th>Validation Loss</th>\n",
       "      <th>F1 Micro</th>\n",
       "      <th>F1 Macro</th>\n",
       "      <th>Accuracy</th>\n",
       "    </tr>\n",
       "  </thead>\n",
       "  <tbody>\n",
       "    <tr>\n",
       "      <td>1</td>\n",
       "      <td>0.920800</td>\n",
       "      <td>0.307168</td>\n",
       "      <td>0.906000</td>\n",
       "      <td>0.862509</td>\n",
       "      <td>0.906000</td>\n",
       "    </tr>\n",
       "    <tr>\n",
       "      <td>2</td>\n",
       "      <td>0.223900</td>\n",
       "      <td>0.452858</td>\n",
       "      <td>0.896000</td>\n",
       "      <td>0.827142</td>\n",
       "      <td>0.896000</td>\n",
       "    </tr>\n",
       "    <tr>\n",
       "      <td>3</td>\n",
       "      <td>0.137500</td>\n",
       "      <td>0.354228</td>\n",
       "      <td>0.916000</td>\n",
       "      <td>0.868692</td>\n",
       "      <td>0.916000</td>\n",
       "    </tr>\n",
       "    <tr>\n",
       "      <td>4</td>\n",
       "      <td>0.058500</td>\n",
       "      <td>0.436584</td>\n",
       "      <td>0.924000</td>\n",
       "      <td>0.884980</td>\n",
       "      <td>0.924000</td>\n",
       "    </tr>\n",
       "    <tr>\n",
       "      <td>5</td>\n",
       "      <td>0.019700</td>\n",
       "      <td>0.527034</td>\n",
       "      <td>0.916000</td>\n",
       "      <td>0.879187</td>\n",
       "      <td>0.916000</td>\n",
       "    </tr>\n",
       "    <tr>\n",
       "      <td>6</td>\n",
       "      <td>0.005800</td>\n",
       "      <td>0.530325</td>\n",
       "      <td>0.914000</td>\n",
       "      <td>0.871346</td>\n",
       "      <td>0.914000</td>\n",
       "    </tr>\n",
       "    <tr>\n",
       "      <td>7</td>\n",
       "      <td>0.001000</td>\n",
       "      <td>0.532861</td>\n",
       "      <td>0.920000</td>\n",
       "      <td>0.882385</td>\n",
       "      <td>0.920000</td>\n",
       "    </tr>\n",
       "    <tr>\n",
       "      <td>8</td>\n",
       "      <td>0.000700</td>\n",
       "      <td>0.538202</td>\n",
       "      <td>0.922000</td>\n",
       "      <td>0.884604</td>\n",
       "      <td>0.922000</td>\n",
       "    </tr>\n",
       "  </tbody>\n",
       "</table><p>"
      ],
      "text/plain": [
       "<IPython.core.display.HTML object>"
      ]
     },
     "metadata": {},
     "output_type": "display_data"
    },
    {
     "name": "stdout",
     "output_type": "stream",
     "text": [
      "💾 experiment saved to: src/agnews/experiments/RoBERTA_500samples/exp_500real\n",
      "\n",
      "🗑️ save_model=False: Checkpoints deleted after training.\n",
      "\n",
      "🚀 Metrics on dev set: {'f1_micro': '0.9240', 'f1_macro': '0.8850', 'accuracy': '0.9240'}\n",
      "\n",
      "📝 Experiments details:\n",
      "{\n",
      "    \"experiment_name\": \"exp_500real\",\n",
      "    \"experiment_dir\": \"src/agnews/experiments/RoBERTA_500samples/exp_500real\",\n",
      "    \"generation_method\": null,\n",
      "    \"timestamp\": \"2025-03-16T17:25:22.584069\",\n",
      "    \"model\": \"roberta-large\",\n",
      "    \"train_size\": 500,\n",
      "    \"dev_size\": 500,\n",
      "    \"synthetic_ratio\": 0.0,\n",
      "    \"train_time_seconds\": 309.2534363269806,\n",
      "    \"metrics_dev\": {\n",
      "        \"f1_micro\": 0.924,\n",
      "        \"f1_macro\": 0.8849795949659437,\n",
      "        \"accuracy\": 0.924\n",
      "    }\n",
      "}\n"
     ]
    }
   ],
   "source": [
    "results = []\n",
    "name = \"exp_500real\"\n",
    "train_details = main_multiclassRoBERTA(\n",
    "    real_df=real_train_df,\n",
    "    synth_df=None,\n",
    "    dev_df=dev_df,\n",
    "    synth_ratio=0.0,\n",
    "    max_samples=500,\n",
    "    output_dir=os.path.join(FOLDER_DIR, name),\n",
    "    log_dir=LOG_DIR,\n",
    "    generation_method=None,\n",
    "    save_model=False,\n",
    "    save_dataset=False,\n",
    ")\n",
    "print(\"\\n📝 Experiments details:\")\n",
    "print(json.dumps(train_details, indent=4))\n",
    "\n",
    "res = train_details[\"metrics_dev\"]\n",
    "res[\"method\"] = name.replace(\"exp_\", \"\")\n",
    "results.append(res)"
   ]
  },
  {
   "cell_type": "markdown",
   "metadata": {},
   "source": [
    "## 2. 250 Real + 250 Generic Augmentation"
   ]
  },
  {
   "cell_type": "code",
   "execution_count": null,
   "metadata": {},
   "outputs": [
    {
     "data": {
      "application/vnd.jupyter.widget-view+json": {
       "model_id": "1a3741dc9ae54ab2ac44a89d95160f65",
       "version_major": 2,
       "version_minor": 0
      },
      "text/plain": [
       "Map:   0%|          | 0/500 [00:00<?, ? examples/s]"
      ]
     },
     "metadata": {},
     "output_type": "display_data"
    },
    {
     "data": {
      "application/vnd.jupyter.widget-view+json": {
       "model_id": "ed83675b94354c5d8005c0d18f0cf28c",
       "version_major": 2,
       "version_minor": 0
      },
      "text/plain": [
       "Map:   0%|          | 0/500 [00:00<?, ? examples/s]"
      ]
     },
     "metadata": {},
     "output_type": "display_data"
    },
    {
     "name": "stderr",
     "output_type": "stream",
     "text": [
      "Some weights of RobertaForSequenceClassification were not initialized from the model checkpoint at roberta-large and are newly initialized: ['classifier.dense.bias', 'classifier.dense.weight', 'classifier.out_proj.bias', 'classifier.out_proj.weight']\n",
      "You should probably TRAIN this model on a down-stream task to be able to use it for predictions and inference.\n"
     ]
    },
    {
     "data": {
      "text/html": [
       "\n",
       "    <div>\n",
       "      \n",
       "      <progress value='256' max='256' style='width:300px; height:20px; vertical-align: middle;'></progress>\n",
       "      [256/256 05:12, Epoch 8/8]\n",
       "    </div>\n",
       "    <table border=\"1\" class=\"dataframe\">\n",
       "  <thead>\n",
       " <tr style=\"text-align: left;\">\n",
       "      <th>Epoch</th>\n",
       "      <th>Training Loss</th>\n",
       "      <th>Validation Loss</th>\n",
       "      <th>F1 Micro</th>\n",
       "      <th>F1 Macro</th>\n",
       "      <th>Accuracy</th>\n",
       "    </tr>\n",
       "  </thead>\n",
       "  <tbody>\n",
       "    <tr>\n",
       "      <td>1</td>\n",
       "      <td>1.130500</td>\n",
       "      <td>0.412698</td>\n",
       "      <td>0.882000</td>\n",
       "      <td>0.800361</td>\n",
       "      <td>0.882000</td>\n",
       "    </tr>\n",
       "    <tr>\n",
       "      <td>2</td>\n",
       "      <td>0.497900</td>\n",
       "      <td>0.297253</td>\n",
       "      <td>0.910000</td>\n",
       "      <td>0.868144</td>\n",
       "      <td>0.910000</td>\n",
       "    </tr>\n",
       "    <tr>\n",
       "      <td>3</td>\n",
       "      <td>0.293600</td>\n",
       "      <td>0.333257</td>\n",
       "      <td>0.904000</td>\n",
       "      <td>0.854676</td>\n",
       "      <td>0.904000</td>\n",
       "    </tr>\n",
       "    <tr>\n",
       "      <td>4</td>\n",
       "      <td>0.157600</td>\n",
       "      <td>0.351670</td>\n",
       "      <td>0.912000</td>\n",
       "      <td>0.864202</td>\n",
       "      <td>0.912000</td>\n",
       "    </tr>\n",
       "    <tr>\n",
       "      <td>5</td>\n",
       "      <td>0.108800</td>\n",
       "      <td>0.460132</td>\n",
       "      <td>0.900000</td>\n",
       "      <td>0.855615</td>\n",
       "      <td>0.900000</td>\n",
       "    </tr>\n",
       "    <tr>\n",
       "      <td>6</td>\n",
       "      <td>0.075300</td>\n",
       "      <td>0.477620</td>\n",
       "      <td>0.902000</td>\n",
       "      <td>0.855902</td>\n",
       "      <td>0.902000</td>\n",
       "    </tr>\n",
       "    <tr>\n",
       "      <td>7</td>\n",
       "      <td>0.037200</td>\n",
       "      <td>0.498700</td>\n",
       "      <td>0.896000</td>\n",
       "      <td>0.850865</td>\n",
       "      <td>0.896000</td>\n",
       "    </tr>\n",
       "    <tr>\n",
       "      <td>8</td>\n",
       "      <td>0.024400</td>\n",
       "      <td>0.518306</td>\n",
       "      <td>0.896000</td>\n",
       "      <td>0.851775</td>\n",
       "      <td>0.896000</td>\n",
       "    </tr>\n",
       "  </tbody>\n",
       "</table><p>"
      ],
      "text/plain": [
       "<IPython.core.display.HTML object>"
      ]
     },
     "metadata": {},
     "output_type": "display_data"
    },
    {
     "name": "stdout",
     "output_type": "stream",
     "text": [
      "💾 experiment saved to: src/agnews/experiments/RoBERTA_500samples/exp_250real_250generic\n",
      "\n",
      "🗑️ save_model=False: Checkpoints deleted after training.\n",
      "\n",
      "🚀 Metrics on dev set: {'f1_micro': '0.9120', 'f1_macro': '0.8642', 'accuracy': '0.9120'}\n",
      "\n",
      "TRAIN DETAILS:\n",
      "{\n",
      "    \"experiment_name\": \"exp_250real_250generic\",\n",
      "    \"experiment_dir\": \"src/agnews/experiments/RoBERTA_500samples/exp_250real_250generic\",\n",
      "    \"generation_method\": \"generic augmentation\",\n",
      "    \"timestamp\": \"2025-03-16T17:30:47.198775\",\n",
      "    \"model\": \"roberta-large\",\n",
      "    \"train_size\": 500,\n",
      "    \"dev_size\": 500,\n",
      "    \"synthetic_ratio\": 0.5,\n",
      "    \"train_time_seconds\": 315.88418555259705,\n",
      "    \"metrics_dev\": {\n",
      "        \"f1_micro\": 0.912,\n",
      "        \"f1_macro\": 0.8642021536113353,\n",
      "        \"accuracy\": 0.912\n",
      "    }\n",
      "}\n"
     ]
    }
   ],
   "source": [
    "name = \"exp_250real_250generic\"\n",
    "train_details = main_multiclassRoBERTA(\n",
    "    real_df=real_train_df,\n",
    "    synth_df=syn_generic_df, # Generic Augmentation\n",
    "    dev_df=dev_df,\n",
    "    synth_ratio=0.5, # 50% of the data is synthetic\n",
    "    max_samples=500,\n",
    "    output_dir=os.path.join(FOLDER_DIR, name),\n",
    "    log_dir=LOG_DIR,\n",
    "    generation_method=\"generic augmentation\",\n",
    "    save_model=False,\n",
    "    save_dataset=False,\n",
    ")\n",
    "print(\"\\nTRAIN DETAILS:\")\n",
    "print(json.dumps(train_details, indent=4))\n",
    "\n",
    "res = train_details[\"metrics_dev\"]\n",
    "res[\"method\"] = name.replace(\"exp_\", \"\")\n",
    "results.append(res)"
   ]
  },
  {
   "cell_type": "markdown",
   "metadata": {},
   "source": [
    "## 3. 250 Real + 250 Targeted Augmentation"
   ]
  },
  {
   "cell_type": "code",
   "execution_count": null,
   "metadata": {},
   "outputs": [
    {
     "data": {
      "application/vnd.jupyter.widget-view+json": {
       "model_id": "97ec2d8d07ed4c5dbaba074310523a92",
       "version_major": 2,
       "version_minor": 0
      },
      "text/plain": [
       "Map:   0%|          | 0/500 [00:00<?, ? examples/s]"
      ]
     },
     "metadata": {},
     "output_type": "display_data"
    },
    {
     "data": {
      "application/vnd.jupyter.widget-view+json": {
       "model_id": "4c74cded9758495b88a70b22b65cf911",
       "version_major": 2,
       "version_minor": 0
      },
      "text/plain": [
       "Map:   0%|          | 0/500 [00:00<?, ? examples/s]"
      ]
     },
     "metadata": {},
     "output_type": "display_data"
    },
    {
     "name": "stderr",
     "output_type": "stream",
     "text": [
      "Some weights of RobertaForSequenceClassification were not initialized from the model checkpoint at roberta-large and are newly initialized: ['classifier.dense.bias', 'classifier.dense.weight', 'classifier.out_proj.bias', 'classifier.out_proj.weight']\n",
      "You should probably TRAIN this model on a down-stream task to be able to use it for predictions and inference.\n"
     ]
    },
    {
     "data": {
      "text/html": [
       "\n",
       "    <div>\n",
       "      \n",
       "      <progress value='256' max='256' style='width:300px; height:20px; vertical-align: middle;'></progress>\n",
       "      [256/256 05:06, Epoch 8/8]\n",
       "    </div>\n",
       "    <table border=\"1\" class=\"dataframe\">\n",
       "  <thead>\n",
       " <tr style=\"text-align: left;\">\n",
       "      <th>Epoch</th>\n",
       "      <th>Training Loss</th>\n",
       "      <th>Validation Loss</th>\n",
       "      <th>F1 Micro</th>\n",
       "      <th>F1 Macro</th>\n",
       "      <th>Accuracy</th>\n",
       "    </tr>\n",
       "  </thead>\n",
       "  <tbody>\n",
       "    <tr>\n",
       "      <td>1</td>\n",
       "      <td>1.099300</td>\n",
       "      <td>0.443672</td>\n",
       "      <td>0.870000</td>\n",
       "      <td>0.777154</td>\n",
       "      <td>0.870000</td>\n",
       "    </tr>\n",
       "    <tr>\n",
       "      <td>2</td>\n",
       "      <td>0.433800</td>\n",
       "      <td>0.340546</td>\n",
       "      <td>0.894000</td>\n",
       "      <td>0.836344</td>\n",
       "      <td>0.894000</td>\n",
       "    </tr>\n",
       "    <tr>\n",
       "      <td>3</td>\n",
       "      <td>0.240500</td>\n",
       "      <td>0.361814</td>\n",
       "      <td>0.910000</td>\n",
       "      <td>0.861642</td>\n",
       "      <td>0.910000</td>\n",
       "    </tr>\n",
       "    <tr>\n",
       "      <td>4</td>\n",
       "      <td>0.167100</td>\n",
       "      <td>0.554440</td>\n",
       "      <td>0.880000</td>\n",
       "      <td>0.826225</td>\n",
       "      <td>0.880000</td>\n",
       "    </tr>\n",
       "    <tr>\n",
       "      <td>5</td>\n",
       "      <td>0.100800</td>\n",
       "      <td>0.464890</td>\n",
       "      <td>0.908000</td>\n",
       "      <td>0.865575</td>\n",
       "      <td>0.908000</td>\n",
       "    </tr>\n",
       "    <tr>\n",
       "      <td>6</td>\n",
       "      <td>0.056100</td>\n",
       "      <td>0.497637</td>\n",
       "      <td>0.912000</td>\n",
       "      <td>0.861275</td>\n",
       "      <td>0.912000</td>\n",
       "    </tr>\n",
       "    <tr>\n",
       "      <td>7</td>\n",
       "      <td>0.035700</td>\n",
       "      <td>0.485546</td>\n",
       "      <td>0.920000</td>\n",
       "      <td>0.881810</td>\n",
       "      <td>0.920000</td>\n",
       "    </tr>\n",
       "    <tr>\n",
       "      <td>8</td>\n",
       "      <td>0.017300</td>\n",
       "      <td>0.488898</td>\n",
       "      <td>0.924000</td>\n",
       "      <td>0.886858</td>\n",
       "      <td>0.924000</td>\n",
       "    </tr>\n",
       "  </tbody>\n",
       "</table><p>"
      ],
      "text/plain": [
       "<IPython.core.display.HTML object>"
      ]
     },
     "metadata": {},
     "output_type": "display_data"
    },
    {
     "name": "stdout",
     "output_type": "stream",
     "text": [
      "💾 experiment saved to: src/agnews/experiments/RoBERTA_500samples/exp_250real_250targeted\n",
      "\n",
      "🗑️ save_model=False: Checkpoints deleted after training.\n",
      "\n",
      "🚀 Metrics on dev set: {'f1_micro': '0.9240', 'f1_macro': '0.8869', 'accuracy': '0.9240'}\n",
      "\n",
      "TRAIN DETAILS:\n",
      "{\n",
      "    \"experiment_name\": \"exp_250real_250targeted\",\n",
      "    \"experiment_dir\": \"src/agnews/experiments/RoBERTA_500samples/exp_250real_250targeted\",\n",
      "    \"generation_method\": \"targeted augmentation\",\n",
      "    \"timestamp\": \"2025-03-16T17:36:04.913184\",\n",
      "    \"model\": \"roberta-large\",\n",
      "    \"train_size\": 500,\n",
      "    \"dev_size\": 500,\n",
      "    \"synthetic_ratio\": 0.5,\n",
      "    \"train_time_seconds\": 309.08077239990234,\n",
      "    \"metrics_dev\": {\n",
      "        \"f1_micro\": 0.924,\n",
      "        \"f1_macro\": 0.8868578738728308,\n",
      "        \"accuracy\": 0.924\n",
      "    }\n",
      "}\n"
     ]
    }
   ],
   "source": [
    "name = \"exp_250real_250targeted\"\n",
    "train_details = main_multiclassRoBERTA(\n",
    "    real_df=real_train_df,\n",
    "    synth_df=syn_targeted_df, # Targeted Augmentation\n",
    "    dev_df=dev_df,\n",
    "    synth_ratio=0.5, # 50% of the data is synthetic\n",
    "    max_samples=500,\n",
    "    output_dir=os.path.join(FOLDER_DIR, name),\n",
    "    log_dir=LOG_DIR,\n",
    "    generation_method=\"targeted augmentation\",\n",
    "    save_model=False,\n",
    "    save_dataset=False,\n",
    ")\n",
    "print(\"\\nTRAIN DETAILS:\")\n",
    "print(json.dumps(train_details, indent=4))\n",
    "\n",
    "res = train_details[\"metrics_dev\"]\n",
    "res[\"method\"] = name.replace(\"exp_\", \"\")\n",
    "results.append(res)"
   ]
  },
  {
   "cell_type": "markdown",
   "metadata": {},
   "source": [
    "## 4. 500 Generic Augmentation"
   ]
  },
  {
   "cell_type": "code",
   "execution_count": null,
   "metadata": {},
   "outputs": [
    {
     "data": {
      "application/vnd.jupyter.widget-view+json": {
       "model_id": "d3f0103e4e4a48a2b945da145dedf6a1",
       "version_major": 2,
       "version_minor": 0
      },
      "text/plain": [
       "Map:   0%|          | 0/500 [00:00<?, ? examples/s]"
      ]
     },
     "metadata": {},
     "output_type": "display_data"
    },
    {
     "data": {
      "application/vnd.jupyter.widget-view+json": {
       "model_id": "ba8f2d39248f41829d8d17fed4ac4d37",
       "version_major": 2,
       "version_minor": 0
      },
      "text/plain": [
       "Map:   0%|          | 0/500 [00:00<?, ? examples/s]"
      ]
     },
     "metadata": {},
     "output_type": "display_data"
    },
    {
     "name": "stderr",
     "output_type": "stream",
     "text": [
      "Some weights of RobertaForSequenceClassification were not initialized from the model checkpoint at roberta-large and are newly initialized: ['classifier.dense.bias', 'classifier.dense.weight', 'classifier.out_proj.bias', 'classifier.out_proj.weight']\n",
      "You should probably TRAIN this model on a down-stream task to be able to use it for predictions and inference.\n"
     ]
    },
    {
     "data": {
      "text/html": [
       "\n",
       "    <div>\n",
       "      \n",
       "      <progress value='256' max='256' style='width:300px; height:20px; vertical-align: middle;'></progress>\n",
       "      [256/256 05:12, Epoch 8/8]\n",
       "    </div>\n",
       "    <table border=\"1\" class=\"dataframe\">\n",
       "  <thead>\n",
       " <tr style=\"text-align: left;\">\n",
       "      <th>Epoch</th>\n",
       "      <th>Training Loss</th>\n",
       "      <th>Validation Loss</th>\n",
       "      <th>F1 Micro</th>\n",
       "      <th>F1 Macro</th>\n",
       "      <th>Accuracy</th>\n",
       "    </tr>\n",
       "  </thead>\n",
       "  <tbody>\n",
       "    <tr>\n",
       "      <td>1</td>\n",
       "      <td>0.958600</td>\n",
       "      <td>0.687914</td>\n",
       "      <td>0.762000</td>\n",
       "      <td>0.724130</td>\n",
       "      <td>0.762000</td>\n",
       "    </tr>\n",
       "    <tr>\n",
       "      <td>2</td>\n",
       "      <td>0.480900</td>\n",
       "      <td>0.811682</td>\n",
       "      <td>0.694000</td>\n",
       "      <td>0.671680</td>\n",
       "      <td>0.694000</td>\n",
       "    </tr>\n",
       "    <tr>\n",
       "      <td>3</td>\n",
       "      <td>0.402600</td>\n",
       "      <td>0.827876</td>\n",
       "      <td>0.664000</td>\n",
       "      <td>0.602715</td>\n",
       "      <td>0.664000</td>\n",
       "    </tr>\n",
       "    <tr>\n",
       "      <td>4</td>\n",
       "      <td>0.267400</td>\n",
       "      <td>0.739060</td>\n",
       "      <td>0.716000</td>\n",
       "      <td>0.666758</td>\n",
       "      <td>0.716000</td>\n",
       "    </tr>\n",
       "    <tr>\n",
       "      <td>5</td>\n",
       "      <td>0.205400</td>\n",
       "      <td>1.005670</td>\n",
       "      <td>0.642000</td>\n",
       "      <td>0.599128</td>\n",
       "      <td>0.642000</td>\n",
       "    </tr>\n",
       "    <tr>\n",
       "      <td>6</td>\n",
       "      <td>0.145400</td>\n",
       "      <td>0.826668</td>\n",
       "      <td>0.712000</td>\n",
       "      <td>0.665837</td>\n",
       "      <td>0.712000</td>\n",
       "    </tr>\n",
       "    <tr>\n",
       "      <td>7</td>\n",
       "      <td>0.102200</td>\n",
       "      <td>0.958910</td>\n",
       "      <td>0.696000</td>\n",
       "      <td>0.654141</td>\n",
       "      <td>0.696000</td>\n",
       "    </tr>\n",
       "    <tr>\n",
       "      <td>8</td>\n",
       "      <td>0.084300</td>\n",
       "      <td>0.868857</td>\n",
       "      <td>0.718000</td>\n",
       "      <td>0.673581</td>\n",
       "      <td>0.718000</td>\n",
       "    </tr>\n",
       "  </tbody>\n",
       "</table><p>"
      ],
      "text/plain": [
       "<IPython.core.display.HTML object>"
      ]
     },
     "metadata": {},
     "output_type": "display_data"
    },
    {
     "name": "stdout",
     "output_type": "stream",
     "text": [
      "💾 experiment saved to: src/agnews/experiments/RoBERTA_500samples/exp_500generic\n",
      "\n",
      "🗑️ save_model=False: Checkpoints deleted after training.\n",
      "\n",
      "🚀 Metrics on dev set: {'f1_micro': '0.7620', 'f1_macro': '0.7241', 'accuracy': '0.7620'}\n",
      "\n",
      "TRAIN DETAILS:\n",
      "{\n",
      "    \"experiment_name\": \"exp_500generic\",\n",
      "    \"experiment_dir\": \"src/agnews/experiments/RoBERTA_500samples/exp_500generic\",\n",
      "    \"generation_method\": \"generic augmentation\",\n",
      "    \"timestamp\": \"2025-03-16T17:41:28.001282\",\n",
      "    \"model\": \"roberta-large\",\n",
      "    \"train_size\": 500,\n",
      "    \"dev_size\": 500,\n",
      "    \"synthetic_ratio\": 1.0,\n",
      "    \"train_time_seconds\": 314.4267609119415,\n",
      "    \"metrics_dev\": {\n",
      "        \"f1_micro\": 0.762,\n",
      "        \"f1_macro\": 0.7241301847512627,\n",
      "        \"accuracy\": 0.762\n",
      "    }\n",
      "}\n"
     ]
    }
   ],
   "source": [
    "name = \"exp_500generic\"\n",
    "train_details = main_multiclassRoBERTA(\n",
    "    real_df=None,\n",
    "    synth_df=syn_generic_df, # Generic Augmentation\n",
    "    dev_df=dev_df,\n",
    "    synth_ratio=1.0, # 100% of the data is synthetic\n",
    "    max_samples=500,\n",
    "    output_dir=os.path.join(FOLDER_DIR, name),\n",
    "    log_dir=LOG_DIR,\n",
    "    generation_method=\"generic augmentation\",\n",
    "    save_model=False,\n",
    "    save_dataset=False,\n",
    ")\n",
    "print(\"\\nTRAIN DETAILS:\")\n",
    "print(json.dumps(train_details, indent=4))\n",
    "\n",
    "res = train_details[\"metrics_dev\"]\n",
    "res[\"method\"] = name.replace(\"exp_\", \"\")\n",
    "results.append(res)"
   ]
  },
  {
   "cell_type": "markdown",
   "metadata": {},
   "source": [
    "## 5. 500 Targeted Augmentation"
   ]
  },
  {
   "cell_type": "code",
   "execution_count": null,
   "metadata": {},
   "outputs": [
    {
     "data": {
      "application/vnd.jupyter.widget-view+json": {
       "model_id": "2321d32eac394314930b1ac591023d52",
       "version_major": 2,
       "version_minor": 0
      },
      "text/plain": [
       "Map:   0%|          | 0/500 [00:00<?, ? examples/s]"
      ]
     },
     "metadata": {},
     "output_type": "display_data"
    },
    {
     "data": {
      "application/vnd.jupyter.widget-view+json": {
       "model_id": "d931ca0a20714a01a71e38b01f42d463",
       "version_major": 2,
       "version_minor": 0
      },
      "text/plain": [
       "Map:   0%|          | 0/500 [00:00<?, ? examples/s]"
      ]
     },
     "metadata": {},
     "output_type": "display_data"
    },
    {
     "name": "stderr",
     "output_type": "stream",
     "text": [
      "Some weights of RobertaForSequenceClassification were not initialized from the model checkpoint at roberta-large and are newly initialized: ['classifier.dense.bias', 'classifier.dense.weight', 'classifier.out_proj.bias', 'classifier.out_proj.weight']\n",
      "You should probably TRAIN this model on a down-stream task to be able to use it for predictions and inference.\n"
     ]
    },
    {
     "data": {
      "text/html": [
       "\n",
       "    <div>\n",
       "      \n",
       "      <progress value='256' max='256' style='width:300px; height:20px; vertical-align: middle;'></progress>\n",
       "      [256/256 05:01, Epoch 8/8]\n",
       "    </div>\n",
       "    <table border=\"1\" class=\"dataframe\">\n",
       "  <thead>\n",
       " <tr style=\"text-align: left;\">\n",
       "      <th>Epoch</th>\n",
       "      <th>Training Loss</th>\n",
       "      <th>Validation Loss</th>\n",
       "      <th>F1 Micro</th>\n",
       "      <th>F1 Macro</th>\n",
       "      <th>Accuracy</th>\n",
       "    </tr>\n",
       "  </thead>\n",
       "  <tbody>\n",
       "    <tr>\n",
       "      <td>1</td>\n",
       "      <td>0.990800</td>\n",
       "      <td>0.576532</td>\n",
       "      <td>0.852000</td>\n",
       "      <td>0.805969</td>\n",
       "      <td>0.852000</td>\n",
       "    </tr>\n",
       "    <tr>\n",
       "      <td>2</td>\n",
       "      <td>0.483700</td>\n",
       "      <td>0.885444</td>\n",
       "      <td>0.708000</td>\n",
       "      <td>0.672196</td>\n",
       "      <td>0.708000</td>\n",
       "    </tr>\n",
       "    <tr>\n",
       "      <td>3</td>\n",
       "      <td>0.328400</td>\n",
       "      <td>0.652601</td>\n",
       "      <td>0.804000</td>\n",
       "      <td>0.771344</td>\n",
       "      <td>0.804000</td>\n",
       "    </tr>\n",
       "    <tr>\n",
       "      <td>4</td>\n",
       "      <td>0.261600</td>\n",
       "      <td>0.658721</td>\n",
       "      <td>0.762000</td>\n",
       "      <td>0.731043</td>\n",
       "      <td>0.762000</td>\n",
       "    </tr>\n",
       "    <tr>\n",
       "      <td>5</td>\n",
       "      <td>0.167700</td>\n",
       "      <td>0.941585</td>\n",
       "      <td>0.684000</td>\n",
       "      <td>0.664427</td>\n",
       "      <td>0.684000</td>\n",
       "    </tr>\n",
       "    <tr>\n",
       "      <td>6</td>\n",
       "      <td>0.126200</td>\n",
       "      <td>1.170224</td>\n",
       "      <td>0.642000</td>\n",
       "      <td>0.631658</td>\n",
       "      <td>0.642000</td>\n",
       "    </tr>\n",
       "    <tr>\n",
       "      <td>7</td>\n",
       "      <td>0.076700</td>\n",
       "      <td>0.934078</td>\n",
       "      <td>0.706000</td>\n",
       "      <td>0.684594</td>\n",
       "      <td>0.706000</td>\n",
       "    </tr>\n",
       "    <tr>\n",
       "      <td>8</td>\n",
       "      <td>0.036000</td>\n",
       "      <td>1.031700</td>\n",
       "      <td>0.690000</td>\n",
       "      <td>0.672748</td>\n",
       "      <td>0.690000</td>\n",
       "    </tr>\n",
       "  </tbody>\n",
       "</table><p>"
      ],
      "text/plain": [
       "<IPython.core.display.HTML object>"
      ]
     },
     "metadata": {},
     "output_type": "display_data"
    },
    {
     "name": "stdout",
     "output_type": "stream",
     "text": [
      "💾 experiment saved to: src/agnews/experiments/RoBERTA_500samples/exp_500targeted\n",
      "\n",
      "🗑️ save_model=False: Checkpoints deleted after training.\n",
      "\n",
      "🚀 Metrics on dev set: {'f1_micro': '0.8520', 'f1_macro': '0.8060', 'accuracy': '0.8520'}\n",
      "\n",
      "TRAIN DETAILS:\n",
      "{\n",
      "    \"experiment_name\": \"exp_500targeted\",\n",
      "    \"experiment_dir\": \"src/agnews/experiments/RoBERTA_500samples/exp_500targeted\",\n",
      "    \"generation_method\": \"targeted augmentation\",\n",
      "    \"timestamp\": \"2025-03-16T17:46:39.877634\",\n",
      "    \"model\": \"roberta-large\",\n",
      "    \"train_size\": 500,\n",
      "    \"dev_size\": 500,\n",
      "    \"synthetic_ratio\": 1.0,\n",
      "    \"train_time_seconds\": 303.3860650062561,\n",
      "    \"metrics_dev\": {\n",
      "        \"f1_micro\": 0.852,\n",
      "        \"f1_macro\": 0.8059685094259561,\n",
      "        \"accuracy\": 0.852\n",
      "    }\n",
      "}\n"
     ]
    }
   ],
   "source": [
    "name = \"exp_500targeted\"\n",
    "train_details = main_multiclassRoBERTA(\n",
    "    real_df=None,\n",
    "    synth_df=syn_targeted_df, # Targeted Augmentation\n",
    "    dev_df=dev_df,\n",
    "    synth_ratio=1.0, # 100% of the data is synthetic\n",
    "    max_samples=500,\n",
    "    output_dir=os.path.join(FOLDER_DIR, name),\n",
    "    log_dir=LOG_DIR,\n",
    "    generation_method=\"targeted augmentation\",\n",
    "    save_model=False,\n",
    "    save_dataset=False,\n",
    ")\n",
    "print(\"\\nTRAIN DETAILS:\")\n",
    "print(json.dumps(train_details, indent=4))\n",
    "\n",
    "res = train_details[\"metrics_dev\"]\n",
    "res[\"method\"] = name.replace(\"exp_\", \"\")\n",
    "results.append(res)"
   ]
  },
  {
   "cell_type": "markdown",
   "metadata": {},
   "source": [
    "## Results"
   ]
  },
  {
   "cell_type": "code",
   "execution_count": null,
   "metadata": {},
   "outputs": [
    {
     "data": {
      "text/html": [
       "<div>\n",
       "<style scoped>\n",
       "    .dataframe tbody tr th:only-of-type {\n",
       "        vertical-align: middle;\n",
       "    }\n",
       "\n",
       "    .dataframe tbody tr th {\n",
       "        vertical-align: top;\n",
       "    }\n",
       "\n",
       "    .dataframe thead th {\n",
       "        text-align: right;\n",
       "    }\n",
       "</style>\n",
       "<table border=\"1\" class=\"dataframe\">\n",
       "  <thead>\n",
       "    <tr style=\"text-align: right;\">\n",
       "      <th></th>\n",
       "      <th>method</th>\n",
       "      <th>f1_micro</th>\n",
       "      <th>f1_macro</th>\n",
       "      <th>accuracy</th>\n",
       "    </tr>\n",
       "  </thead>\n",
       "  <tbody>\n",
       "    <tr>\n",
       "      <th>0</th>\n",
       "      <td>500real</td>\n",
       "      <td>0.924</td>\n",
       "      <td>0.885</td>\n",
       "      <td>0.924</td>\n",
       "    </tr>\n",
       "    <tr>\n",
       "      <th>1</th>\n",
       "      <td>250real_250generic</td>\n",
       "      <td>0.912</td>\n",
       "      <td>0.864</td>\n",
       "      <td>0.912</td>\n",
       "    </tr>\n",
       "    <tr>\n",
       "      <th>2</th>\n",
       "      <td>250real_250targeted</td>\n",
       "      <td>0.924</td>\n",
       "      <td>0.887</td>\n",
       "      <td>0.924</td>\n",
       "    </tr>\n",
       "    <tr>\n",
       "      <th>3</th>\n",
       "      <td>500generic</td>\n",
       "      <td>0.762</td>\n",
       "      <td>0.724</td>\n",
       "      <td>0.762</td>\n",
       "    </tr>\n",
       "    <tr>\n",
       "      <th>4</th>\n",
       "      <td>500targeted</td>\n",
       "      <td>0.852</td>\n",
       "      <td>0.806</td>\n",
       "      <td>0.852</td>\n",
       "    </tr>\n",
       "  </tbody>\n",
       "</table>\n",
       "</div>"
      ],
      "text/plain": [
       "                method  f1_micro  f1_macro  accuracy\n",
       "0              500real     0.924     0.885     0.924\n",
       "1   250real_250generic     0.912     0.864     0.912\n",
       "2  250real_250targeted     0.924     0.887     0.924\n",
       "3           500generic     0.762     0.724     0.762\n",
       "4          500targeted     0.852     0.806     0.852"
      ]
     },
     "metadata": {},
     "output_type": "display_data"
    }
   ],
   "source": [
    "df_results = pd.DataFrame(results)\n",
    "new_order = [\"method\"] + [col for col in df_results.columns if col != \"method\"]\n",
    "df_results = df_results[new_order]\n",
    "df_results.to_csv(os.path.join(FOLDER_DIR, \"RoBERTA_results_dev.csv\"), index=False)\n",
    "display(df_results.round(3))"
   ]
  },
  {
   "cell_type": "code",
   "execution_count": 9,
   "metadata": {},
   "outputs": [
    {
     "data": {
      "image/png": "[encoded data removed]",
      "text/plain": [
       "<Figure size 1000x500 with 1 Axes>"
      ]
     },
     "metadata": {},
     "output_type": "display_data"
    }
   ],
   "source": [
    "# df_results = pd.read_csv(os.path.join(FOLDER_DIR, \"results_RoBERTA.csv\"))\n",
    "\n",
    "plot_df = df_results.set_index('method')\n",
    "colors = ['#ff595e', '#f7b801', '#8ac926', '#1982c4', '#6a4c93']\n",
    "ax = plot_df.T.plot(kind='bar', figsize=(10, 5), color=colors)\n",
    "\n",
    "plt.title('Results on dev', fontsize=16)\n",
    "plt.xlabel('Metrics')\n",
    "plt.ylabel('Score')\n",
    "plt.xticks(rotation=0)\n",
    "plt.legend(title='Configurations', bbox_to_anchor=(1, 1), loc='upper left')\n",
    "plt.grid(True)\n",
    "\n",
    "plt.tight_layout()\n",
    "plt.show()"
   ]
  },
  {
   "cell_type": "code",
   "execution_count": null,
   "metadata": {},
   "outputs": [],
   "source": []
  }
 ],
 "metadata": {
  "kernelspec": {
   "display_name": "nlp-env",
   "language": "python",
   "name": "python3"
  },
  "language_info": {
   "codemirror_mode": {
    "name": "ipython",
    "version": 3
   },
   "file_extension": ".py",
   "mimetype": "text/x-python",
   "name": "python",
   "nbconvert_exporter": "python",
   "pygments_lexer": "ipython3",
   "version": "3.10.16"
  }
 },
 "nbformat": 4,
 "nbformat_minor": 2
}
