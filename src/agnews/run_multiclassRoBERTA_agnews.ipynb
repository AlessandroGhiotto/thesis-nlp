{
 "cells": [
  {
   "cell_type": "markdown",
   "metadata": {},
   "source": [
    "# First tests with RoBERTA on agnews\n",
    "\n",
    "- total number of samples: 500\n",
    "- model: \"roberta-large\"\n",
    "- dataset: agnews\n",
    "- LLM for synthetic data generation: \"deepseek-ai/DeepSeek-R1-Distill-Qwen-1.5B\""
   ]
  },
  {
   "cell_type": "code",
   "execution_count": 10,
   "metadata": {},
   "outputs": [],
   "source": [
    "import os\n",
    "import pandas as pd\n",
    "import matplotlib.pyplot as plt\n",
    "import json\n",
    "from sklearn.model_selection import train_test_split\n",
    "\n",
    "# CHANGE WORKING DIRECTORY TO ROOT\n",
    "current_dir = os.path.basename(os.getcwd())\n",
    "if current_dir == \"src\":\n",
    "    os.chdir(\"..\") # Move up by 1\n",
    "elif os.path.basename(os.getcwd()) == \"bai-thesis-nlp\":  \n",
    "    pass # If already at root, stay there\n",
    "else:\n",
    "    os.chdir(\"../..\") # Move up by 2 otherwise\n",
    "     \n",
    "from src._utils._helpers import get_generated_examples_df\n",
    "from src._utils._run_multiclassRoBERTA import main_multiclassRoBERTA"
   ]
  },
  {
   "cell_type": "code",
   "execution_count": null,
   "metadata": {},
   "outputs": [],
   "source": [
    "FOLDER_DIR = \"src/agnews/experiments/RoBERTA_500samples\"\n",
    "LOG_DIR = os.path.join(FOLDER_DIR, \"RoBERTA_log.json\")\n",
    "\n",
    "### LOAD DATA ###\n",
    "# real data\n",
    "real_train_df = pd.read_csv(\"real_data/train/agnewstrainAll.csv\").rename(columns={\"2\": \"text\", \"3\": \"label\"})\n",
    "real_train_df.drop(columns=[\"0\", \"1\"], inplace=True)\n",
    "\n",
    "# Take 500 samples for dev set\n",
    "real_train_df, dev_df = train_test_split(real_train_df, test_size=500, random_state=42, stratify=real_train_df[\"label\"])\n",
    "\n",
    "# synthetic data (generic and targeted)\n",
    "syn_generic_df, _ = get_generated_examples_df(\"synthetic_data/datasets/syn_agnews_baseline_500.json\")\n",
    "syn_targeted_df, _ = get_generated_examples_df(\"synthetic_data/datasets/syn_agnews_targeted+tags_500.json\")\n",
    "syn_targeted_df = syn_targeted_df.drop(columns=[\"phenomena\"])"
   ]
  },
  {
   "cell_type": "markdown",
   "metadata": {},
   "source": [
    "## 1. 500 Real"
   ]
  },
  {
   "cell_type": "code",
   "execution_count": 12,
   "metadata": {},
   "outputs": [
    {
     "data": {
      "application/vnd.jupyter.widget-view+json": {
       "model_id": "dea126524a624b59a1b36140e49e2d8d",
       "version_major": 2,
       "version_minor": 0
      },
      "text/plain": [
       "Map:   0%|          | 0/500 [00:00<?, ? examples/s]"
      ]
     },
     "metadata": {},
     "output_type": "display_data"
    },
    {
     "data": {
      "application/vnd.jupyter.widget-view+json": {
       "model_id": "0887536e03514da1ac6e4176345c2699",
       "version_major": 2,
       "version_minor": 0
      },
      "text/plain": [
       "Map:   0%|          | 0/500 [00:00<?, ? examples/s]"
      ]
     },
     "metadata": {},
     "output_type": "display_data"
    },
    {
     "name": "stderr",
     "output_type": "stream",
     "text": [
      "Some weights of RobertaForSequenceClassification were not initialized from the model checkpoint at roberta-base and are newly initialized: ['classifier.dense.bias', 'classifier.dense.weight', 'classifier.out_proj.bias', 'classifier.out_proj.weight']\n",
      "You should probably TRAIN this model on a down-stream task to be able to use it for predictions and inference.\n"
     ]
    },
    {
     "data": {
      "text/html": [
       "\n",
       "    <div>\n",
       "      \n",
       "      <progress value='64' max='64' style='width:300px; height:20px; vertical-align: middle;'></progress>\n",
       "      [64/64 00:27, Epoch 2/2]\n",
       "    </div>\n",
       "    <table border=\"1\" class=\"dataframe\">\n",
       "  <thead>\n",
       " <tr style=\"text-align: left;\">\n",
       "      <th>Epoch</th>\n",
       "      <th>Training Loss</th>\n",
       "      <th>Validation Loss</th>\n",
       "      <th>F1 Micro</th>\n",
       "      <th>F1 Macro</th>\n",
       "      <th>Accuracy</th>\n",
       "    </tr>\n",
       "  </thead>\n",
       "  <tbody>\n",
       "    <tr>\n",
       "      <td>1</td>\n",
       "      <td>1.182500</td>\n",
       "      <td>0.748447</td>\n",
       "      <td>0.730000</td>\n",
       "      <td>0.427967</td>\n",
       "      <td>0.730000</td>\n",
       "    </tr>\n",
       "    <tr>\n",
       "      <td>2</td>\n",
       "      <td>0.519700</td>\n",
       "      <td>0.396878</td>\n",
       "      <td>0.888000</td>\n",
       "      <td>0.820868</td>\n",
       "      <td>0.888000</td>\n",
       "    </tr>\n",
       "  </tbody>\n",
       "</table><p>"
      ],
      "text/plain": [
       "<IPython.core.display.HTML object>"
      ]
     },
     "metadata": {},
     "output_type": "display_data"
    },
    {
     "name": "stdout",
     "output_type": "stream",
     "text": [
      "💾 experiment saved to: src/agnews/experiments/RoBERTA_500samples/exp_500real\n",
      "\n",
      "🚀 Metrics on dev set: {'f1_micro': '0.8880', 'f1_macro': '0.8209', 'accuracy': '0.8880'}\n",
      "\n",
      "TRAIN DETAILS:\n",
      "{\n",
      "    \"experiment_name\": \"exp_500real\",\n",
      "    \"experiment_dir\": \"src/agnews/experiments/RoBERTA_500samples/exp_500real\",\n",
      "    \"generation_method\": null,\n",
      "    \"timestamp\": \"2025-03-16T16:10:02.516038\",\n",
      "    \"model\": \"roberta-base\",\n",
      "    \"train_size\": 500,\n",
      "    \"dev_size\": 500,\n",
      "    \"synthetic_ratio\": 0.0,\n",
      "    \"train_time_seconds\": 28.713349103927612,\n",
      "    \"metrics_dev\": {\n",
      "        \"f1_micro\": 0.888,\n",
      "        \"f1_macro\": 0.8208676816486664,\n",
      "        \"accuracy\": 0.888\n",
      "    }\n",
      "}\n"
     ]
    }
   ],
   "source": [
    "results = []\n",
    "name = \"exp_500real\"\n",
    "train_details = main_multiclassRoBERTA(\n",
    "    real_df=real_train_df,\n",
    "    synth_df=None,\n",
    "    dev_df=dev_df,\n",
    "    synth_ratio=0.0,\n",
    "    max_samples=500,\n",
    "    output_dir=os.path.join(FOLDER_DIR, name),\n",
    "    log_dir=LOG_DIR,\n",
    "    generation_method=None,\n",
    "    save_model=True,\n",
    "    save_dataset=True,\n",
    ")\n",
    "print(\"\\nTRAIN DETAILS:\")\n",
    "print(json.dumps(train_details, indent=4))\n",
    "\n",
    "res = train_details[\"metrics_dev\"]\n",
    "res[\"method\"] = name.replace(\"exp_\", \"\")\n",
    "results.append(res)"
   ]
  },
  {
   "cell_type": "markdown",
   "metadata": {},
   "source": [
    "## 2. 250 Real + 250 Generic Augmentation"
   ]
  },
  {
   "cell_type": "code",
   "execution_count": null,
   "metadata": {},
   "outputs": [
    {
     "data": {
      "application/vnd.jupyter.widget-view+json": {
       "model_id": "bbe095375d8248c0b1879caebdde14cf",
       "version_major": 2,
       "version_minor": 0
      },
      "text/plain": [
       "Map:   0%|          | 0/500 [00:00<?, ? examples/s]"
      ]
     },
     "metadata": {},
     "output_type": "display_data"
    },
    {
     "data": {
      "application/vnd.jupyter.widget-view+json": {
       "model_id": "8847692f78b64572935dcf508071d708",
       "version_major": 2,
       "version_minor": 0
      },
      "text/plain": [
       "Map:   0%|          | 0/500 [00:00<?, ? examples/s]"
      ]
     },
     "metadata": {},
     "output_type": "display_data"
    },
    {
     "name": "stderr",
     "output_type": "stream",
     "text": [
      "Some weights of RobertaForSequenceClassification were not initialized from the model checkpoint at roberta-large and are newly initialized: ['classifier.dense.bias', 'classifier.dense.weight', 'classifier.out_proj.bias', 'classifier.out_proj.weight']\n",
      "You should probably TRAIN this model on a down-stream task to be able to use it for predictions and inference.\n"
     ]
    },
    {
     "data": {
      "text/html": [
       "\n",
       "    <div>\n",
       "      \n",
       "      <progress value='256' max='256' style='width:300px; height:20px; vertical-align: middle;'></progress>\n",
       "      [256/256 04:56, Epoch 8/8]\n",
       "    </div>\n",
       "    <table border=\"1\" class=\"dataframe\">\n",
       "  <thead>\n",
       " <tr style=\"text-align: left;\">\n",
       "      <th>Epoch</th>\n",
       "      <th>Training Loss</th>\n",
       "      <th>Validation Loss</th>\n",
       "      <th>F1</th>\n",
       "      <th>Accuracy</th>\n",
       "      <th>F1 Macro</th>\n",
       "    </tr>\n",
       "  </thead>\n",
       "  <tbody>\n",
       "    <tr>\n",
       "      <td>1</td>\n",
       "      <td>1.130500</td>\n",
       "      <td>0.412698</td>\n",
       "      <td>0.882000</td>\n",
       "      <td>0.882000</td>\n",
       "      <td>0.800361</td>\n",
       "    </tr>\n",
       "    <tr>\n",
       "      <td>2</td>\n",
       "      <td>0.497900</td>\n",
       "      <td>0.297253</td>\n",
       "      <td>0.910000</td>\n",
       "      <td>0.910000</td>\n",
       "      <td>0.868144</td>\n",
       "    </tr>\n",
       "    <tr>\n",
       "      <td>3</td>\n",
       "      <td>0.293600</td>\n",
       "      <td>0.333257</td>\n",
       "      <td>0.904000</td>\n",
       "      <td>0.904000</td>\n",
       "      <td>0.854676</td>\n",
       "    </tr>\n",
       "    <tr>\n",
       "      <td>4</td>\n",
       "      <td>0.157600</td>\n",
       "      <td>0.351670</td>\n",
       "      <td>0.912000</td>\n",
       "      <td>0.912000</td>\n",
       "      <td>0.864202</td>\n",
       "    </tr>\n",
       "    <tr>\n",
       "      <td>5</td>\n",
       "      <td>0.108800</td>\n",
       "      <td>0.460132</td>\n",
       "      <td>0.900000</td>\n",
       "      <td>0.900000</td>\n",
       "      <td>0.855615</td>\n",
       "    </tr>\n",
       "    <tr>\n",
       "      <td>6</td>\n",
       "      <td>0.075300</td>\n",
       "      <td>0.477620</td>\n",
       "      <td>0.902000</td>\n",
       "      <td>0.902000</td>\n",
       "      <td>0.855902</td>\n",
       "    </tr>\n",
       "    <tr>\n",
       "      <td>7</td>\n",
       "      <td>0.037200</td>\n",
       "      <td>0.498700</td>\n",
       "      <td>0.896000</td>\n",
       "      <td>0.896000</td>\n",
       "      <td>0.850865</td>\n",
       "    </tr>\n",
       "    <tr>\n",
       "      <td>8</td>\n",
       "      <td>0.024400</td>\n",
       "      <td>0.518306</td>\n",
       "      <td>0.896000</td>\n",
       "      <td>0.896000</td>\n",
       "      <td>0.851775</td>\n",
       "    </tr>\n",
       "  </tbody>\n",
       "</table><p>"
      ],
      "text/plain": [
       "<IPython.core.display.HTML object>"
      ]
     },
     "metadata": {},
     "output_type": "display_data"
    },
    {
     "name": "stdout",
     "output_type": "stream",
     "text": [
      "💾 experiment saved to: src/agnews/experiments/exp_250real_250generic\n",
      "{'accuracy': '0.9120', 'precision': '0.9097', 'recall': '0.9120', 'f1': '0.9084'}\n"
     ]
    },
    {
     "data": {
      "text/plain": [
       "{'experiment_name': 'exp_250real_250generic',\n",
       " 'experiment_dir': 'src/agnews/experiments/exp_250real_250generic',\n",
       " 'generation_method': 'generic augmentation',\n",
       " 'timestamp': '2025-03-16T01:24:15.697235',\n",
       " 'model': 'roberta-large',\n",
       " 'train_size': 500,\n",
       " 'dev_size': 500,\n",
       " 'synthetic_ratio': 0.5,\n",
       " 'train_time_seconds': 299.1383144855499,\n",
       " 'metrics_dev': {'accuracy': 0.912,\n",
       "  'precision': 0.9096506238061433,\n",
       "  'recall': 0.912,\n",
       "  'f1': 0.9084011862595891}}"
      ]
     },
     "metadata": {},
     "output_type": "display_data"
    }
   ],
   "source": [
    "name = \"exp_250real_250generic\"\n",
    "train_details = main_multiclassRoBERTA(\n",
    "    real_df=real_train_df,\n",
    "    synth_df=syn_generic_df, # Generic Augmentation\n",
    "    dev_df=dev_df,\n",
    "    synth_ratio=0.5, # 50% of the data is synthetic\n",
    "    max_samples=500,\n",
    "    output_dir=os.path.join(FOLDER_DIR, name),\n",
    "    log_dir=LOG_DIR,\n",
    "    generation_method=\"generic augmentation\",\n",
    "    save_model=True,\n",
    "    save_dataset=True,\n",
    ")\n",
    "display(train_details)\n",
    "\n",
    "res = train_details[\"metrics_dev\"]\n",
    "res[\"method\"] = name.replace(\"exp_\", \"\")\n",
    "results.append(res)"
   ]
  },
  {
   "cell_type": "markdown",
   "metadata": {},
   "source": [
    "## 3. 250 Real + 250 Targeted Augmentation"
   ]
  },
  {
   "cell_type": "code",
   "execution_count": null,
   "metadata": {},
   "outputs": [
    {
     "data": {
      "application/vnd.jupyter.widget-view+json": {
       "model_id": "8e53a0f3061d4ce19c5a8be7ca777d3e",
       "version_major": 2,
       "version_minor": 0
      },
      "text/plain": [
       "Map:   0%|          | 0/500 [00:00<?, ? examples/s]"
      ]
     },
     "metadata": {},
     "output_type": "display_data"
    },
    {
     "data": {
      "application/vnd.jupyter.widget-view+json": {
       "model_id": "83354da5abed476c8a7bc8133afa9bb1",
       "version_major": 2,
       "version_minor": 0
      },
      "text/plain": [
       "Map:   0%|          | 0/500 [00:00<?, ? examples/s]"
      ]
     },
     "metadata": {},
     "output_type": "display_data"
    },
    {
     "name": "stderr",
     "output_type": "stream",
     "text": [
      "Some weights of RobertaForSequenceClassification were not initialized from the model checkpoint at roberta-large and are newly initialized: ['classifier.dense.bias', 'classifier.dense.weight', 'classifier.out_proj.bias', 'classifier.out_proj.weight']\n",
      "You should probably TRAIN this model on a down-stream task to be able to use it for predictions and inference.\n"
     ]
    },
    {
     "data": {
      "text/html": [
       "\n",
       "    <div>\n",
       "      \n",
       "      <progress value='256' max='256' style='width:300px; height:20px; vertical-align: middle;'></progress>\n",
       "      [256/256 04:56, Epoch 8/8]\n",
       "    </div>\n",
       "    <table border=\"1\" class=\"dataframe\">\n",
       "  <thead>\n",
       " <tr style=\"text-align: left;\">\n",
       "      <th>Epoch</th>\n",
       "      <th>Training Loss</th>\n",
       "      <th>Validation Loss</th>\n",
       "      <th>F1</th>\n",
       "      <th>Accuracy</th>\n",
       "      <th>F1 Macro</th>\n",
       "    </tr>\n",
       "  </thead>\n",
       "  <tbody>\n",
       "    <tr>\n",
       "      <td>1</td>\n",
       "      <td>1.099300</td>\n",
       "      <td>0.443672</td>\n",
       "      <td>0.870000</td>\n",
       "      <td>0.870000</td>\n",
       "      <td>0.777154</td>\n",
       "    </tr>\n",
       "    <tr>\n",
       "      <td>2</td>\n",
       "      <td>0.433800</td>\n",
       "      <td>0.340546</td>\n",
       "      <td>0.894000</td>\n",
       "      <td>0.894000</td>\n",
       "      <td>0.836344</td>\n",
       "    </tr>\n",
       "    <tr>\n",
       "      <td>3</td>\n",
       "      <td>0.240500</td>\n",
       "      <td>0.361814</td>\n",
       "      <td>0.910000</td>\n",
       "      <td>0.910000</td>\n",
       "      <td>0.861642</td>\n",
       "    </tr>\n",
       "    <tr>\n",
       "      <td>4</td>\n",
       "      <td>0.167100</td>\n",
       "      <td>0.554440</td>\n",
       "      <td>0.880000</td>\n",
       "      <td>0.880000</td>\n",
       "      <td>0.826225</td>\n",
       "    </tr>\n",
       "    <tr>\n",
       "      <td>5</td>\n",
       "      <td>0.100800</td>\n",
       "      <td>0.464890</td>\n",
       "      <td>0.908000</td>\n",
       "      <td>0.908000</td>\n",
       "      <td>0.865575</td>\n",
       "    </tr>\n",
       "    <tr>\n",
       "      <td>6</td>\n",
       "      <td>0.056100</td>\n",
       "      <td>0.497637</td>\n",
       "      <td>0.912000</td>\n",
       "      <td>0.912000</td>\n",
       "      <td>0.861275</td>\n",
       "    </tr>\n",
       "    <tr>\n",
       "      <td>7</td>\n",
       "      <td>0.035700</td>\n",
       "      <td>0.485546</td>\n",
       "      <td>0.920000</td>\n",
       "      <td>0.920000</td>\n",
       "      <td>0.881810</td>\n",
       "    </tr>\n",
       "    <tr>\n",
       "      <td>8</td>\n",
       "      <td>0.017300</td>\n",
       "      <td>0.488898</td>\n",
       "      <td>0.924000</td>\n",
       "      <td>0.924000</td>\n",
       "      <td>0.886858</td>\n",
       "    </tr>\n",
       "  </tbody>\n",
       "</table><p>"
      ],
      "text/plain": [
       "<IPython.core.display.HTML object>"
      ]
     },
     "metadata": {},
     "output_type": "display_data"
    },
    {
     "name": "stdout",
     "output_type": "stream",
     "text": [
      "💾 experiment saved to: src/agnews/experiments/exp_250real_250targeted\n",
      "{'accuracy': '0.9240', 'precision': '0.9235', 'recall': '0.9240', 'f1': '0.9221'}\n"
     ]
    },
    {
     "data": {
      "text/plain": [
       "{'experiment_name': 'exp_250real_250targeted',\n",
       " 'experiment_dir': 'src/agnews/experiments/exp_250real_250targeted',\n",
       " 'generation_method': 'targeted augmentation',\n",
       " 'timestamp': '2025-03-16T01:29:28.139525',\n",
       " 'model': 'roberta-large',\n",
       " 'train_size': 500,\n",
       " 'dev_size': 500,\n",
       " 'synthetic_ratio': 0.5,\n",
       " 'train_time_seconds': 298.5188195705414,\n",
       " 'metrics_dev': {'accuracy': 0.924,\n",
       "  'precision': 0.9235081867798666,\n",
       "  'recall': 0.924,\n",
       "  'f1': 0.9221451372984603}}"
      ]
     },
     "metadata": {},
     "output_type": "display_data"
    }
   ],
   "source": [
    "name = \"exp_250real_250targeted\"\n",
    "train_details = main_multiclassRoBERTA(\n",
    "    real_df=real_train_df,\n",
    "    synth_df=syn_targeted_df, # Targeted Augmentation\n",
    "    dev_df=dev_df,\n",
    "    synth_ratio=0.5, # 50% of the data is synthetic\n",
    "    max_samples=500,\n",
    "    output_dir=os.path.join(FOLDER_DIR, name),\n",
    "    log_dir=LOG_DIR,\n",
    "    generation_method=\"targeted augmentation\",\n",
    "    save_model=True,\n",
    "    save_dataset=True,\n",
    ")\n",
    "display(train_details)\n",
    "\n",
    "res = train_details[\"metrics_dev\"]\n",
    "res[\"method\"] = name.replace(\"exp_\", \"\")\n",
    "results.append(res)"
   ]
  },
  {
   "cell_type": "markdown",
   "metadata": {},
   "source": [
    "## 4. 500 Generic Augmentation"
   ]
  },
  {
   "cell_type": "code",
   "execution_count": null,
   "metadata": {},
   "outputs": [
    {
     "data": {
      "application/vnd.jupyter.widget-view+json": {
       "model_id": "a1707ca2227e4f15a60f280e7e692270",
       "version_major": 2,
       "version_minor": 0
      },
      "text/plain": [
       "Map:   0%|          | 0/500 [00:00<?, ? examples/s]"
      ]
     },
     "metadata": {},
     "output_type": "display_data"
    },
    {
     "data": {
      "application/vnd.jupyter.widget-view+json": {
       "model_id": "d626b9db9a9a40d09c949f43948620dc",
       "version_major": 2,
       "version_minor": 0
      },
      "text/plain": [
       "Map:   0%|          | 0/500 [00:00<?, ? examples/s]"
      ]
     },
     "metadata": {},
     "output_type": "display_data"
    },
    {
     "name": "stderr",
     "output_type": "stream",
     "text": [
      "Some weights of RobertaForSequenceClassification were not initialized from the model checkpoint at roberta-large and are newly initialized: ['classifier.dense.bias', 'classifier.dense.weight', 'classifier.out_proj.bias', 'classifier.out_proj.weight']\n",
      "You should probably TRAIN this model on a down-stream task to be able to use it for predictions and inference.\n"
     ]
    },
    {
     "data": {
      "text/html": [
       "\n",
       "    <div>\n",
       "      \n",
       "      <progress value='256' max='256' style='width:300px; height:20px; vertical-align: middle;'></progress>\n",
       "      [256/256 04:57, Epoch 8/8]\n",
       "    </div>\n",
       "    <table border=\"1\" class=\"dataframe\">\n",
       "  <thead>\n",
       " <tr style=\"text-align: left;\">\n",
       "      <th>Epoch</th>\n",
       "      <th>Training Loss</th>\n",
       "      <th>Validation Loss</th>\n",
       "      <th>F1</th>\n",
       "      <th>Accuracy</th>\n",
       "      <th>F1 Macro</th>\n",
       "    </tr>\n",
       "  </thead>\n",
       "  <tbody>\n",
       "    <tr>\n",
       "      <td>1</td>\n",
       "      <td>0.958600</td>\n",
       "      <td>0.687914</td>\n",
       "      <td>0.762000</td>\n",
       "      <td>0.762000</td>\n",
       "      <td>0.724130</td>\n",
       "    </tr>\n",
       "    <tr>\n",
       "      <td>2</td>\n",
       "      <td>0.480900</td>\n",
       "      <td>0.811682</td>\n",
       "      <td>0.694000</td>\n",
       "      <td>0.694000</td>\n",
       "      <td>0.671680</td>\n",
       "    </tr>\n",
       "    <tr>\n",
       "      <td>3</td>\n",
       "      <td>0.402600</td>\n",
       "      <td>0.827876</td>\n",
       "      <td>0.664000</td>\n",
       "      <td>0.664000</td>\n",
       "      <td>0.602715</td>\n",
       "    </tr>\n",
       "    <tr>\n",
       "      <td>4</td>\n",
       "      <td>0.267400</td>\n",
       "      <td>0.739060</td>\n",
       "      <td>0.716000</td>\n",
       "      <td>0.716000</td>\n",
       "      <td>0.666758</td>\n",
       "    </tr>\n",
       "    <tr>\n",
       "      <td>5</td>\n",
       "      <td>0.205400</td>\n",
       "      <td>1.005670</td>\n",
       "      <td>0.642000</td>\n",
       "      <td>0.642000</td>\n",
       "      <td>0.599128</td>\n",
       "    </tr>\n",
       "    <tr>\n",
       "      <td>6</td>\n",
       "      <td>0.145400</td>\n",
       "      <td>0.826668</td>\n",
       "      <td>0.712000</td>\n",
       "      <td>0.712000</td>\n",
       "      <td>0.665837</td>\n",
       "    </tr>\n",
       "    <tr>\n",
       "      <td>7</td>\n",
       "      <td>0.102200</td>\n",
       "      <td>0.958910</td>\n",
       "      <td>0.696000</td>\n",
       "      <td>0.696000</td>\n",
       "      <td>0.654141</td>\n",
       "    </tr>\n",
       "    <tr>\n",
       "      <td>8</td>\n",
       "      <td>0.084300</td>\n",
       "      <td>0.868857</td>\n",
       "      <td>0.718000</td>\n",
       "      <td>0.718000</td>\n",
       "      <td>0.673581</td>\n",
       "    </tr>\n",
       "  </tbody>\n",
       "</table><p>"
      ],
      "text/plain": [
       "<IPython.core.display.HTML object>"
      ]
     },
     "metadata": {},
     "output_type": "display_data"
    },
    {
     "name": "stdout",
     "output_type": "stream",
     "text": [
      "💾 experiment saved to: src/agnews/experiments/exp_500generic\n",
      "{'accuracy': '0.7620', 'precision': '0.8317', 'recall': '0.7620', 'f1': '0.7781'}\n"
     ]
    },
    {
     "data": {
      "text/plain": [
       "{'experiment_name': 'exp_500generic',\n",
       " 'experiment_dir': 'src/agnews/experiments/exp_500generic',\n",
       " 'generation_method': 'generic augmentation',\n",
       " 'timestamp': '2025-03-16T01:34:42.083217',\n",
       " 'model': 'roberta-large',\n",
       " 'train_size': 500,\n",
       " 'dev_size': 500,\n",
       " 'synthetic_ratio': 1.0,\n",
       " 'train_time_seconds': 300.7855670452118,\n",
       " 'metrics_dev': {'accuracy': 0.762,\n",
       "  'precision': 0.831743571019473,\n",
       "  'recall': 0.762,\n",
       "  'f1': 0.7780990333003154}}"
      ]
     },
     "metadata": {},
     "output_type": "display_data"
    }
   ],
   "source": [
    "name = \"exp_500generic\"\n",
    "train_details = main_multiclassRoBERTA(\n",
    "    real_df=None,\n",
    "    synth_df=syn_generic_df, # Generic Augmentation\n",
    "    dev_df=dev_df,\n",
    "    synth_ratio=1.0, # 100% of the data is synthetic\n",
    "    max_samples=500,\n",
    "    output_dir=os.path.join(FOLDER_DIR, name),\n",
    "    log_dir=LOG_DIR,\n",
    "    generation_method=\"generic augmentation\",\n",
    "    save_model=True,\n",
    "    save_dataset=True,\n",
    ")\n",
    "display(train_details)\n",
    "\n",
    "res = train_details[\"metrics_dev\"]\n",
    "res[\"method\"] = name.replace(\"exp_\", \"\")\n",
    "results.append(res)"
   ]
  },
  {
   "cell_type": "markdown",
   "metadata": {},
   "source": [
    "## 5. 500 Targeted Augmentation"
   ]
  },
  {
   "cell_type": "code",
   "execution_count": null,
   "metadata": {},
   "outputs": [
    {
     "data": {
      "application/vnd.jupyter.widget-view+json": {
       "model_id": "0b79dd492de2438d809dd79698d665f8",
       "version_major": 2,
       "version_minor": 0
      },
      "text/plain": [
       "Map:   0%|          | 0/500 [00:00<?, ? examples/s]"
      ]
     },
     "metadata": {},
     "output_type": "display_data"
    },
    {
     "data": {
      "application/vnd.jupyter.widget-view+json": {
       "model_id": "14fe39da480e4ee583da30b48d52a018",
       "version_major": 2,
       "version_minor": 0
      },
      "text/plain": [
       "Map:   0%|          | 0/500 [00:00<?, ? examples/s]"
      ]
     },
     "metadata": {},
     "output_type": "display_data"
    },
    {
     "name": "stderr",
     "output_type": "stream",
     "text": [
      "Some weights of RobertaForSequenceClassification were not initialized from the model checkpoint at roberta-large and are newly initialized: ['classifier.dense.bias', 'classifier.dense.weight', 'classifier.out_proj.bias', 'classifier.out_proj.weight']\n",
      "You should probably TRAIN this model on a down-stream task to be able to use it for predictions and inference.\n"
     ]
    },
    {
     "data": {
      "text/html": [
       "\n",
       "    <div>\n",
       "      \n",
       "      <progress value='256' max='256' style='width:300px; height:20px; vertical-align: middle;'></progress>\n",
       "      [256/256 04:58, Epoch 8/8]\n",
       "    </div>\n",
       "    <table border=\"1\" class=\"dataframe\">\n",
       "  <thead>\n",
       " <tr style=\"text-align: left;\">\n",
       "      <th>Epoch</th>\n",
       "      <th>Training Loss</th>\n",
       "      <th>Validation Loss</th>\n",
       "      <th>F1</th>\n",
       "      <th>Accuracy</th>\n",
       "      <th>F1 Macro</th>\n",
       "    </tr>\n",
       "  </thead>\n",
       "  <tbody>\n",
       "    <tr>\n",
       "      <td>1</td>\n",
       "      <td>0.990800</td>\n",
       "      <td>0.576532</td>\n",
       "      <td>0.852000</td>\n",
       "      <td>0.852000</td>\n",
       "      <td>0.805969</td>\n",
       "    </tr>\n",
       "    <tr>\n",
       "      <td>2</td>\n",
       "      <td>0.483700</td>\n",
       "      <td>0.885444</td>\n",
       "      <td>0.708000</td>\n",
       "      <td>0.708000</td>\n",
       "      <td>0.672196</td>\n",
       "    </tr>\n",
       "    <tr>\n",
       "      <td>3</td>\n",
       "      <td>0.328400</td>\n",
       "      <td>0.652601</td>\n",
       "      <td>0.804000</td>\n",
       "      <td>0.804000</td>\n",
       "      <td>0.771344</td>\n",
       "    </tr>\n",
       "    <tr>\n",
       "      <td>4</td>\n",
       "      <td>0.261600</td>\n",
       "      <td>0.658721</td>\n",
       "      <td>0.762000</td>\n",
       "      <td>0.762000</td>\n",
       "      <td>0.731043</td>\n",
       "    </tr>\n",
       "    <tr>\n",
       "      <td>5</td>\n",
       "      <td>0.167700</td>\n",
       "      <td>0.941585</td>\n",
       "      <td>0.684000</td>\n",
       "      <td>0.684000</td>\n",
       "      <td>0.664427</td>\n",
       "    </tr>\n",
       "    <tr>\n",
       "      <td>6</td>\n",
       "      <td>0.126200</td>\n",
       "      <td>1.170224</td>\n",
       "      <td>0.642000</td>\n",
       "      <td>0.642000</td>\n",
       "      <td>0.631658</td>\n",
       "    </tr>\n",
       "    <tr>\n",
       "      <td>7</td>\n",
       "      <td>0.076700</td>\n",
       "      <td>0.934078</td>\n",
       "      <td>0.706000</td>\n",
       "      <td>0.706000</td>\n",
       "      <td>0.684594</td>\n",
       "    </tr>\n",
       "    <tr>\n",
       "      <td>8</td>\n",
       "      <td>0.036000</td>\n",
       "      <td>1.031700</td>\n",
       "      <td>0.690000</td>\n",
       "      <td>0.690000</td>\n",
       "      <td>0.672748</td>\n",
       "    </tr>\n",
       "  </tbody>\n",
       "</table><p>"
      ],
      "text/plain": [
       "<IPython.core.display.HTML object>"
      ]
     },
     "metadata": {},
     "output_type": "display_data"
    },
    {
     "name": "stdout",
     "output_type": "stream",
     "text": [
      "💾 experiment saved to: src/agnews/experiments/exp_500targeted\n",
      "{'accuracy': '0.8520', 'precision': '0.8617', 'recall': '0.8520', 'f1': '0.8538'}\n"
     ]
    },
    {
     "data": {
      "text/plain": [
       "{'experiment_name': 'exp_500targeted',\n",
       " 'experiment_dir': 'src/agnews/experiments/exp_500targeted',\n",
       " 'generation_method': 'targeted augmentation',\n",
       " 'timestamp': '2025-03-16T01:39:56.132102',\n",
       " 'model': 'roberta-large',\n",
       " 'train_size': 500,\n",
       " 'dev_size': 500,\n",
       " 'synthetic_ratio': 1.0,\n",
       " 'train_time_seconds': 300.2718062400818,\n",
       " 'metrics_dev': {'accuracy': 0.852,\n",
       "  'precision': 0.8616714544545336,\n",
       "  'recall': 0.852,\n",
       "  'f1': 0.8538414257137661}}"
      ]
     },
     "metadata": {},
     "output_type": "display_data"
    }
   ],
   "source": [
    "name = \"exp_500targeted\"\n",
    "train_details = main_multiclassRoBERTA(\n",
    "    real_df=None,\n",
    "    synth_df=syn_targeted_df, # Targeted Augmentation\n",
    "    dev_df=dev_df,\n",
    "    synth_ratio=1.0, # 100% of the data is synthetic\n",
    "    max_samples=500,\n",
    "    output_dir=os.path.join(FOLDER_DIR, name),\n",
    "    log_dir=LOG_DIR,\n",
    "    generation_method=\"targeted augmentation\",\n",
    "    save_model=True,\n",
    "    save_dataset=True,\n",
    ")\n",
    "display(train_details)\n",
    "\n",
    "res = train_details[\"metrics_dev\"]\n",
    "res[\"method\"] = name.replace(\"exp_\", \"\")\n",
    "results.append(res)"
   ]
  },
  {
   "cell_type": "markdown",
   "metadata": {},
   "source": [
    "## Results"
   ]
  },
  {
   "cell_type": "code",
   "execution_count": null,
   "metadata": {},
   "outputs": [
    {
     "data": {
      "text/html": [
       "<div>\n",
       "<style scoped>\n",
       "    .dataframe tbody tr th:only-of-type {\n",
       "        vertical-align: middle;\n",
       "    }\n",
       "\n",
       "    .dataframe tbody tr th {\n",
       "        vertical-align: top;\n",
       "    }\n",
       "\n",
       "    .dataframe thead th {\n",
       "        text-align: right;\n",
       "    }\n",
       "</style>\n",
       "<table border=\"1\" class=\"dataframe\">\n",
       "  <thead>\n",
       "    <tr style=\"text-align: right;\">\n",
       "      <th></th>\n",
       "      <th>method</th>\n",
       "      <th>accuracy</th>\n",
       "      <th>precision</th>\n",
       "      <th>recall</th>\n",
       "      <th>f1</th>\n",
       "    </tr>\n",
       "  </thead>\n",
       "  <tbody>\n",
       "    <tr>\n",
       "      <th>0</th>\n",
       "      <td>500real</td>\n",
       "      <td>0.924</td>\n",
       "      <td>0.922966</td>\n",
       "      <td>0.924</td>\n",
       "      <td>0.921379</td>\n",
       "    </tr>\n",
       "    <tr>\n",
       "      <th>1</th>\n",
       "      <td>250real_250generic</td>\n",
       "      <td>0.912</td>\n",
       "      <td>0.909651</td>\n",
       "      <td>0.912</td>\n",
       "      <td>0.908401</td>\n",
       "    </tr>\n",
       "    <tr>\n",
       "      <th>2</th>\n",
       "      <td>250real_250targeted</td>\n",
       "      <td>0.924</td>\n",
       "      <td>0.923508</td>\n",
       "      <td>0.924</td>\n",
       "      <td>0.922145</td>\n",
       "    </tr>\n",
       "    <tr>\n",
       "      <th>3</th>\n",
       "      <td>500generic</td>\n",
       "      <td>0.762</td>\n",
       "      <td>0.831744</td>\n",
       "      <td>0.762</td>\n",
       "      <td>0.778099</td>\n",
       "    </tr>\n",
       "    <tr>\n",
       "      <th>4</th>\n",
       "      <td>500targeted</td>\n",
       "      <td>0.852</td>\n",
       "      <td>0.861671</td>\n",
       "      <td>0.852</td>\n",
       "      <td>0.853841</td>\n",
       "    </tr>\n",
       "  </tbody>\n",
       "</table>\n",
       "</div>"
      ],
      "text/plain": [
       "                method  accuracy  precision  recall        f1\n",
       "0              500real     0.924   0.922966   0.924  0.921379\n",
       "1   250real_250generic     0.912   0.909651   0.912  0.908401\n",
       "2  250real_250targeted     0.924   0.923508   0.924  0.922145\n",
       "3           500generic     0.762   0.831744   0.762  0.778099\n",
       "4          500targeted     0.852   0.861671   0.852  0.853841"
      ]
     },
     "metadata": {},
     "output_type": "display_data"
    }
   ],
   "source": [
    "df_results = pd.DataFrame(results)\n",
    "new_order = [\"method\"] + [col for col in df_results.columns if col != \"method\"]\n",
    "df_results = df_results[new_order]\n",
    "df_results.to_csv(\"src/agnews/experiments/results_RoBERTA.csv\", index=False)\n",
    "display(df_results.round(3))"
   ]
  },
  {
   "cell_type": "code",
   "execution_count": null,
   "metadata": {},
   "outputs": [
    {
     "data": {
      "image/png": "[encoded data removed]",
      "text/plain": [
       "<Figure size 1000x500 with 1 Axes>"
      ]
     },
     "metadata": {},
     "output_type": "display_data"
    }
   ],
   "source": [
    "df_results = pd.read_csv(\"src/agnews/experiments/results_RoBERTA.csv\")\n",
    "\n",
    "plot_df = df_results.set_index('method')\n",
    "colors = ['#ff595e', '#f7b801', '#8ac926', '#1982c4', '#6a4c93']\n",
    "ax = plot_df.T.plot(kind='bar', figsize=(10, 5), color=colors)\n",
    "\n",
    "plt.title('Results on dev', fontsize=16)\n",
    "plt.xlabel('Metrics')\n",
    "plt.ylabel('Score')\n",
    "plt.xticks(rotation=0)\n",
    "plt.legend(title='Configurations', bbox_to_anchor=(1, 1), loc='upper left')\n",
    "plt.grid(True)\n",
    "\n",
    "plt.tight_layout()\n",
    "plt.show()"
   ]
  },
  {
   "cell_type": "code",
   "execution_count": null,
   "metadata": {},
   "outputs": [],
   "source": []
  }
 ],
 "metadata": {
  "kernelspec": {
   "display_name": "nlp-env",
   "language": "python",
   "name": "python3"
  },
  "language_info": {
   "codemirror_mode": {
    "name": "ipython",
    "version": 3
   },
   "file_extension": ".py",
   "mimetype": "text/x-python",
   "name": "python",
   "nbconvert_exporter": "python",
   "pygments_lexer": "ipython3",
   "version": "3.10.16"
  }
 },
 "nbformat": 4,
 "nbformat_minor": 2
}
