{
 "cells": [
  {
   "cell_type": "markdown",
   "metadata": {},
   "source": [
    "# First tests with Roberta on agnews"
   ]
  },
  {
   "cell_type": "code",
   "execution_count": null,
   "metadata": {},
   "outputs": [],
   "source": [
    "import os\n",
    "\n",
    "# CHANGE WORKING DIRECTORY TO ROOT\n",
    "current_dir = os.path.basename(os.getcwd())\n",
    "if current_dir == \"src\":\n",
    "    os.chdir(\"..\") # Move up by 1\n",
    "elif os.path.basename(os.getcwd()) == \"bai-thesis-nlp\":  \n",
    "    pass # If already at root, stay there\n",
    "else:\n",
    "    os.chdir(\"../..\") # Move up by 2 otherwise\n",
    "    \n",
    "import pandas as pd\n",
    "from src._utils._helpers import get_generated_examples_df\n",
    "from src._utils._run_multiclassRoBERTA import main_multiclassRoBERTA\n",
    "from sklearn.model_selection import train_test_split "
   ]
  },
  {
   "cell_type": "code",
   "execution_count": null,
   "metadata": {},
   "outputs": [],
   "source": [
    "real_train_df = pd.read_csv(\"real_data/train/agnewstrainAll.csv\").rename(columns={\"2\": \"text\", \"3\": \"label\"})\n",
    "real_train_df.drop(columns=[\"0\", \"1\"], inplace=True)\n",
    "\n",
    "# Take 500 samples for dev set\n",
    "real_train_df, dev_df = train_test_split(real_train_df, test_size=500, random_state=42, stratify=real_train_df[\"label\"])\n",
    "\n",
    "# synthetic data\n",
    "syn_generic_df, _ = get_generated_examples_df(\"synthetic_data/datasets/syn_agnews_baseline_500.json\")\n",
    "syn_targeted_df, _ = get_generated_examples_df(\"synthetic_data/datasets/syn_agnews_targeted+tags_500.json\")\n",
    "syn_targeted_df = syn_targeted_df.drop(columns=[\"phenomena\"])"
   ]
  },
  {
   "cell_type": "markdown",
   "metadata": {},
   "source": [
    "## 1. 500 Real"
   ]
  },
  {
   "cell_type": "code",
   "execution_count": null,
   "metadata": {},
   "outputs": [
    {
     "data": {
      "application/vnd.jupyter.widget-view+json": {
       "model_id": "4396b05fa38c4b8c833c4493b1d5268c",
       "version_major": 2,
       "version_minor": 0
      },
      "text/plain": [
       "Map:   0%|          | 0/500 [00:00<?, ? examples/s]"
      ]
     },
     "metadata": {},
     "output_type": "display_data"
    },
    {
     "data": {
      "application/vnd.jupyter.widget-view+json": {
       "model_id": "7301c98e2a354ed785d0a1242491af16",
       "version_major": 2,
       "version_minor": 0
      },
      "text/plain": [
       "Map:   0%|          | 0/500 [00:00<?, ? examples/s]"
      ]
     },
     "metadata": {},
     "output_type": "display_data"
    },
    {
     "name": "stderr",
     "output_type": "stream",
     "text": [
      "Some weights of RobertaForSequenceClassification were not initialized from the model checkpoint at roberta-base and are newly initialized: ['classifier.dense.bias', 'classifier.dense.weight', 'classifier.out_proj.bias', 'classifier.out_proj.weight']\n",
      "You should probably TRAIN this model on a down-stream task to be able to use it for predictions and inference.\n"
     ]
    },
    {
     "data": {
      "text/html": [
       "\n",
       "    <div>\n",
       "      \n",
       "      <progress value='256' max='256' style='width:300px; height:20px; vertical-align: middle;'></progress>\n",
       "      [256/256 01:41, Epoch 8/8]\n",
       "    </div>\n",
       "    <table border=\"1\" class=\"dataframe\">\n",
       "  <thead>\n",
       " <tr style=\"text-align: left;\">\n",
       "      <th>Epoch</th>\n",
       "      <th>Training Loss</th>\n",
       "      <th>Validation Loss</th>\n",
       "      <th>F1</th>\n",
       "      <th>Accuracy</th>\n",
       "      <th>F1 Macro</th>\n",
       "    </tr>\n",
       "  </thead>\n",
       "  <tbody>\n",
       "    <tr>\n",
       "      <td>1</td>\n",
       "      <td>1.181100</td>\n",
       "      <td>0.749316</td>\n",
       "      <td>0.800000</td>\n",
       "      <td>0.800000</td>\n",
       "      <td>0.606807</td>\n",
       "    </tr>\n",
       "    <tr>\n",
       "      <td>2</td>\n",
       "      <td>0.440800</td>\n",
       "      <td>0.336836</td>\n",
       "      <td>0.896000</td>\n",
       "      <td>0.896000</td>\n",
       "      <td>0.824244</td>\n",
       "    </tr>\n",
       "    <tr>\n",
       "      <td>3</td>\n",
       "      <td>0.175800</td>\n",
       "      <td>0.301661</td>\n",
       "      <td>0.920000</td>\n",
       "      <td>0.920000</td>\n",
       "      <td>0.875554</td>\n",
       "    </tr>\n",
       "    <tr>\n",
       "      <td>4</td>\n",
       "      <td>0.079600</td>\n",
       "      <td>0.382388</td>\n",
       "      <td>0.906000</td>\n",
       "      <td>0.906000</td>\n",
       "      <td>0.859531</td>\n",
       "    </tr>\n",
       "    <tr>\n",
       "      <td>5</td>\n",
       "      <td>0.029900</td>\n",
       "      <td>0.447044</td>\n",
       "      <td>0.904000</td>\n",
       "      <td>0.904000</td>\n",
       "      <td>0.858877</td>\n",
       "    </tr>\n",
       "    <tr>\n",
       "      <td>6</td>\n",
       "      <td>0.017400</td>\n",
       "      <td>0.449899</td>\n",
       "      <td>0.916000</td>\n",
       "      <td>0.916000</td>\n",
       "      <td>0.867496</td>\n",
       "    </tr>\n",
       "    <tr>\n",
       "      <td>7</td>\n",
       "      <td>0.018600</td>\n",
       "      <td>0.466036</td>\n",
       "      <td>0.908000</td>\n",
       "      <td>0.908000</td>\n",
       "      <td>0.863223</td>\n",
       "    </tr>\n",
       "    <tr>\n",
       "      <td>8</td>\n",
       "      <td>0.013800</td>\n",
       "      <td>0.461195</td>\n",
       "      <td>0.910000</td>\n",
       "      <td>0.910000</td>\n",
       "      <td>0.865630</td>\n",
       "    </tr>\n",
       "  </tbody>\n",
       "</table><p>"
      ],
      "text/plain": [
       "<IPython.core.display.HTML object>"
      ]
     },
     "metadata": {},
     "output_type": "display_data"
    },
    {
     "name": "stdout",
     "output_type": "stream",
     "text": [
      "💾 experiment saved to: src/agnews/experiments/exp_real_only\n",
      "{'accuracy': '0.9200', 'precision': '0.9175', 'recall': '0.9200', 'f1': '0.9158'}\n"
     ]
    },
    {
     "data": {
      "text/plain": [
       "{'experiment_name': 'exp_real_only',\n",
       " 'experiment_dir': 'src/agnews/experiments/exp_real_only',\n",
       " 'generation_method': None,\n",
       " 'timestamp': '2025-03-16T00:48:45.082964',\n",
       " 'model': 'roberta-base',\n",
       " 'train_size': 500,\n",
       " 'dev_size': 500,\n",
       " 'synthetic_ratio': 0.0,\n",
       " 'train_time_seconds': 102.648193359375,\n",
       " 'metrics_dev': {'accuracy': 0.92,\n",
       "  'precision': 0.9175385836773579,\n",
       "  'recall': 0.92,\n",
       "  'f1': 0.9158177814691767}}"
      ]
     },
     "metadata": {},
     "output_type": "display_data"
    }
   ],
   "source": [
    "results = []\n",
    "train_details = main_multiclassRoBERTA(\n",
    "    real_df=real_train_df,\n",
    "    synth_df=None,\n",
    "    dev_df=dev_df,\n",
    "    synth_ratio=0.0,\n",
    "    max_samples=500,\n",
    "    output_dir=\"src/agnews/experiments/exp_500real\",\n",
    "    log_dir=\"src/agnews/experiments/RoBERTA_log.json\",\n",
    "    generation_method=None,\n",
    ")\n",
    "display(train_details)\n",
    "\n",
    "res = train_details[\"metrics_dev\"]\n",
    "res[\"method\"] = \"500real\"\n",
    "results.append(res)"
   ]
  },
  {
   "cell_type": "markdown",
   "metadata": {},
   "source": [
    "## 2. 250 Real + 250 Generic Augmentation"
   ]
  },
  {
   "cell_type": "code",
   "execution_count": null,
   "metadata": {},
   "outputs": [
    {
     "data": {
      "application/vnd.jupyter.widget-view+json": {
       "model_id": "8d45cd42bd9e4244a129566af44ddde7",
       "version_major": 2,
       "version_minor": 0
      },
      "text/plain": [
       "Map:   0%|          | 0/500 [00:00<?, ? examples/s]"
      ]
     },
     "metadata": {},
     "output_type": "display_data"
    },
    {
     "data": {
      "application/vnd.jupyter.widget-view+json": {
       "model_id": "9a5ac2dfc4064bd790b13167b8a643e7",
       "version_major": 2,
       "version_minor": 0
      },
      "text/plain": [
       "Map:   0%|          | 0/500 [00:00<?, ? examples/s]"
      ]
     },
     "metadata": {},
     "output_type": "display_data"
    },
    {
     "name": "stderr",
     "output_type": "stream",
     "text": [
      "Some weights of RobertaForSequenceClassification were not initialized from the model checkpoint at roberta-base and are newly initialized: ['classifier.dense.bias', 'classifier.dense.weight', 'classifier.out_proj.bias', 'classifier.out_proj.weight']\n",
      "You should probably TRAIN this model on a down-stream task to be able to use it for predictions and inference.\n"
     ]
    },
    {
     "data": {
      "text/html": [
       "\n",
       "    <div>\n",
       "      \n",
       "      <progress value='256' max='256' style='width:300px; height:20px; vertical-align: middle;'></progress>\n",
       "      [256/256 01:40, Epoch 8/8]\n",
       "    </div>\n",
       "    <table border=\"1\" class=\"dataframe\">\n",
       "  <thead>\n",
       " <tr style=\"text-align: left;\">\n",
       "      <th>Epoch</th>\n",
       "      <th>Training Loss</th>\n",
       "      <th>Validation Loss</th>\n",
       "      <th>F1</th>\n",
       "      <th>Accuracy</th>\n",
       "      <th>F1 Macro</th>\n",
       "    </tr>\n",
       "  </thead>\n",
       "  <tbody>\n",
       "    <tr>\n",
       "      <td>1</td>\n",
       "      <td>1.231800</td>\n",
       "      <td>0.719169</td>\n",
       "      <td>0.814000</td>\n",
       "      <td>0.814000</td>\n",
       "      <td>0.644890</td>\n",
       "    </tr>\n",
       "    <tr>\n",
       "      <td>2</td>\n",
       "      <td>0.536000</td>\n",
       "      <td>0.359767</td>\n",
       "      <td>0.884000</td>\n",
       "      <td>0.884000</td>\n",
       "      <td>0.826884</td>\n",
       "    </tr>\n",
       "    <tr>\n",
       "      <td>3</td>\n",
       "      <td>0.352000</td>\n",
       "      <td>0.391397</td>\n",
       "      <td>0.866000</td>\n",
       "      <td>0.866000</td>\n",
       "      <td>0.810246</td>\n",
       "    </tr>\n",
       "    <tr>\n",
       "      <td>4</td>\n",
       "      <td>0.226500</td>\n",
       "      <td>0.357997</td>\n",
       "      <td>0.898000</td>\n",
       "      <td>0.898000</td>\n",
       "      <td>0.844499</td>\n",
       "    </tr>\n",
       "    <tr>\n",
       "      <td>5</td>\n",
       "      <td>0.162300</td>\n",
       "      <td>0.365790</td>\n",
       "      <td>0.904000</td>\n",
       "      <td>0.904000</td>\n",
       "      <td>0.862773</td>\n",
       "    </tr>\n",
       "    <tr>\n",
       "      <td>6</td>\n",
       "      <td>0.119900</td>\n",
       "      <td>0.401643</td>\n",
       "      <td>0.904000</td>\n",
       "      <td>0.904000</td>\n",
       "      <td>0.858529</td>\n",
       "    </tr>\n",
       "    <tr>\n",
       "      <td>7</td>\n",
       "      <td>0.105700</td>\n",
       "      <td>0.401260</td>\n",
       "      <td>0.900000</td>\n",
       "      <td>0.900000</td>\n",
       "      <td>0.853468</td>\n",
       "    </tr>\n",
       "    <tr>\n",
       "      <td>8</td>\n",
       "      <td>0.081900</td>\n",
       "      <td>0.410169</td>\n",
       "      <td>0.900000</td>\n",
       "      <td>0.900000</td>\n",
       "      <td>0.851410</td>\n",
       "    </tr>\n",
       "  </tbody>\n",
       "</table><p>"
      ],
      "text/plain": [
       "<IPython.core.display.HTML object>"
      ]
     },
     "metadata": {},
     "output_type": "display_data"
    },
    {
     "name": "stdout",
     "output_type": "stream",
     "text": [
      "💾 experiment saved to: src/agnews/experiments/exp_random_aug_50\n",
      "{'accuracy': '0.9040', 'precision': '0.9045', 'recall': '0.9040', 'f1': '0.9042'}\n"
     ]
    },
    {
     "data": {
      "text/plain": [
       "{'experiment_name': 'exp_random_aug_50',\n",
       " 'experiment_dir': 'src/agnews/experiments/exp_random_aug_50',\n",
       " 'generation_method': 'generic augmentation',\n",
       " 'timestamp': '2025-03-16T00:50:34.463362',\n",
       " 'model': 'roberta-base',\n",
       " 'train_size': 500,\n",
       " 'dev_size': 500,\n",
       " 'synthetic_ratio': 0.5,\n",
       " 'train_time_seconds': 101.09387874603271,\n",
       " 'metrics_dev': {'accuracy': 0.904,\n",
       "  'precision': 0.9044560352560352,\n",
       "  'recall': 0.904,\n",
       "  'f1': 0.9042082137853499}}"
      ]
     },
     "metadata": {},
     "output_type": "display_data"
    }
   ],
   "source": [
    "train_details = main_multiclassRoBERTA(\n",
    "    real_df=real_train_df,\n",
    "    synth_df=syn_generic_df, # Generic Augmentation\n",
    "    dev_df=dev_df,\n",
    "    synth_ratio=0.5, # 50% of the data is synthetic\n",
    "    max_samples=500,\n",
    "    output_dir=\"src/agnews/experiments/exp_250real_250generic\",\n",
    "    log_dir=\"src/agnews/experiments/RoBERTA_log.json\",\n",
    "    generation_method=\"generic augmentation\",\n",
    ")\n",
    "display(train_details)\n",
    "\n",
    "res = train_details[\"metrics_dev\"]\n",
    "res[\"method\"] = \"250real_250generic\"\n",
    "results.append(res)"
   ]
  },
  {
   "cell_type": "markdown",
   "metadata": {},
   "source": [
    "## 3. 250 Real + 250 Targeted Augmentation"
   ]
  },
  {
   "cell_type": "code",
   "execution_count": null,
   "metadata": {},
   "outputs": [],
   "source": [
    "train_details = main_multiclassRoBERTA(\n",
    "    real_df=real_train_df,\n",
    "    synth_df=syn_targeted_df, # Targeted Augmentation\n",
    "    dev_df=dev_df,\n",
    "    synth_ratio=0.5, # 50% of the data is synthetic\n",
    "    max_samples=500,\n",
    "    output_dir=\"src/agnews/experiments/exp_250real_250targeted\",\n",
    "    log_dir=\"src/agnews/experiments/RoBERTA_log.json\",\n",
    "    generation_method=\"targeted augmentation\",\n",
    ")\n",
    "display(train_details)\n",
    "\n",
    "res = train_details[\"metrics_dev\"]\n",
    "res[\"method\"] = \"250real_250targeted\"\n",
    "results.append(res)"
   ]
  },
  {
   "cell_type": "markdown",
   "metadata": {},
   "source": [
    "## 4. 500 Generic Augmentation"
   ]
  },
  {
   "cell_type": "code",
   "execution_count": null,
   "metadata": {},
   "outputs": [],
   "source": [
    "train_details = main_multiclassRoBERTA(\n",
    "    real_df=None,\n",
    "    synth_df=syn_generic_df, # Generic Augmentation\n",
    "    dev_df=dev_df,\n",
    "    synth_ratio=1.0, # 100% of the data is synthetic\n",
    "    max_samples=500,\n",
    "    output_dir=\"src/agnews/experiments/exp_500generic\",\n",
    "    log_dir=\"src/agnews/experiments/RoBERTA_log.json\",\n",
    "    generation_method=\"generic augmentation\",\n",
    ")\n",
    "display(train_details)\n",
    "\n",
    "res = train_details[\"metrics_dev\"]\n",
    "res[\"method\"] = \"500generic\"\n",
    "results.append(res)"
   ]
  },
  {
   "cell_type": "markdown",
   "metadata": {},
   "source": [
    "## 5. 500 Targeted Augmentation"
   ]
  },
  {
   "cell_type": "code",
   "execution_count": null,
   "metadata": {},
   "outputs": [],
   "source": [
    "train_details = main_multiclassRoBERTA(\n",
    "    real_df=None,\n",
    "    synth_df=syn_targeted_df, # Targeted Augmentation\n",
    "    dev_df=dev_df,\n",
    "    synth_ratio=1.0, # 100% of the data is synthetic\n",
    "    max_samples=500,\n",
    "    output_dir=\"src/agnews/experiments/exp_500targeted\",\n",
    "    log_dir=\"src/agnews/experiments/RoBERTA_log.json\",\n",
    "    generation_method=\"targeted augmentation\",\n",
    ")\n",
    "display(train_details)\n",
    "\n",
    "res = train_details[\"metrics_dev\"]\n",
    "res[\"method\"] = \"500targeted\"\n",
    "results.append(res)"
   ]
  },
  {
   "cell_type": "markdown",
   "metadata": {},
   "source": [
    "## Results"
   ]
  },
  {
   "cell_type": "code",
   "execution_count": null,
   "metadata": {},
   "outputs": [],
   "source": [
    "df_results = pd.DataFrame(results)\n",
    "new_order = [\"method\"] + [col for col in df_results.columns if col != \"method\"]\n",
    "df_results = df_results[new_order]\n",
    "df_results.to_csv(\"src/agnews/experiments/results_RoBERTA.csv\", index=False)\n",
    "display(df_results)"
   ]
  },
  {
   "cell_type": "markdown",
   "metadata": {},
   "source": []
  }
 ],
 "metadata": {
  "kernelspec": {
   "display_name": "nlp-env",
   "language": "python",
   "name": "python3"
  },
  "language_info": {
   "codemirror_mode": {
    "name": "ipython",
    "version": 3
   },
   "file_extension": ".py",
   "mimetype": "text/x-python",
   "name": "python",
   "nbconvert_exporter": "python",
   "pygments_lexer": "ipython3",
   "version": "3.10.16"
  }
 },
 "nbformat": 4,
 "nbformat_minor": 2
}
